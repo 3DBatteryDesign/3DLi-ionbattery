{
 "cells": [
  {
   "cell_type": "code",
   "execution_count": 1,
   "id": "6a2d23e7",
   "metadata": {},
   "outputs": [],
   "source": [
    "import plot_geo as geo\n",
    "import pandas as pd"
   ]
  },
  {
   "cell_type": "markdown",
   "id": "82acca17",
   "metadata": {},
   "source": [
    "### The function `test_load_data()` tests the function `geo.load_data()`"
   ]
  },
  {
   "cell_type": "code",
   "execution_count": 3,
   "id": "5d0e4afe",
   "metadata": {
    "scrolled": true
   },
   "outputs": [],
   "source": [
    "def test_load_data():\n",
    "    \"\"\"\n",
    "    Tests if the object returned from geo.load_data() is a Pandas dataframe.\n",
    "    \"\"\"\n",
    "    merged_df = geo.load_data()\n",
    "    str_type = str(type(merged_df))\n",
    "    if str_type != \"<class 'pandas.core.frame.DataFrame'>\":\n",
    "        raise ValueError(f'The object returned is not a DataFrame.')\n",
    "        \n",
    "    print('Test passed')\n",
    "    return"
   ]
  },
  {
   "cell_type": "code",
   "execution_count": 4,
   "id": "594c3b28",
   "metadata": {},
   "outputs": [
    {
     "name": "stdout",
     "output_type": "stream",
     "text": [
      "Test passed\n"
     ]
    }
   ],
   "source": [
    "test_load_data()"
   ]
  },
  {
   "cell_type": "markdown",
   "id": "e52d450e",
   "metadata": {},
   "source": [
    "### The function `test_get_archs()` tests the function `get_archs(merged_df)`"
   ]
  },
  {
   "cell_type": "code",
   "execution_count": 5,
   "id": "f793b500",
   "metadata": {},
   "outputs": [],
   "source": [
    "def test_get_archs():\n",
    "    \"\"\"\n",
    "    Tests if the two objected returned from geo.get_archs() are lists of the same length.\n",
    "    \"\"\"\n",
    "    archs, arch_strings = geo.get_archs()\n",
    "    if type(archs) != list:\n",
    "        raise ValueError(f'The first object returned is not a list.')\n",
    "    if type(arch_strings) != list:\n",
    "        raise ValueError(f'The second object returned is not a list.')\n",
    "    if len(archs) != len(arch_strings):\n",
    "        raise ValueError(f'The two objects returned have different length.')\n",
    "        \n",
    "    print('Test passed')\n",
    "    return"
   ]
  },
  {
   "cell_type": "code",
   "execution_count": 6,
   "id": "cd86795e",
   "metadata": {},
   "outputs": [
    {
     "name": "stdout",
     "output_type": "stream",
     "text": [
      "Test passed\n"
     ]
    }
   ],
   "source": [
    "test_get_archs()"
   ]
  },
  {
   "cell_type": "markdown",
   "id": "f81d76fb",
   "metadata": {},
   "source": [
    "### The function `test_get_params()` tests the function `get_params(arch_type)`"
   ]
  },
  {
   "cell_type": "code",
   "execution_count": 14,
   "id": "4458ffc1",
   "metadata": {},
   "outputs": [],
   "source": [
    "def test_get_params():\n",
    "    \"\"\"\n",
    "    Tests if the two objected returned from geo.get_params() are lists of the same length.\n",
    "    Tests the function for arch_type = 'Overall Architecture', 'Cathode Architecture', and 'Anode Architecture'.\n",
    "    \"\"\"\n",
    "    overall_params, overall_errors = geo.get_params('Overall Architecture')\n",
    "    if type(overall_params) != list:\n",
    "        raise ValueError(f'The first object returned is not a list.')\n",
    "    if type(overall_errors) != list:\n",
    "        raise ValueError(f'The second object returned is not a list.')\n",
    "    if len(overall_params) != len(overall_errors):\n",
    "        raise ValueError(f'The two objects returned have different length.')\n",
    "        \n",
    "    cathode_params, cathode_errors = geo.get_params('Cathode Architecture')\n",
    "    if type(cathode_params) != list:\n",
    "        raise ValueError(f'The first object returned is not a list.')\n",
    "    if type(cathode_errors) != list:\n",
    "        raise ValueError(f'The second object returned is not a list.')\n",
    "    if len(cathode_params) != len(cathode_errors):\n",
    "        raise ValueError(f'The two objects returned have different length.')\n",
    "        \n",
    "    anode_params, anode_errors = geo.get_params('Anode Architecture')\n",
    "    if type(anode_params) != list:\n",
    "        raise ValueError(f'The first object returned is not a list.')\n",
    "    if type(anode_errors) != list:\n",
    "        raise ValueError(f'The second object returned is not a list.')\n",
    "    if len(anode_params) != len(anode_errors):\n",
    "        raise ValueError(f'The two objects returned have different length.')\n",
    "        \n",
    "    print('Test passed')\n",
    "    return"
   ]
  },
  {
   "cell_type": "code",
   "execution_count": 15,
   "id": "840f152e",
   "metadata": {
    "scrolled": true
   },
   "outputs": [
    {
     "name": "stdout",
     "output_type": "stream",
     "text": [
      "Test passed\n"
     ]
    }
   ],
   "source": [
    "test_get_params()"
   ]
  }
 ],
 "metadata": {
  "kernelspec": {
   "display_name": "Python 3",
   "language": "python",
   "name": "python3"
  },
  "language_info": {
   "codemirror_mode": {
    "name": "ipython",
    "version": 3
   },
   "file_extension": ".py",
   "mimetype": "text/x-python",
   "name": "python",
   "nbconvert_exporter": "python",
   "pygments_lexer": "ipython3",
   "version": "3.9.1"
  }
 },
 "nbformat": 4,
 "nbformat_minor": 5
}
