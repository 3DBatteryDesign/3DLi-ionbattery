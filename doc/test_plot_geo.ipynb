{
 "cells": [
  {
   "cell_type": "code",
   "execution_count": 1,
   "id": "6a2d23e7",
   "metadata": {},
   "outputs": [],
   "source": [
    "import plot_geo as geo\n",
    "import pandas as pd"
   ]
  },
  {
   "cell_type": "code",
   "execution_count": 6,
   "id": "59660792",
   "metadata": {},
   "outputs": [],
   "source": [
    "file = '3D_Battery_Parameter_Log.xls'\n",
    "sheet = 'GeometryParameters'\n",
    "df = geo.load_data(file, sheet)"
   ]
  },
  {
   "cell_type": "code",
   "execution_count": 7,
   "id": "b666d6b2",
   "metadata": {},
   "outputs": [
    {
     "data": {
      "text/html": [
       "<div>\n",
       "<style scoped>\n",
       "    .dataframe tbody tr th:only-of-type {\n",
       "        vertical-align: middle;\n",
       "    }\n",
       "\n",
       "    .dataframe tbody tr th {\n",
       "        vertical-align: top;\n",
       "    }\n",
       "\n",
       "    .dataframe thead th {\n",
       "        text-align: right;\n",
       "    }\n",
       "</style>\n",
       "<table border=\"1\" class=\"dataframe\">\n",
       "  <thead>\n",
       "    <tr style=\"text-align: right;\">\n",
       "      <th></th>\n",
       "      <th>Paper</th>\n",
       "      <th>Set</th>\n",
       "      <th>Full Cell Thickness [µm]</th>\n",
       "      <th>Cathode Thickness [µm]</th>\n",
       "      <th>Anode Thickness [µm]</th>\n",
       "      <th>Separator Thickness [µm]</th>\n",
       "      <th>Cathode Length [µm]</th>\n",
       "      <th>Anode Length [µm]</th>\n",
       "      <th>Overall Architecture</th>\n",
       "      <th>Cathode Architecture</th>\n",
       "      <th>Anode Architecture</th>\n",
       "    </tr>\n",
       "  </thead>\n",
       "  <tbody>\n",
       "    <tr>\n",
       "      <th>0</th>\n",
       "      <td>1</td>\n",
       "      <td>1</td>\n",
       "      <td>NaN</td>\n",
       "      <td>500.0</td>\n",
       "      <td>NaN</td>\n",
       "      <td>NaN</td>\n",
       "      <td>100.0</td>\n",
       "      <td>NaN</td>\n",
       "      <td>2.5D</td>\n",
       "      <td>Solid Column</td>\n",
       "      <td>1D</td>\n",
       "    </tr>\n",
       "    <tr>\n",
       "      <th>1</th>\n",
       "      <td>2</td>\n",
       "      <td>1</td>\n",
       "      <td>NaN</td>\n",
       "      <td>NaN</td>\n",
       "      <td>215.0</td>\n",
       "      <td>NaN</td>\n",
       "      <td>NaN</td>\n",
       "      <td>NaN</td>\n",
       "      <td>2.5D</td>\n",
       "      <td>1D</td>\n",
       "      <td>Coated Lattice</td>\n",
       "    </tr>\n",
       "    <tr>\n",
       "      <th>2</th>\n",
       "      <td>2</td>\n",
       "      <td>2</td>\n",
       "      <td>NaN</td>\n",
       "      <td>NaN</td>\n",
       "      <td>415.0</td>\n",
       "      <td>NaN</td>\n",
       "      <td>NaN</td>\n",
       "      <td>NaN</td>\n",
       "      <td>2.5D</td>\n",
       "      <td>1D</td>\n",
       "      <td>Coated Lattice</td>\n",
       "    </tr>\n",
       "    <tr>\n",
       "      <th>3</th>\n",
       "      <td>2</td>\n",
       "      <td>3</td>\n",
       "      <td>NaN</td>\n",
       "      <td>NaN</td>\n",
       "      <td>265.0</td>\n",
       "      <td>NaN</td>\n",
       "      <td>NaN</td>\n",
       "      <td>NaN</td>\n",
       "      <td>2.5D</td>\n",
       "      <td>1D</td>\n",
       "      <td>Coated Lattice</td>\n",
       "    </tr>\n",
       "    <tr>\n",
       "      <th>4</th>\n",
       "      <td>2</td>\n",
       "      <td>4</td>\n",
       "      <td>NaN</td>\n",
       "      <td>NaN</td>\n",
       "      <td>473.0</td>\n",
       "      <td>NaN</td>\n",
       "      <td>NaN</td>\n",
       "      <td>NaN</td>\n",
       "      <td>2.5D</td>\n",
       "      <td>1D</td>\n",
       "      <td>Coated Lattice</td>\n",
       "    </tr>\n",
       "  </tbody>\n",
       "</table>\n",
       "</div>"
      ],
      "text/plain": [
       "   Paper  Set  Full Cell Thickness [µm]  Cathode Thickness [µm]  \\\n",
       "0      1    1                       NaN                   500.0   \n",
       "1      2    1                       NaN                     NaN   \n",
       "2      2    2                       NaN                     NaN   \n",
       "3      2    3                       NaN                     NaN   \n",
       "4      2    4                       NaN                     NaN   \n",
       "\n",
       "   Anode Thickness [µm]  Separator Thickness [µm]  Cathode Length [µm]  \\\n",
       "0                   NaN                       NaN                100.0   \n",
       "1                 215.0                       NaN                  NaN   \n",
       "2                 415.0                       NaN                  NaN   \n",
       "3                 265.0                       NaN                  NaN   \n",
       "4                 473.0                       NaN                  NaN   \n",
       "\n",
       "   Anode Length [µm] Overall Architecture Cathode Architecture  \\\n",
       "0                NaN                 2.5D         Solid Column   \n",
       "1                NaN                 2.5D                   1D   \n",
       "2                NaN                 2.5D                   1D   \n",
       "3                NaN                 2.5D                   1D   \n",
       "4                NaN                 2.5D                   1D   \n",
       "\n",
       "  Anode Architecture  \n",
       "0                 1D  \n",
       "1     Coated Lattice  \n",
       "2     Coated Lattice  \n",
       "3     Coated Lattice  \n",
       "4     Coated Lattice  "
      ]
     },
     "execution_count": 7,
     "metadata": {},
     "output_type": "execute_result"
    }
   ],
   "source": [
    "df.head()"
   ]
  },
  {
   "cell_type": "markdown",
   "id": "82acca17",
   "metadata": {},
   "source": [
    "### The function `test_load_data()` tests the function `geo.load_data()`"
   ]
  },
  {
   "cell_type": "code",
   "execution_count": 16,
   "id": "5d0e4afe",
   "metadata": {
    "scrolled": true
   },
   "outputs": [],
   "source": [
    "def test_load_data():\n",
    "    \"\"\"\n",
    "    Tests if the object returned from geo.load_data() is a Pandas dataframe.\n",
    "    \"\"\"\n",
    "    file = '3D_Battery_Parameter_Log.xls'\n",
    "    sheet = 'GeometryParameters'\n",
    "    merged_df = geo.load_data(file, sheet)\n",
    "    str_type = str(type(merged_df))\n",
    "    if str_type != \"<class 'pandas.core.frame.DataFrame'>\":\n",
    "        raise ValueError(f'The object returned is not a DataFrame.')\n",
    "        \n",
    "    print('Test passed')\n",
    "    return"
   ]
  },
  {
   "cell_type": "code",
   "execution_count": 17,
   "id": "594c3b28",
   "metadata": {},
   "outputs": [
    {
     "name": "stdout",
     "output_type": "stream",
     "text": [
      "Test passed\n"
     ]
    }
   ],
   "source": [
    "test_load_data()"
   ]
  },
  {
   "cell_type": "markdown",
   "id": "e52d450e",
   "metadata": {},
   "source": [
    "### The function `test_get_archs()` tests the function `get_archs(merged_df)`"
   ]
  },
  {
   "cell_type": "code",
   "execution_count": 20,
   "id": "f793b500",
   "metadata": {},
   "outputs": [],
   "source": [
    "def test_get_archs():\n",
    "    \"\"\"\n",
    "    Tests if the two objected returned from geo.get_archs() are lists of the same length.\n",
    "    \"\"\"\n",
    "    archs, arch_strings = geo.get_archs(df)\n",
    "    if type(archs) != list:\n",
    "        raise ValueError(f'The first object returned is not a list.')\n",
    "    if type(arch_strings) != list:\n",
    "        raise ValueError(f'The second object returned is not a list.')\n",
    "    if len(archs) != len(arch_strings):\n",
    "        raise ValueError(f'The two objects returned have different length.')\n",
    "        \n",
    "    print('Test passed')\n",
    "    return"
   ]
  },
  {
   "cell_type": "code",
   "execution_count": 21,
   "id": "cd86795e",
   "metadata": {},
   "outputs": [
    {
     "name": "stdout",
     "output_type": "stream",
     "text": [
      "Test passed\n"
     ]
    }
   ],
   "source": [
    "test_get_archs()"
   ]
  },
  {
   "cell_type": "markdown",
   "id": "f81d76fb",
   "metadata": {},
   "source": [
    "### The function `test_get_params()` tests the function `get_params(arch_type)`"
   ]
  },
  {
   "cell_type": "code",
   "execution_count": 26,
   "id": "4458ffc1",
   "metadata": {},
   "outputs": [],
   "source": [
    "def test_get_params():\n",
    "    \"\"\"\n",
    "    Tests if the two objected returned from geo.get_params() are lists of the same length.\n",
    "    Tests the function for arch_type = 'Overall Architecture', 'Cathode Architecture', and 'Anode Architecture'.\n",
    "    \"\"\"\n",
    "    overall_params, overall_errors = geo.get_params(df, 'Overall Architecture')\n",
    "    if type(overall_params) != list:\n",
    "        raise ValueError(f'The first object returned is not a list.')\n",
    "    if type(overall_errors) != list:\n",
    "        raise ValueError(f'The second object returned is not a list.')\n",
    "    if len(overall_params) != len(overall_errors):\n",
    "        raise ValueError(f'The two objects returned have different length.')\n",
    "        \n",
    "    cathode_params, cathode_errors = geo.get_params(df, 'Cathode Architecture')\n",
    "    if type(cathode_params) != list:\n",
    "        raise ValueError(f'The first object returned is not a list.')\n",
    "    if type(cathode_errors) != list:\n",
    "        raise ValueError(f'The second object returned is not a list.')\n",
    "    if len(cathode_params) != len(cathode_errors):\n",
    "        raise ValueError(f'The two objects returned have different length.')\n",
    "        \n",
    "    anode_params, anode_errors = geo.get_params(df, 'Anode Architecture')\n",
    "    if type(anode_params) != list:\n",
    "        raise ValueError(f'The first object returned is not a list.')\n",
    "    if type(anode_errors) != list:\n",
    "        raise ValueError(f'The second object returned is not a list.')\n",
    "    if len(anode_params) != len(anode_errors):\n",
    "        raise ValueError(f'The two objects returned have different length.')\n",
    "        \n",
    "    print('Test passed')\n",
    "    return"
   ]
  },
  {
   "cell_type": "code",
   "execution_count": 27,
   "id": "840f152e",
   "metadata": {
    "scrolled": true
   },
   "outputs": [
    {
     "name": "stdout",
     "output_type": "stream",
     "text": [
      "Test passed\n"
     ]
    }
   ],
   "source": [
    "test_get_params()"
   ]
  },
  {
   "cell_type": "code",
   "execution_count": 9,
   "id": "06f25ebb",
   "metadata": {
    "scrolled": true
   },
   "outputs": [
    {
     "data": {
      "application/vnd.jupyter.widget-view+json": {
       "model_id": "39af8c1f4985476db9ea7974a4443867",
       "version_major": 2,
       "version_minor": 0
      },
      "text/plain": [
       "interactive(children=(Dropdown(description='Architecture type', options=('Overall Architecture', 'Cathode Arch…"
      ]
     },
     "metadata": {},
     "output_type": "display_data"
    },
    {
     "data": {
      "text/plain": [
       "<function plot_geo.plot_geo_params(merged_df, arch_type, param, save_plot)>"
      ]
     },
     "metadata": {},
     "output_type": "display_data"
    }
   ],
   "source": [
    "geo.interactive_plot_geo_params(df)"
   ]
  }
 ],
 "metadata": {
  "kernelspec": {
   "display_name": "Python 3",
   "language": "python",
   "name": "python3"
  },
  "language_info": {
   "codemirror_mode": {
    "name": "ipython",
    "version": 3
   },
   "file_extension": ".py",
   "mimetype": "text/x-python",
   "name": "python",
   "nbconvert_exporter": "python",
   "pygments_lexer": "ipython3",
   "version": "3.9.1"
  }
 },
 "nbformat": 4,
 "nbformat_minor": 5
}
