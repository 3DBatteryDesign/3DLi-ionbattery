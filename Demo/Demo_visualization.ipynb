{
 "cells": [
  {
   "cell_type": "code",
   "execution_count": 3,
   "metadata": {},
   "outputs": [],
   "source": [
    "import numpy as np\n",
    "import pandas as pd\n",
    "import matplotlib\n",
    "from matplotlib import pyplot as plt\n",
    "import sklearn\n",
    "from scipy.optimize import curve_fit\n",
    "\n",
    "import re\n",
    "\n",
    "import ipywidgets as widgets\n",
    "\n",
    "import os\n",
    "import sys\n",
    "sys.path.append('../liibattery3d')\n",
    "import visualization"
   ]
  },
  {
   "cell_type": "markdown",
   "metadata": {},
   "source": [
    "###### Load  and save Battery Performance excel sheets to pandas dataframes named \"Battery_Performance_sheet_name\""
   ]
  },
  {
   "cell_type": "code",
   "execution_count": 4,
   "metadata": {},
   "outputs": [
    {
     "ename": "FileNotFoundError",
     "evalue": "[Errno 2] No such file or directory: 'NEW_3D_Battery_Performance_Log.xls'",
     "output_type": "error",
     "traceback": [
      "\u001b[0;31m---------------------------------------------------------------------------\u001b[0m",
      "\u001b[0;31mFileNotFoundError\u001b[0m                         Traceback (most recent call last)",
      "\u001b[0;32m<ipython-input-4-9977d639f758>\u001b[0m in \u001b[0;36m<module>\u001b[0;34m\u001b[0m\n\u001b[0;32m----> 1\u001b[0;31m \u001b[0mBattery_Performance\u001b[0m \u001b[0;34m=\u001b[0m \u001b[0mpd\u001b[0m\u001b[0;34m.\u001b[0m\u001b[0mread_excel\u001b[0m\u001b[0;34m(\u001b[0m\u001b[0;34m'NEW_3D_Battery_Performance_Log.xls'\u001b[0m\u001b[0;34m,\u001b[0m \u001b[0msheet_name\u001b[0m \u001b[0;34m=\u001b[0m \u001b[0;32mNone\u001b[0m\u001b[0;34m,\u001b[0m \u001b[0mheader\u001b[0m\u001b[0;34m=\u001b[0m\u001b[0;34m[\u001b[0m\u001b[0;36m0\u001b[0m\u001b[0;34m,\u001b[0m \u001b[0;36m1\u001b[0m\u001b[0;34m,\u001b[0m \u001b[0;36m2\u001b[0m\u001b[0;34m]\u001b[0m\u001b[0;34m)\u001b[0m\u001b[0;34m\u001b[0m\u001b[0;34m\u001b[0m\u001b[0m\n\u001b[0m",
      "\u001b[0;32m~/miniconda3/lib/python3.8/site-packages/pandas/util/_decorators.py\u001b[0m in \u001b[0;36mwrapper\u001b[0;34m(*args, **kwargs)\u001b[0m\n\u001b[1;32m    297\u001b[0m                 )\n\u001b[1;32m    298\u001b[0m                 \u001b[0mwarnings\u001b[0m\u001b[0;34m.\u001b[0m\u001b[0mwarn\u001b[0m\u001b[0;34m(\u001b[0m\u001b[0mmsg\u001b[0m\u001b[0;34m,\u001b[0m \u001b[0mFutureWarning\u001b[0m\u001b[0;34m,\u001b[0m \u001b[0mstacklevel\u001b[0m\u001b[0;34m=\u001b[0m\u001b[0mstacklevel\u001b[0m\u001b[0;34m)\u001b[0m\u001b[0;34m\u001b[0m\u001b[0;34m\u001b[0m\u001b[0m\n\u001b[0;32m--> 299\u001b[0;31m             \u001b[0;32mreturn\u001b[0m \u001b[0mfunc\u001b[0m\u001b[0;34m(\u001b[0m\u001b[0;34m*\u001b[0m\u001b[0margs\u001b[0m\u001b[0;34m,\u001b[0m \u001b[0;34m**\u001b[0m\u001b[0mkwargs\u001b[0m\u001b[0;34m)\u001b[0m\u001b[0;34m\u001b[0m\u001b[0;34m\u001b[0m\u001b[0m\n\u001b[0m\u001b[1;32m    300\u001b[0m \u001b[0;34m\u001b[0m\u001b[0m\n\u001b[1;32m    301\u001b[0m         \u001b[0;32mreturn\u001b[0m \u001b[0mwrapper\u001b[0m\u001b[0;34m\u001b[0m\u001b[0;34m\u001b[0m\u001b[0m\n",
      "\u001b[0;32m~/miniconda3/lib/python3.8/site-packages/pandas/io/excel/_base.py\u001b[0m in \u001b[0;36mread_excel\u001b[0;34m(io, sheet_name, header, names, index_col, usecols, squeeze, dtype, engine, converters, true_values, false_values, skiprows, nrows, na_values, keep_default_na, na_filter, verbose, parse_dates, date_parser, thousands, comment, skipfooter, convert_float, mangle_dupe_cols, storage_options)\u001b[0m\n\u001b[1;32m    334\u001b[0m     \u001b[0;32mif\u001b[0m \u001b[0;32mnot\u001b[0m \u001b[0misinstance\u001b[0m\u001b[0;34m(\u001b[0m\u001b[0mio\u001b[0m\u001b[0;34m,\u001b[0m \u001b[0mExcelFile\u001b[0m\u001b[0;34m)\u001b[0m\u001b[0;34m:\u001b[0m\u001b[0;34m\u001b[0m\u001b[0;34m\u001b[0m\u001b[0m\n\u001b[1;32m    335\u001b[0m         \u001b[0mshould_close\u001b[0m \u001b[0;34m=\u001b[0m \u001b[0;32mTrue\u001b[0m\u001b[0;34m\u001b[0m\u001b[0;34m\u001b[0m\u001b[0m\n\u001b[0;32m--> 336\u001b[0;31m         \u001b[0mio\u001b[0m \u001b[0;34m=\u001b[0m \u001b[0mExcelFile\u001b[0m\u001b[0;34m(\u001b[0m\u001b[0mio\u001b[0m\u001b[0;34m,\u001b[0m \u001b[0mstorage_options\u001b[0m\u001b[0;34m=\u001b[0m\u001b[0mstorage_options\u001b[0m\u001b[0;34m,\u001b[0m \u001b[0mengine\u001b[0m\u001b[0;34m=\u001b[0m\u001b[0mengine\u001b[0m\u001b[0;34m)\u001b[0m\u001b[0;34m\u001b[0m\u001b[0;34m\u001b[0m\u001b[0m\n\u001b[0m\u001b[1;32m    337\u001b[0m     \u001b[0;32melif\u001b[0m \u001b[0mengine\u001b[0m \u001b[0;32mand\u001b[0m \u001b[0mengine\u001b[0m \u001b[0;34m!=\u001b[0m \u001b[0mio\u001b[0m\u001b[0;34m.\u001b[0m\u001b[0mengine\u001b[0m\u001b[0;34m:\u001b[0m\u001b[0;34m\u001b[0m\u001b[0;34m\u001b[0m\u001b[0m\n\u001b[1;32m    338\u001b[0m         raise ValueError(\n",
      "\u001b[0;32m~/miniconda3/lib/python3.8/site-packages/pandas/io/excel/_base.py\u001b[0m in \u001b[0;36m__init__\u001b[0;34m(self, path_or_buffer, engine, storage_options)\u001b[0m\n\u001b[1;32m   1069\u001b[0m                 \u001b[0mext\u001b[0m \u001b[0;34m=\u001b[0m \u001b[0;34m\"xls\"\u001b[0m\u001b[0;34m\u001b[0m\u001b[0;34m\u001b[0m\u001b[0m\n\u001b[1;32m   1070\u001b[0m             \u001b[0;32melse\u001b[0m\u001b[0;34m:\u001b[0m\u001b[0;34m\u001b[0m\u001b[0;34m\u001b[0m\u001b[0m\n\u001b[0;32m-> 1071\u001b[0;31m                 ext = inspect_excel_format(\n\u001b[0m\u001b[1;32m   1072\u001b[0m                     \u001b[0mcontent\u001b[0m\u001b[0;34m=\u001b[0m\u001b[0mpath_or_buffer\u001b[0m\u001b[0;34m,\u001b[0m \u001b[0mstorage_options\u001b[0m\u001b[0;34m=\u001b[0m\u001b[0mstorage_options\u001b[0m\u001b[0;34m\u001b[0m\u001b[0;34m\u001b[0m\u001b[0m\n\u001b[1;32m   1073\u001b[0m                 )\n",
      "\u001b[0;32m~/miniconda3/lib/python3.8/site-packages/pandas/io/excel/_base.py\u001b[0m in \u001b[0;36minspect_excel_format\u001b[0;34m(path, content, storage_options)\u001b[0m\n\u001b[1;32m    947\u001b[0m     \u001b[0;32massert\u001b[0m \u001b[0mcontent_or_path\u001b[0m \u001b[0;32mis\u001b[0m \u001b[0;32mnot\u001b[0m \u001b[0;32mNone\u001b[0m\u001b[0;34m\u001b[0m\u001b[0;34m\u001b[0m\u001b[0m\n\u001b[1;32m    948\u001b[0m \u001b[0;34m\u001b[0m\u001b[0m\n\u001b[0;32m--> 949\u001b[0;31m     with get_handle(\n\u001b[0m\u001b[1;32m    950\u001b[0m         \u001b[0mcontent_or_path\u001b[0m\u001b[0;34m,\u001b[0m \u001b[0;34m\"rb\"\u001b[0m\u001b[0;34m,\u001b[0m \u001b[0mstorage_options\u001b[0m\u001b[0;34m=\u001b[0m\u001b[0mstorage_options\u001b[0m\u001b[0;34m,\u001b[0m \u001b[0mis_text\u001b[0m\u001b[0;34m=\u001b[0m\u001b[0;32mFalse\u001b[0m\u001b[0;34m\u001b[0m\u001b[0;34m\u001b[0m\u001b[0m\n\u001b[1;32m    951\u001b[0m     ) as handle:\n",
      "\u001b[0;32m~/miniconda3/lib/python3.8/site-packages/pandas/io/common.py\u001b[0m in \u001b[0;36mget_handle\u001b[0;34m(path_or_buf, mode, encoding, compression, memory_map, is_text, errors, storage_options)\u001b[0m\n\u001b[1;32m    649\u001b[0m         \u001b[0;32melse\u001b[0m\u001b[0;34m:\u001b[0m\u001b[0;34m\u001b[0m\u001b[0;34m\u001b[0m\u001b[0m\n\u001b[1;32m    650\u001b[0m             \u001b[0;31m# Binary mode\u001b[0m\u001b[0;34m\u001b[0m\u001b[0;34m\u001b[0m\u001b[0;34m\u001b[0m\u001b[0m\n\u001b[0;32m--> 651\u001b[0;31m             \u001b[0mhandle\u001b[0m \u001b[0;34m=\u001b[0m \u001b[0mopen\u001b[0m\u001b[0;34m(\u001b[0m\u001b[0mhandle\u001b[0m\u001b[0;34m,\u001b[0m \u001b[0mioargs\u001b[0m\u001b[0;34m.\u001b[0m\u001b[0mmode\u001b[0m\u001b[0;34m)\u001b[0m\u001b[0;34m\u001b[0m\u001b[0;34m\u001b[0m\u001b[0m\n\u001b[0m\u001b[1;32m    652\u001b[0m         \u001b[0mhandles\u001b[0m\u001b[0;34m.\u001b[0m\u001b[0mappend\u001b[0m\u001b[0;34m(\u001b[0m\u001b[0mhandle\u001b[0m\u001b[0;34m)\u001b[0m\u001b[0;34m\u001b[0m\u001b[0;34m\u001b[0m\u001b[0m\n\u001b[1;32m    653\u001b[0m \u001b[0;34m\u001b[0m\u001b[0m\n",
      "\u001b[0;31mFileNotFoundError\u001b[0m: [Errno 2] No such file or directory: 'NEW_3D_Battery_Performance_Log.xls'"
     ]
    }
   ],
   "source": [
    "Battery_Performance = pd.read_excel('NEW_3D_Battery_Performance_Log.xls', sheet_name = None, header=[0, 1, 2])"
   ]
  },
  {
   "cell_type": "code",
   "execution_count": 5,
   "metadata": {
    "scrolled": true
   },
   "outputs": [
    {
     "ename": "FileNotFoundError",
     "evalue": "[Errno 2] No such file or directory: 'NEW_3D_Battery_Performance_Log.xls'",
     "output_type": "error",
     "traceback": [
      "\u001b[0;31m---------------------------------------------------------------------------\u001b[0m",
      "\u001b[0;31mFileNotFoundError\u001b[0m                         Traceback (most recent call last)",
      "\u001b[0;32m<ipython-input-5-df8a3b49c2bc>\u001b[0m in \u001b[0;36m<module>\u001b[0;34m\u001b[0m\n\u001b[0;32m----> 1\u001b[0;31m \u001b[0mBattery_Performance_sheet_names\u001b[0m \u001b[0;34m=\u001b[0m \u001b[0mpd\u001b[0m\u001b[0;34m.\u001b[0m\u001b[0mExcelFile\u001b[0m\u001b[0;34m(\u001b[0m\u001b[0;34m'NEW_3D_Battery_Performance_Log.xls'\u001b[0m\u001b[0;34m)\u001b[0m\u001b[0;34m.\u001b[0m\u001b[0msheet_names\u001b[0m\u001b[0;34m\u001b[0m\u001b[0;34m\u001b[0m\u001b[0m\n\u001b[0m",
      "\u001b[0;32m~/miniconda3/lib/python3.8/site-packages/pandas/io/excel/_base.py\u001b[0m in \u001b[0;36m__init__\u001b[0;34m(self, path_or_buffer, engine, storage_options)\u001b[0m\n\u001b[1;32m   1069\u001b[0m                 \u001b[0mext\u001b[0m \u001b[0;34m=\u001b[0m \u001b[0;34m\"xls\"\u001b[0m\u001b[0;34m\u001b[0m\u001b[0;34m\u001b[0m\u001b[0m\n\u001b[1;32m   1070\u001b[0m             \u001b[0;32melse\u001b[0m\u001b[0;34m:\u001b[0m\u001b[0;34m\u001b[0m\u001b[0;34m\u001b[0m\u001b[0m\n\u001b[0;32m-> 1071\u001b[0;31m                 ext = inspect_excel_format(\n\u001b[0m\u001b[1;32m   1072\u001b[0m                     \u001b[0mcontent\u001b[0m\u001b[0;34m=\u001b[0m\u001b[0mpath_or_buffer\u001b[0m\u001b[0;34m,\u001b[0m \u001b[0mstorage_options\u001b[0m\u001b[0;34m=\u001b[0m\u001b[0mstorage_options\u001b[0m\u001b[0;34m\u001b[0m\u001b[0;34m\u001b[0m\u001b[0m\n\u001b[1;32m   1073\u001b[0m                 )\n",
      "\u001b[0;32m~/miniconda3/lib/python3.8/site-packages/pandas/io/excel/_base.py\u001b[0m in \u001b[0;36minspect_excel_format\u001b[0;34m(path, content, storage_options)\u001b[0m\n\u001b[1;32m    947\u001b[0m     \u001b[0;32massert\u001b[0m \u001b[0mcontent_or_path\u001b[0m \u001b[0;32mis\u001b[0m \u001b[0;32mnot\u001b[0m \u001b[0;32mNone\u001b[0m\u001b[0;34m\u001b[0m\u001b[0;34m\u001b[0m\u001b[0m\n\u001b[1;32m    948\u001b[0m \u001b[0;34m\u001b[0m\u001b[0m\n\u001b[0;32m--> 949\u001b[0;31m     with get_handle(\n\u001b[0m\u001b[1;32m    950\u001b[0m         \u001b[0mcontent_or_path\u001b[0m\u001b[0;34m,\u001b[0m \u001b[0;34m\"rb\"\u001b[0m\u001b[0;34m,\u001b[0m \u001b[0mstorage_options\u001b[0m\u001b[0;34m=\u001b[0m\u001b[0mstorage_options\u001b[0m\u001b[0;34m,\u001b[0m \u001b[0mis_text\u001b[0m\u001b[0;34m=\u001b[0m\u001b[0;32mFalse\u001b[0m\u001b[0;34m\u001b[0m\u001b[0;34m\u001b[0m\u001b[0m\n\u001b[1;32m    951\u001b[0m     ) as handle:\n",
      "\u001b[0;32m~/miniconda3/lib/python3.8/site-packages/pandas/io/common.py\u001b[0m in \u001b[0;36mget_handle\u001b[0;34m(path_or_buf, mode, encoding, compression, memory_map, is_text, errors, storage_options)\u001b[0m\n\u001b[1;32m    649\u001b[0m         \u001b[0;32melse\u001b[0m\u001b[0;34m:\u001b[0m\u001b[0;34m\u001b[0m\u001b[0;34m\u001b[0m\u001b[0m\n\u001b[1;32m    650\u001b[0m             \u001b[0;31m# Binary mode\u001b[0m\u001b[0;34m\u001b[0m\u001b[0;34m\u001b[0m\u001b[0;34m\u001b[0m\u001b[0m\n\u001b[0;32m--> 651\u001b[0;31m             \u001b[0mhandle\u001b[0m \u001b[0;34m=\u001b[0m \u001b[0mopen\u001b[0m\u001b[0;34m(\u001b[0m\u001b[0mhandle\u001b[0m\u001b[0;34m,\u001b[0m \u001b[0mioargs\u001b[0m\u001b[0;34m.\u001b[0m\u001b[0mmode\u001b[0m\u001b[0;34m)\u001b[0m\u001b[0;34m\u001b[0m\u001b[0;34m\u001b[0m\u001b[0m\n\u001b[0m\u001b[1;32m    652\u001b[0m         \u001b[0mhandles\u001b[0m\u001b[0;34m.\u001b[0m\u001b[0mappend\u001b[0m\u001b[0;34m(\u001b[0m\u001b[0mhandle\u001b[0m\u001b[0;34m)\u001b[0m\u001b[0;34m\u001b[0m\u001b[0;34m\u001b[0m\u001b[0m\n\u001b[1;32m    653\u001b[0m \u001b[0;34m\u001b[0m\u001b[0m\n",
      "\u001b[0;31mFileNotFoundError\u001b[0m: [Errno 2] No such file or directory: 'NEW_3D_Battery_Performance_Log.xls'"
     ]
    }
   ],
   "source": [
    "Battery_Performance_sheet_names = pd.ExcelFile('NEW_3D_Battery_Performance_Log.xls').sheet_names"
   ]
  },
  {
   "cell_type": "code",
   "execution_count": null,
   "metadata": {},
   "outputs": [],
   "source": [
    "Battery_Performance_sheet_names"
   ]
  },
  {
   "cell_type": "code",
   "execution_count": null,
   "metadata": {},
   "outputs": [],
   "source": [
    "for i, j in enumerate(Battery_Performance_sheet_names):\n",
    "    globals()[f'Battery_Performance_{j}'] = Battery_Performance[Battery_Performance_sheet_names[i]]"
   ]
  },
  {
   "cell_type": "markdown",
   "metadata": {},
   "source": [
    "###### Load and save Battery Performance excel sheets to pandas dataframes named \"Battery_Parameter_sheet_name\""
   ]
  },
  {
   "cell_type": "code",
   "execution_count": null,
   "metadata": {},
   "outputs": [],
   "source": [
    "Battery_Parameter = pd.read_excel('NEW_3D_Battery_Parameter_Log.xls', sheet_name = None)#, header=[0, 1, 2]) rework the excel file and come back to headers..."
   ]
  },
  {
   "cell_type": "code",
   "execution_count": null,
   "metadata": {},
   "outputs": [],
   "source": [
    "Battery_Parameter_sheet_names = pd.ExcelFile('NEW_3D_Battery_Parameter_Log.xls').sheet_names"
   ]
  },
  {
   "cell_type": "code",
   "execution_count": null,
   "metadata": {},
   "outputs": [],
   "source": [
    "Battery_Parameter_sheet_names"
   ]
  },
  {
   "cell_type": "code",
   "execution_count": null,
   "metadata": {},
   "outputs": [],
   "source": [
    "for i, j in enumerate(Battery_Parameter_sheet_names):\n",
    "    globals()[f'Battery_Parameter_{j}'] = Battery_Parameter[Battery_Parameter_sheet_names[i]]"
   ]
  },
  {
   "cell_type": "markdown",
   "metadata": {},
   "source": [
    "###### Preview pandas dataframes"
   ]
  },
  {
   "cell_type": "code",
   "execution_count": null,
   "metadata": {},
   "outputs": [],
   "source": [
    "## HINT: type \"Battery_Performance_\" or Battery_Parameter_\", then use tab to quickly fill out the rest of a variable!"
   ]
  },
  {
   "cell_type": "code",
   "execution_count": null,
   "metadata": {},
   "outputs": [],
   "source": [
    "#Battery_Performance_"
   ]
  },
  {
   "cell_type": "code",
   "execution_count": null,
   "metadata": {},
   "outputs": [],
   "source": [
    "Battery_Parameter_MaterialParameters"
   ]
  },
  {
   "cell_type": "code",
   "execution_count": null,
   "metadata": {},
   "outputs": [],
   "source": [
    "df = Battery_Performance_1_Discharge_Cover2"
   ]
  },
  {
   "cell_type": "code",
   "execution_count": null,
   "metadata": {},
   "outputs": [],
   "source": [
    "len(df.columns)"
   ]
  },
  {
   "cell_type": "code",
   "execution_count": null,
   "metadata": {},
   "outputs": [],
   "source": [
    "Battery_Parameter_GeometryParameters"
   ]
  },
  {
   "cell_type": "markdown",
   "metadata": {},
   "source": [
    "#REFERENCES FOR MULTI-INDEXING\n",
    "\n",
    "https://pandas.pydata.org/pandas-docs/stable/user_guide/advanced.html\n",
    "\n",
    "https://stackoverflow.com/questions/40554106/read-excel-sheet-with-multiple-header-using-pandas"
   ]
  },
  {
   "cell_type": "code",
   "execution_count": null,
   "metadata": {
    "scrolled": false
   },
   "outputs": [],
   "source": [
    "matplotlib.rcParams.update({'font.size': 10})\n",
    "fig = plt.figure(figsize=(20,20))\n",
    "#ax = fig.subplots(nrows=5,ncols=4)\n",
    "#jet= plt.get_cmap('jet')\n",
    "#colors = iter(jet(np.linspace(0,1,20)))\n",
    "\n",
    "for i in range(int(len(df.columns)/2)):\n",
    "    ax = plt.subplot(5, 4, i+1)\n",
    "    ax.plot(df.iloc[:,2*i].values[1:],df.iloc[:,2*i+1].values[1:],color='k',marker='o', linewidth=0)\n",
    "    #ax.set_xlim([0,40])\n",
    "    #ax.set_ylim([0,200])\n",
    "    #ax.set_xscale('log')\n",
    "    #ax.set_yscale('log')"
   ]
  },
  {
   "cell_type": "markdown",
   "metadata": {},
   "source": [
    "#### Define the Euqation to be fitted"
   ]
  },
  {
   "cell_type": "code",
   "execution_count": null,
   "metadata": {},
   "outputs": [],
   "source": [
    "def objective(R,t,n,Q):\n",
    "    return Q*(1-( (R*t) ** n ) * (1 - np.exp(- ((R*t) ** (-n)) )) )"
   ]
  },
  {
   "cell_type": "code",
   "execution_count": null,
   "metadata": {},
   "outputs": [],
   "source": [
    "def plot_fit(R,y,t,n,Q):\n",
    "    # plot data as scattered points\n",
    "    plt.scatter(R, y)\n",
    "    # define a sequence of x-axis point based on the limits of the data\n",
    "    R_line = np.arange(0.5*min(R), 1.5*max(R), 0.01)\n",
    "    # calculate y with the fitted equation\n",
    "    y_line = objective(R_line, t, n, Q)\n",
    "    # plot equation\n",
    "    plt.plot(R_line, y_line, '--', color='red')\n",
    "    return"
   ]
  },
  {
   "cell_type": "code",
   "execution_count": null,
   "metadata": {
    "scrolled": false
   },
   "outputs": [],
   "source": [
    "matplotlib.rcParams.update({'font.size': 18})\n",
    "fig = plt.figure(figsize=(24,28))\n",
    "#ax = fig.subplots(nrows=5,ncols=4)\n",
    "list_of_t = []\n",
    "list_of_n = []\n",
    "list_of_Q = []\n",
    "list_of_col = []\n",
    "for i in range(int(len(df.columns)/2)):\n",
    "    # choose the input and output variables\n",
    "    R = df.iloc[:,2*i].values[0:]\n",
    "    R = R[~pd.isnull(R)]\n",
    "    y = df.iloc[:,2*i+1].values[0:]\n",
    "    y = y[~pd.isnull(y)]\n",
    "    if len(R)>=4:\n",
    "        par, cov = curve_fit(objective, R, y, p0=[100,0.5,100])#, bounds=([-np.inf, 0, 0],[np.inf, 10, 500]))\n",
    "        t,n,Q = par\n",
    "        #print(\"\\n\\n\")\n",
    "        #par_std(t, n, Q, cov)\n",
    "        std = np.sqrt(np.diag(cov))\n",
    "        labs = '#'+str(i)+'\\nt = ' + f'{t:.2f}' +'\\nn = ' + f'{n:.2f}' + '\\nQ = ' + f'{Q:.2f}'\n",
    "        ax = plt.subplot(5, 4, i+1, title= '\\nstd =' + f'{std[0]:.2f}'+ ','+ f'{std[1]:.2f}'+ ',' + f'{std[2]:.2f}')\n",
    "        plt.text(0.1, 0.1, labs, transform=ax.transAxes)\n",
    "        #ax.legend(lab,fontsize=18)\n",
    "        ax = plot_fit(R, y, t, n, Q)\n",
    "    else:\n",
    "        t = 0\n",
    "        n = 0\n",
    "        Q = 0\n",
    "        ax = plt.subplot(5, 4, i+1)\n",
    "        plt.text(0.1, 0.1, 'not enough datapoints', transform=ax.transAxes)\n",
    "        ax = plt.scatter(R,y)\n",
    "    \n",
    "    list_of_t.append(t)\n",
    "    list_of_n.append(n)\n",
    "    list_of_Q.append(Q)"
   ]
  },
  {
   "cell_type": "markdown",
   "metadata": {},
   "source": [
    "### We can single out specific column that does not fit well with the general setting\n",
    "We can set the initial point ***p0*** and parameter bounds ***bounds*** to cutomize the optimization alg."
   ]
  },
  {
   "cell_type": "code",
   "execution_count": null,
   "metadata": {},
   "outputs": [],
   "source": [
    "df.head(60)"
   ]
  },
  {
   "cell_type": "code",
   "execution_count": null,
   "metadata": {},
   "outputs": [],
   "source": [
    "Battery_Parameter_GeometryParameters"
   ]
  },
  {
   "cell_type": "code",
   "execution_count": null,
   "metadata": {
    "scrolled": false
   },
   "outputs": [],
   "source": [
    "matplotlib.rcParams.update({'font.size': 18})\n",
    "fig = plt.figure(figsize=(24,26))\n",
    "\n",
    "# Specify case/dataset number and locate the R and y values\n",
    "i=2\n",
    "R = df.iloc[:,2*i].values[0:]\n",
    "R = R[~pd.isnull(R)]\n",
    "y = df.iloc[:,2*i+1].values[0:]\n",
    "y = y[~pd.isnull(y)]\n",
    "\n",
    "par, cov = curve_fit(objective, R, y, p0=[100,0.4,100])#, bounds=([-1, 0, 0],[np.inf, 10, 500]))\n",
    "t,n,Q = par\n",
    "std = np.sqrt(np.diag(cov))\n",
    "labs = 't = ' + f'{t:.2f}' +'\\nn = ' + f'{n:.2f}'+'\\nQ = ' + f'{Q:.2f}'\n",
    "ax = plt.subplot(5, 4, i+1)\n",
    "plt.text(0.1, 0.1, labs, transform=ax.transAxes)\n",
    "ax = plot_fit(R, y, t, n, Q)\n",
    "print(std)\n",
    "\n",
    "# Update the output fitting parameter\n",
    "#list_of_t[9] = t\n",
    "#list_of_n[9] = n\n",
    "#list_of_Q[9] = Q\n"
   ]
  },
  {
   "cell_type": "markdown",
   "metadata": {},
   "source": [
    "### Plot histograms to show distributions of n and tau\n",
    "Figure 2(f) in Tian's paper"
   ]
  },
  {
   "cell_type": "code",
   "execution_count": null,
   "metadata": {},
   "outputs": [],
   "source": [
    "matplotlib.rcParams.update({'font.size': 20})\n",
    "fig = plt.figure(figsize=(16,6))\n",
    "ax = fig.subplots(nrows=1,ncols=2)\n",
    "\n",
    "ax[0].hist(list_of_n)\n",
    "ax[0].set_xlabel('n')\n",
    "ax[0].set_xlim(0,2.5)\n",
    "ax[0].set_ylabel('number of cases')\n",
    "ax[1].hist(list_of_t)\n",
    "ax[1].set_xlabel('t')\n",
    "ax[1].set_ylabel('number of cases')"
   ]
  },
  {
   "cell_type": "markdown",
   "metadata": {},
   "source": [
    "### Place all Curve fitting parameters into a dataframe"
   ]
  },
  {
   "cell_type": "code",
   "execution_count": null,
   "metadata": {},
   "outputs": [],
   "source": [
    "# Put all column names into a list\n",
    "col_name = list(df.columns)[1::2]\n",
    "# Turn the tuples into lists\n",
    "for index,element in enumerate(col_name):\n",
    "    col_name[index] = list(element[:-1])\n",
    "    for sub_index,string in enumerate(col_name[index]):\n",
    "        # conserve numbers only\n",
    "        col_name[index][sub_index] = int(re.findall(r'\\d+', string)[0])\n",
    "    col_name[index] = tuple(col_name[index])\n",
    "#col_name"
   ]
  },
  {
   "cell_type": "markdown",
   "metadata": {},
   "source": [
    "### Place all fitting parameters into a dataframe following the format of the Parameter sheets"
   ]
  },
  {
   "cell_type": "code",
   "execution_count": null,
   "metadata": {},
   "outputs": [],
   "source": [
    "par_df = pd.DataFrame(columns=['Paper #','Set','n','tau','Q'])\n",
    "par_df\n",
    "# Input paper and set numbers\n",
    "for index,element in enumerate(col_name):\n",
    "    row = [int(element[0]), int(element[1]), list_of_n[index], list_of_t[index], list_of_Q[index]]\n",
    "    row_series = pd.Series(row, index=par_df.columns)\n",
    "    par_df = par_df.append(row_series, ignore_index=True)\n",
    "par_df"
   ]
  },
  {
   "cell_type": "code",
   "execution_count": null,
   "metadata": {},
   "outputs": [],
   "source": [
    "visualization_df = pd.merge(par_df, Battery_Parameter_GeometryParameters, how=\"inner\", on=['Paper #','Set'])\n",
    "visualization_df = pd.merge(par_df, Battery_Parameter_Ge, how=\"inner\", on=['Paper #','Set'])\n",
    "\n",
    "visualization_df.head(40)"
   ]
  },
  {
   "cell_type": "code",
   "execution_count": null,
   "metadata": {},
   "outputs": [],
   "source": [
    "# Replace NaN values\n",
    "visualization_df = visualization_df.replace(['N/R'], np.NaN)"
   ]
  },
  {
   "cell_type": "markdown",
   "metadata": {},
   "source": [
    "# This is the end of Curve fitting and the Beginning of Visualization"
   ]
  },
  {
   "cell_type": "markdown",
   "metadata": {},
   "source": [
    "### Load Geometry and Material Parameters"
   ]
  },
  {
   "cell_type": "code",
   "execution_count": null,
   "metadata": {},
   "outputs": [],
   "source": [
    "features = list(visualization_df.columns[6:])"
   ]
  },
  {
   "cell_type": "code",
   "execution_count": null,
   "metadata": {},
   "outputs": [],
   "source": [
    "type(features)"
   ]
  },
  {
   "cell_type": "code",
   "execution_count": null,
   "metadata": {},
   "outputs": [],
   "source": [
    "features"
   ]
  },
  {
   "cell_type": "code",
   "execution_count": null,
   "metadata": {},
   "outputs": [],
   "source": [
    "####### Feature(s) to plot against n, tau, and Q"
   ]
  },
  {
   "cell_type": "code",
   "execution_count": null,
   "metadata": {},
   "outputs": [],
   "source": [
    "visualization_features = widgets.SelectMultiple(\n",
    "    options=features,\n",
    "    #value = ,\n",
    "    rows=10,\n",
    "    description='Feature',\n",
    "    disabled=False\n",
    ")"
   ]
  },
  {
   "cell_type": "code",
   "execution_count": null,
   "metadata": {},
   "outputs": [],
   "source": [
    "##### Hold 'SHIFT' or 'CTRL' to select multiple options then run cell"
   ]
  },
  {
   "cell_type": "code",
   "execution_count": null,
   "metadata": {},
   "outputs": [],
   "source": [
    "visualization_features"
   ]
  },
  {
   "cell_type": "code",
   "execution_count": null,
   "metadata": {},
   "outputs": [],
   "source": [
    "visualization_features = visualization_features.value"
   ]
  },
  {
   "cell_type": "code",
   "execution_count": null,
   "metadata": {},
   "outputs": [],
   "source": [
    "visualization_features"
   ]
  },
  {
   "cell_type": "code",
   "execution_count": null,
   "metadata": {},
   "outputs": [],
   "source": [
    "visualization.feature_vs_n_tau_Q(visualization_df, visualization_features)"
   ]
  },
  {
   "cell_type": "code",
   "execution_count": null,
   "metadata": {},
   "outputs": [],
   "source": []
  },
  {
   "cell_type": "code",
   "execution_count": null,
   "metadata": {},
   "outputs": [],
   "source": []
  },
  {
   "cell_type": "code",
   "execution_count": null,
   "metadata": {},
   "outputs": [],
   "source": []
  },
  {
   "cell_type": "code",
   "execution_count": null,
   "metadata": {},
   "outputs": [],
   "source": []
  },
  {
   "cell_type": "code",
   "execution_count": null,
   "metadata": {},
   "outputs": [],
   "source": []
  },
  {
   "cell_type": "code",
   "execution_count": null,
   "metadata": {},
   "outputs": [],
   "source": [
    "geo_df= pd.read_excel('NEW_3D_Battery_Parameter_Log.xls', sheet_name='GeometryParameters')"
   ]
  },
  {
   "cell_type": "code",
   "execution_count": null,
   "metadata": {},
   "outputs": [],
   "source": [
    "geo_df.head(7)"
   ]
  },
  {
   "cell_type": "code",
   "execution_count": null,
   "metadata": {},
   "outputs": [],
   "source": [
    "thickness_df = geo_df[['Paper #','Set','Cathode \\nThickness [µm]','Anode \\nThickness [µm]', 'Cathode 3D \\nCharateristic Length [µm]','Anode 3D \\nCharateristic\\nLength [µm]']]\n",
    "thickness_df.head(7)"
   ]
  },
  {
   "cell_type": "markdown",
   "metadata": {},
   "source": [
    "### Include information on Architecture types"
   ]
  },
  {
   "cell_type": "code",
   "execution_count": null,
   "metadata": {},
   "outputs": [],
   "source": [
    "# Select columns of interest\n",
    "general_df = pd.read_excel('NEW_3D_Battery_Parameter_Log.xls', sheet_name='GeneralInformation')\n",
    "arctype_df = general_df[['Paper #','Set','General Overall Architecture','General Cathode Architecture','General Anode Architecture','1C current Density [mA/cm^2]']]\n",
    "arctype_df"
   ]
  },
  {
   "cell_type": "code",
   "execution_count": null,
   "metadata": {
    "scrolled": false
   },
   "outputs": [],
   "source": [
    "# Select columns of interest\n",
    "general_df = pd.read_excel('NEW_3D_Battery_Parameter_Log.xls', sheet_name='GeneralInformation')\n",
    "arctype_df = general_df[['Paper #','Set','General Overall Architecture','General Cathode Architecture','General Anode Architecture','1C current Density [mA/cm^2]']]\n",
    "arctype_df\n",
    "\n",
    "# Select rows of interest\n",
    "arctype_df_needed = pd.DataFrame(columns=arctype_df.columns)\n",
    "for index, row in par_df.iterrows():\n",
    "    select_rows = arctype_df.loc[(arctype_df['Set']==row['Set']) & (arctype_df['Paper #']==row['Paper #'])]\n",
    "    arctype_df_needed = arctype_df_needed.append(select_rows,ignore_index=True)\n",
    "\n",
    "arctype_df_needed\n",
    "\n",
    "par_df_full['General Overall Architecture'] = arctype_df_needed['General Overall Architecture']\n",
    "par_df_full['General Cathode Architecture'] = arctype_df_needed['General Cathode Architecture']\n",
    "par_df_full['General Anode Architecture'] = arctype_df_needed['General Anode Architecture']\n",
    "par_df_full['1C current Density [mA/cm^2]'] = arctype_df_needed['1C current Density [mA/cm^2]']\n",
    "par_df_full"
   ]
  },
  {
   "cell_type": "markdown",
   "metadata": {},
   "source": [
    "### Include Material Information"
   ]
  },
  {
   "cell_type": "code",
   "execution_count": null,
   "metadata": {},
   "outputs": [],
   "source": [
    "mat_df= pd.read_excel('NEW_3D_Battery_Parameter_Log.xls', sheet_name='MaterialParameters')\n",
    "mat_df"
   ]
  },
  {
   "cell_type": "code",
   "execution_count": null,
   "metadata": {},
   "outputs": [],
   "source": [
    "mat_df = mat_df[['Paper #','Set','Cathode Material','Anode Material']]\n",
    "# Select rows of interest\n",
    "mat_df_needed = pd.DataFrame(columns=mat_df.columns)\n",
    "for index, row in par_df.iterrows():\n",
    "    select_rows = mat_df.loc[(mat_df['Set']==row['Set']) & (mat_df['Paper #']==row['Paper #'])]\n",
    "    mat_df_needed = mat_df_needed.append(select_rows,ignore_index=True)\n",
    "\n",
    "mat_df_needed\n",
    "\n",
    "par_df_full['Cathode Material'] = mat_df_needed['Cathode Material']\n",
    "par_df_full['Anode Material'] = mat_df_needed['Anode Material']\n",
    "par_df_full"
   ]
  },
  {
   "cell_type": "code",
   "execution_count": null,
   "metadata": {},
   "outputs": [],
   "source": [
    "par_df_full[['Paper #','Set','Cathode Material','Anode Material']]"
   ]
  },
  {
   "cell_type": "markdown",
   "metadata": {},
   "source": [
    "### Plot Fitting parameters versus cathode thickness\n",
    "Figure 2(c) and Figure 2(e) in Tian's paper"
   ]
  },
  {
   "cell_type": "code",
   "execution_count": null,
   "metadata": {
    "scrolled": false
   },
   "outputs": [],
   "source": [
    "'''matplotlib.rcParams.update({'font.size': 16})\n",
    "fig = plt.figure(figsize=(22,6))\n",
    "ax = fig.subplots(nrows=1,ncols=3)\n",
    "\n",
    "cathode_thickness = par_df_full['Cathode \\nThickness [µm]'].values\n",
    "anode_thickness = par_df_full['Anode \\nThickness [µm]'].values\n",
    "\n",
    "ax[0].scatter(cathode_thickness, n, color='g',s=200)\n",
    "ax[0].set_xlabel('cathode thickness [µm]')\n",
    "ax[0].set_ylabel('n')\n",
    "for index, txt in enumerate(paper):\n",
    "    ax[0].annotate(paper[index], (cathode_thickness[index], n[index]))\n",
    "ax[0].semilogx()\n",
    "    \n",
    "ax[1].scatter(cathode_thickness, tau, color='g',s=200)\n",
    "ax[1].set_xlabel('cathode thickness [µm]')\n",
    "ax[1].set_ylabel('tau')\n",
    "for index, txt in enumerate(paper):\n",
    "    ax[1].annotate(paper[index], (cathode_thickness[index], tau[index]))\n",
    "ax[1].loglog()\n",
    "        \n",
    "ax[2].scatter(cathode_thickness, Q, color='g',s=200)\n",
    "ax[2].set_xlabel('cathode thickness [µm]')\n",
    "ax[2].set_ylabel('Q')\n",
    "for index, txt in enumerate(paper):\n",
    "    ax[2].annotate(paper[index], (cathode_thickness[index], Q[index]))\n",
    "ax[2].semilogx()'''"
   ]
  },
  {
   "cell_type": "code",
   "execution_count": null,
   "metadata": {},
   "outputs": [],
   "source": []
  },
  {
   "cell_type": "markdown",
   "metadata": {},
   "source": [
    "#### Plot without log scale"
   ]
  },
  {
   "cell_type": "code",
   "execution_count": null,
   "metadata": {
    "scrolled": false
   },
   "outputs": [],
   "source": [
    "matplotlib.rcParams.update({'font.size': 16})\n",
    "fig = plt.figure(figsize=(22,6))\n",
    "ax = fig.subplots(nrows=1,ncols=3)\n",
    "\n",
    "cathode_arc = par_df_full['General Cathode Architecture'].values\n",
    "anode_arc = par_df_full['General Anode Architecture'].values\n",
    "\n",
    "ax[0].scatter(cathode_thickness, n, color='g',s=200)\n",
    "ax[0].set_xlabel('cathode thickness [µm]')\n",
    "ax[0].set_ylabel('n')\n",
    "for index, txt in enumerate(paper):\n",
    "    ax[0].annotate(paper[index], (cathode_thickness[index], n[index]))\n",
    "\n",
    "    \n",
    "ax[1].scatter(cathode_thickness, tau, color='g',s=200)\n",
    "ax[1].set_xlabel('cathode thickness [µm]')\n",
    "ax[1].set_ylabel('tau')\n",
    "for index, txt in enumerate(paper):\n",
    "    ax[1].annotate(paper[index], (cathode_thickness[index], tau[index]))\n",
    "\n",
    "        \n",
    "ax[2].scatter(cathode_thickness, Q, color='g',s=200)\n",
    "ax[2].set_xlabel('cathode thickness [µm]')\n",
    "ax[2].set_ylabel('Q')\n",
    "for index, txt in enumerate(paper):\n",
    "    ax[2].annotate(paper[index], (cathode_thickness[index], Q[index]))\n"
   ]
  },
  {
   "cell_type": "markdown",
   "metadata": {},
   "source": [
    "### Plot fitting parameters versus 3D architecture characteristic length\n",
    "Modifications of Figure 2(c) and Figure 2(e) in Tian's paper"
   ]
  },
  {
   "cell_type": "code",
   "execution_count": null,
   "metadata": {},
   "outputs": [],
   "source": [
    "# Take either cathode or anode charateristic length\n",
    "characteristic_length = []\n",
    "char_cathode = par_df_full['Cathode 3D \\nCharateristic Length [µm]'].values\n",
    "char_anode = par_df_full['Anode 3D \\nCharateristic\\nLength [µm]'].values\n",
    "for index,length in enumerate(char_cathode):\n",
    "    if np.isnan(length)==False:\n",
    "        characteristic_length.append(length)\n",
    "    else: characteristic_length.append(char_anode[index])\n",
    "\n",
    "matplotlib.rcParams.update({'font.size': 16})\n",
    "fig = plt.figure(figsize=(22,6))\n",
    "ax = fig.subplots(nrows=1,ncols=3)\n",
    "\n",
    "ax[0].scatter(characteristic_length, n, color='g',s=200)\n",
    "ax[0].set_xlabel('characteristic length [µm]')\n",
    "ax[0].set_ylabel('n')\n",
    "ax[0].semilogx()\n",
    "for index, txt in enumerate(paper):\n",
    "    ax[0].annotate(paper[index], (characteristic_length[index], n[index]))\n",
    "    \n",
    "ax[1].scatter(characteristic_length, tau, color='g',s=200)\n",
    "ax[1].set_xlabel('characteristic length [µm]')\n",
    "ax[1].set_ylabel('tau')\n",
    "ax[1].loglog()\n",
    "for index, txt in enumerate(paper):\n",
    "    ax[1].annotate(paper[index], (characteristic_length[index], tau[index]))\n",
    "    \n",
    "ax[2].scatter(characteristic_length, Q, color='g',s=200)\n",
    "ax[2].set_xlabel('characteristic length [µm]')\n",
    "ax[2].set_ylabel('Q')\n",
    "ax[2].semilogx()\n",
    "for index, txt in enumerate(paper):\n",
    "    ax[2].annotate(paper[index], (characteristic_length[index], Q[index]))        "
   ]
  },
  {
   "cell_type": "markdown",
   "metadata": {},
   "source": [
    "#### Plot without log scale"
   ]
  },
  {
   "cell_type": "code",
   "execution_count": null,
   "metadata": {},
   "outputs": [],
   "source": [
    "# Take either cathode or anode charateristic length\n",
    "characteristic_length = []\n",
    "char_cathode = par_df_full['Cathode 3D \\nCharateristic Length [µm]'].values\n",
    "char_anode = par_df_full['Anode 3D \\nCharateristic\\nLength [µm]'].values\n",
    "for index,length in enumerate(char_cathode):\n",
    "    if np.isnan(length)==False:\n",
    "        characteristic_length.append(length)\n",
    "    else: characteristic_length.append(char_anode[index])\n",
    "\n",
    "matplotlib.rcParams.update({'font.size': 16})\n",
    "fig = plt.figure(figsize=(22,6))\n",
    "ax = fig.subplots(nrows=1,ncols=3)\n",
    "\n",
    "ax[0].scatter(characteristic_length, n, color='g',s=200)\n",
    "ax[0].set_xlabel('characteristic length [µm]')\n",
    "ax[0].set_ylabel('n')\n",
    "\n",
    "for index, txt in enumerate(paper):\n",
    "    ax[0].annotate(paper[index], (characteristic_length[index], n[index]))\n",
    "    \n",
    "ax[1].scatter(characteristic_length, tau, color='g',s=200)\n",
    "ax[1].set_xlabel('characteristic length [µm]')\n",
    "ax[1].set_ylabel('tau')\n",
    "\n",
    "for index, txt in enumerate(paper):\n",
    "    ax[1].annotate(paper[index], (characteristic_length[index], tau[index]))\n",
    "    \n",
    "ax[2].scatter(characteristic_length, Q, color='g',s=200)\n",
    "ax[2].set_xlabel('characteristic length [µm]')\n",
    "ax[2].set_ylabel('Q')\n",
    "\n",
    "for index, txt in enumerate(paper):\n",
    "    ax[2].annotate(paper[index], (characteristic_length[index], Q[index]))        "
   ]
  },
  {
   "cell_type": "markdown",
   "metadata": {},
   "source": [
    "### Figure 2(b) n vs tau, separated by material"
   ]
  },
  {
   "cell_type": "code",
   "execution_count": null,
   "metadata": {},
   "outputs": [],
   "source": [
    "matplotlib.rcParams.update({'font.size': 16})\n",
    "fig = plt.figure(figsize=(8,6))\n",
    "\n",
    "plt.scatter(tau, n, color='g',s=200)\n",
    "plt.xlabel('tau')\n",
    "plt.ylabel('n')\n",
    "#plt.semilogx()\n",
    "texts = []\n",
    "for index, txt in enumerate(paper):\n",
    "    plt.annotate(paper[index], (tau[index], n[index]))     \n",
    "\n",
    "# This code is used to adjust text annotations such that they don't overlap\n",
    "'''\n",
    "for index, txt in enumerate(cathode_arc):\n",
    "    if txt != '1D':\n",
    "        ann = 'c:'+str(txt)\n",
    "        if str(anode_arc[index]) != '1D':\n",
    "            ann = 'c:'+str(txt)+'\\n'+'a:'+str(anode_arc[index])\n",
    "    else: ann = 'a:'+str(anode_arc[index])\n",
    "    texts.append(plt.text(tau[index], n[index], ann))\n",
    "    #plt.annotate(ann, (tau[index], n[index]))\n",
    "adjust_text(texts)\n",
    "'''\n"
   ]
  },
  {
   "cell_type": "markdown",
   "metadata": {},
   "source": []
  }
 ],
 "metadata": {
  "kernelspec": {
   "display_name": "Python 3",
   "language": "python",
   "name": "python3"
  },
  "language_info": {
   "codemirror_mode": {
    "name": "ipython",
    "version": 3
   },
   "file_extension": ".py",
   "mimetype": "text/x-python",
   "name": "python",
   "nbconvert_exporter": "python",
   "pygments_lexer": "ipython3",
   "version": "3.8.2"
  }
 },
 "nbformat": 4,
 "nbformat_minor": 4
}
