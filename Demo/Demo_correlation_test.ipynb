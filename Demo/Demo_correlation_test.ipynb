{
 "cells": [
  {
   "cell_type": "code",
   "execution_count": 1,
   "id": "growing-seventh",
   "metadata": {},
   "outputs": [],
   "source": [
    "import numpy as np\n",
    "import pandas as pd\n",
    "import matplotlib\n",
    "from matplotlib import pyplot as plt\n",
    "%matplotlib inline\n",
    "import sklearn\n",
    "import scipy\n",
    "import liibattery3d\n",
    "from liibattery3d import correlationtest"
   ]
  },
  {
   "cell_type": "markdown",
   "id": "naughty-regression",
   "metadata": {},
   "source": [
    "## Load Dataframe"
   ]
  },
  {
   "cell_type": "code",
   "execution_count": 2,
   "id": "affiliated-reliance",
   "metadata": {},
   "outputs": [],
   "source": [
    "df = pd.read_csv('full_parameter_dataframe.csv')"
   ]
  },
  {
   "cell_type": "code",
   "execution_count": 3,
   "id": "latter-scotland",
   "metadata": {
    "scrolled": false
   },
   "outputs": [
    {
     "data": {
      "text/html": [
       "<div>\n",
       "<style scoped>\n",
       "    .dataframe tbody tr th:only-of-type {\n",
       "        vertical-align: middle;\n",
       "    }\n",
       "\n",
       "    .dataframe tbody tr th {\n",
       "        vertical-align: top;\n",
       "    }\n",
       "\n",
       "    .dataframe thead th {\n",
       "        text-align: right;\n",
       "    }\n",
       "</style>\n",
       "<table border=\"1\" class=\"dataframe\">\n",
       "  <thead>\n",
       "    <tr style=\"text-align: right;\">\n",
       "      <th></th>\n",
       "      <th>Unnamed: 0</th>\n",
       "      <th>Paper #</th>\n",
       "      <th>Set</th>\n",
       "      <th>Cathode \\nThickness [µm]</th>\n",
       "      <th>Anode \\nThickness [µm]</th>\n",
       "      <th>Cathode 3D \\nCharateristic Length [µm]</th>\n",
       "      <th>Anode 3D \\nCharateristic\\nLength [µm]</th>\n",
       "      <th>n</th>\n",
       "      <th>tau</th>\n",
       "      <th>Q</th>\n",
       "      <th>SA/V [1/µm]</th>\n",
       "      <th>SA gain</th>\n",
       "      <th>General Overall Architecture</th>\n",
       "      <th>General Cathode Architecture</th>\n",
       "      <th>General Anode Architecture</th>\n",
       "      <th>1C current Density [mA/cm^2]</th>\n",
       "      <th>Cathode Material</th>\n",
       "      <th>Anode Material</th>\n",
       "      <th>charateristic_length</th>\n",
       "    </tr>\n",
       "  </thead>\n",
       "  <tbody>\n",
       "    <tr>\n",
       "      <th>0</th>\n",
       "      <td>0</td>\n",
       "      <td>1</td>\n",
       "      <td>1</td>\n",
       "      <td>500</td>\n",
       "      <td>NaN</td>\n",
       "      <td>100.0</td>\n",
       "      <td>NaN</td>\n",
       "      <td>1.302510</td>\n",
       "      <td>0.485641</td>\n",
       "      <td>106.109051</td>\n",
       "      <td>0.0296</td>\n",
       "      <td>14.80</td>\n",
       "      <td>2.5D</td>\n",
       "      <td>Solid Column</td>\n",
       "      <td>1D</td>\n",
       "      <td>1.78</td>\n",
       "      <td>LiFePO4</td>\n",
       "      <td>Lithium</td>\n",
       "      <td>100.0</td>\n",
       "    </tr>\n",
       "    <tr>\n",
       "      <th>1</th>\n",
       "      <td>1</td>\n",
       "      <td>1</td>\n",
       "      <td>1</td>\n",
       "      <td>500</td>\n",
       "      <td>NaN</td>\n",
       "      <td>100.0</td>\n",
       "      <td>NaN</td>\n",
       "      <td>1.171664</td>\n",
       "      <td>0.487356</td>\n",
       "      <td>105.112499</td>\n",
       "      <td>0.0296</td>\n",
       "      <td>14.80</td>\n",
       "      <td>2.5D</td>\n",
       "      <td>Solid Column</td>\n",
       "      <td>1D</td>\n",
       "      <td>1.78</td>\n",
       "      <td>LiFePO4</td>\n",
       "      <td>Lithium</td>\n",
       "      <td>100.0</td>\n",
       "    </tr>\n",
       "    <tr>\n",
       "      <th>2</th>\n",
       "      <td>11</td>\n",
       "      <td>17</td>\n",
       "      <td>1</td>\n",
       "      <td>220</td>\n",
       "      <td>NaN</td>\n",
       "      <td>2000.0</td>\n",
       "      <td>NaN</td>\n",
       "      <td>2.223919</td>\n",
       "      <td>0.947268</td>\n",
       "      <td>153.778365</td>\n",
       "      <td>0.0051</td>\n",
       "      <td>1.10</td>\n",
       "      <td>2.5D</td>\n",
       "      <td>Electrolyte channel</td>\n",
       "      <td>1D</td>\n",
       "      <td>NaN</td>\n",
       "      <td>LiCoO2</td>\n",
       "      <td>Lithium</td>\n",
       "      <td>2000.0</td>\n",
       "    </tr>\n",
       "    <tr>\n",
       "      <th>3</th>\n",
       "      <td>12</td>\n",
       "      <td>17</td>\n",
       "      <td>2</td>\n",
       "      <td>220</td>\n",
       "      <td>NaN</td>\n",
       "      <td>180.0</td>\n",
       "      <td>NaN</td>\n",
       "      <td>2.244143</td>\n",
       "      <td>0.529848</td>\n",
       "      <td>151.124828</td>\n",
       "      <td>0.0102</td>\n",
       "      <td>2.30</td>\n",
       "      <td>2.5D</td>\n",
       "      <td>Electrolyte channel</td>\n",
       "      <td>1D</td>\n",
       "      <td>NaN</td>\n",
       "      <td>LiCoO2</td>\n",
       "      <td>Lithium</td>\n",
       "      <td>180.0</td>\n",
       "    </tr>\n",
       "    <tr>\n",
       "      <th>4</th>\n",
       "      <td>13</td>\n",
       "      <td>17</td>\n",
       "      <td>3</td>\n",
       "      <td>220</td>\n",
       "      <td>NaN</td>\n",
       "      <td>17.0</td>\n",
       "      <td>NaN</td>\n",
       "      <td>1.884653</td>\n",
       "      <td>0.270364</td>\n",
       "      <td>152.606465</td>\n",
       "      <td>0.0694</td>\n",
       "      <td>15.30</td>\n",
       "      <td>2.5D</td>\n",
       "      <td>Electrolyte channel</td>\n",
       "      <td>1D</td>\n",
       "      <td>NaN</td>\n",
       "      <td>LiCoO2</td>\n",
       "      <td>Lithium</td>\n",
       "      <td>17.0</td>\n",
       "    </tr>\n",
       "    <tr>\n",
       "      <th>5</th>\n",
       "      <td>14</td>\n",
       "      <td>19</td>\n",
       "      <td>1</td>\n",
       "      <td>150</td>\n",
       "      <td>NaN</td>\n",
       "      <td>70.0</td>\n",
       "      <td>70.0</td>\n",
       "      <td>0.115141</td>\n",
       "      <td>0.000003</td>\n",
       "      <td>196.646059</td>\n",
       "      <td>0.0200</td>\n",
       "      <td>3.00</td>\n",
       "      <td>2.5D</td>\n",
       "      <td>1D</td>\n",
       "      <td>Electrolyte channel</td>\n",
       "      <td>N/R</td>\n",
       "      <td>Li4Ti5O12</td>\n",
       "      <td>Lithium</td>\n",
       "      <td>70.0</td>\n",
       "    </tr>\n",
       "    <tr>\n",
       "      <th>6</th>\n",
       "      <td>15</td>\n",
       "      <td>23</td>\n",
       "      <td>1</td>\n",
       "      <td>69</td>\n",
       "      <td>70.0</td>\n",
       "      <td>NaN</td>\n",
       "      <td>60.0</td>\n",
       "      <td>4.669976</td>\n",
       "      <td>0.092302</td>\n",
       "      <td>127.716693</td>\n",
       "      <td>0.0267</td>\n",
       "      <td>1.90</td>\n",
       "      <td>2.5D</td>\n",
       "      <td>1D</td>\n",
       "      <td>Electrolyte channel</td>\n",
       "      <td>N/R</td>\n",
       "      <td>NMC (1/11)</td>\n",
       "      <td>Graphite</td>\n",
       "      <td>60.0</td>\n",
       "    </tr>\n",
       "    <tr>\n",
       "      <th>7</th>\n",
       "      <td>16</td>\n",
       "      <td>23</td>\n",
       "      <td>2</td>\n",
       "      <td>69</td>\n",
       "      <td>70.0</td>\n",
       "      <td>NaN</td>\n",
       "      <td>60.0</td>\n",
       "      <td>4.526725</td>\n",
       "      <td>0.095259</td>\n",
       "      <td>127.906362</td>\n",
       "      <td>0.0267</td>\n",
       "      <td>1.90</td>\n",
       "      <td>2.5D</td>\n",
       "      <td>1D</td>\n",
       "      <td>Electrolyte channel</td>\n",
       "      <td>N/R</td>\n",
       "      <td>NMC (1/11)</td>\n",
       "      <td>Graphite</td>\n",
       "      <td>60.0</td>\n",
       "    </tr>\n",
       "    <tr>\n",
       "      <th>8</th>\n",
       "      <td>17</td>\n",
       "      <td>27</td>\n",
       "      <td>1</td>\n",
       "      <td>15</td>\n",
       "      <td>15.0</td>\n",
       "      <td>15.0</td>\n",
       "      <td>15.0</td>\n",
       "      <td>2.421715</td>\n",
       "      <td>0.034467</td>\n",
       "      <td>135.232037</td>\n",
       "      <td>0.0222</td>\n",
       "      <td>11.42</td>\n",
       "      <td>Interdigitated</td>\n",
       "      <td>Int plate</td>\n",
       "      <td>Int plate</td>\n",
       "      <td>0.135</td>\n",
       "      <td>LiCoO2</td>\n",
       "      <td>Li4Ti5O12</td>\n",
       "      <td>15.0</td>\n",
       "    </tr>\n",
       "    <tr>\n",
       "      <th>9</th>\n",
       "      <td>18</td>\n",
       "      <td>31</td>\n",
       "      <td>1</td>\n",
       "      <td>6</td>\n",
       "      <td>NaN</td>\n",
       "      <td>0.5</td>\n",
       "      <td>NaN</td>\n",
       "      <td>2.363981</td>\n",
       "      <td>0.109881</td>\n",
       "      <td>306.757639</td>\n",
       "      <td>3.0100</td>\n",
       "      <td>18.10</td>\n",
       "      <td>2.5D</td>\n",
       "      <td>Coated Network</td>\n",
       "      <td>1D</td>\n",
       "      <td>N/R</td>\n",
       "      <td>V2O5</td>\n",
       "      <td>Lithium</td>\n",
       "      <td>0.5</td>\n",
       "    </tr>\n",
       "    <tr>\n",
       "      <th>10</th>\n",
       "      <td>19</td>\n",
       "      <td>31</td>\n",
       "      <td>2</td>\n",
       "      <td>12</td>\n",
       "      <td>NaN</td>\n",
       "      <td>0.5</td>\n",
       "      <td>NaN</td>\n",
       "      <td>1.402870</td>\n",
       "      <td>0.094515</td>\n",
       "      <td>313.641256</td>\n",
       "      <td>3.1800</td>\n",
       "      <td>38.20</td>\n",
       "      <td>2.5D</td>\n",
       "      <td>Coated Network</td>\n",
       "      <td>1D</td>\n",
       "      <td>N/R</td>\n",
       "      <td>V2O5</td>\n",
       "      <td>Lithium</td>\n",
       "      <td>0.5</td>\n",
       "    </tr>\n",
       "  </tbody>\n",
       "</table>\n",
       "</div>"
      ],
      "text/plain": [
       "    Unnamed: 0  Paper #  Set  Cathode \\nThickness [µm]  \\\n",
       "0            0        1    1                       500   \n",
       "1            1        1    1                       500   \n",
       "2           11       17    1                       220   \n",
       "3           12       17    2                       220   \n",
       "4           13       17    3                       220   \n",
       "5           14       19    1                       150   \n",
       "6           15       23    1                        69   \n",
       "7           16       23    2                        69   \n",
       "8           17       27    1                        15   \n",
       "9           18       31    1                         6   \n",
       "10          19       31    2                        12   \n",
       "\n",
       "    Anode \\nThickness [µm]   Cathode 3D \\nCharateristic Length [µm]  \\\n",
       "0                       NaN                                   100.0   \n",
       "1                       NaN                                   100.0   \n",
       "2                       NaN                                  2000.0   \n",
       "3                       NaN                                   180.0   \n",
       "4                       NaN                                    17.0   \n",
       "5                       NaN                                    70.0   \n",
       "6                      70.0                                     NaN   \n",
       "7                      70.0                                     NaN   \n",
       "8                      15.0                                    15.0   \n",
       "9                       NaN                                     0.5   \n",
       "10                      NaN                                     0.5   \n",
       "\n",
       "    Anode 3D \\nCharateristic\\nLength [µm]         n       tau           Q  \\\n",
       "0                                     NaN  1.302510  0.485641  106.109051   \n",
       "1                                     NaN  1.171664  0.487356  105.112499   \n",
       "2                                     NaN  2.223919  0.947268  153.778365   \n",
       "3                                     NaN  2.244143  0.529848  151.124828   \n",
       "4                                     NaN  1.884653  0.270364  152.606465   \n",
       "5                                    70.0  0.115141  0.000003  196.646059   \n",
       "6                                    60.0  4.669976  0.092302  127.716693   \n",
       "7                                    60.0  4.526725  0.095259  127.906362   \n",
       "8                                    15.0  2.421715  0.034467  135.232037   \n",
       "9                                     NaN  2.363981  0.109881  306.757639   \n",
       "10                                    NaN  1.402870  0.094515  313.641256   \n",
       "\n",
       "    SA/V [1/µm]  SA gain General Overall Architecture  \\\n",
       "0        0.0296    14.80                         2.5D   \n",
       "1        0.0296    14.80                         2.5D   \n",
       "2        0.0051     1.10                         2.5D   \n",
       "3        0.0102     2.30                         2.5D   \n",
       "4        0.0694    15.30                         2.5D   \n",
       "5        0.0200     3.00                         2.5D   \n",
       "6        0.0267     1.90                         2.5D   \n",
       "7        0.0267     1.90                         2.5D   \n",
       "8        0.0222    11.42               Interdigitated   \n",
       "9        3.0100    18.10                         2.5D   \n",
       "10       3.1800    38.20                         2.5D   \n",
       "\n",
       "   General Cathode Architecture General Anode Architecture  \\\n",
       "0                  Solid Column                         1D   \n",
       "1                  Solid Column                         1D   \n",
       "2           Electrolyte channel                         1D   \n",
       "3           Electrolyte channel                         1D   \n",
       "4           Electrolyte channel                         1D   \n",
       "5                            1D        Electrolyte channel   \n",
       "6                            1D        Electrolyte channel   \n",
       "7                            1D        Electrolyte channel   \n",
       "8                     Int plate                  Int plate   \n",
       "9                Coated Network                         1D   \n",
       "10               Coated Network                         1D   \n",
       "\n",
       "   1C current Density [mA/cm^2] Cathode Material Anode Material  \\\n",
       "0                          1.78          LiFePO4        Lithium   \n",
       "1                          1.78          LiFePO4        Lithium   \n",
       "2                           NaN           LiCoO2        Lithium   \n",
       "3                           NaN           LiCoO2        Lithium   \n",
       "4                           NaN           LiCoO2        Lithium   \n",
       "5                           N/R        Li4Ti5O12       Lithium    \n",
       "6                           N/R       NMC (1/11)       Graphite   \n",
       "7                           N/R       NMC (1/11)       Graphite   \n",
       "8                         0.135           LiCoO2      Li4Ti5O12   \n",
       "9                           N/R             V2O5        Lithium   \n",
       "10                          N/R             V2O5        Lithium   \n",
       "\n",
       "    charateristic_length  \n",
       "0                  100.0  \n",
       "1                  100.0  \n",
       "2                 2000.0  \n",
       "3                  180.0  \n",
       "4                   17.0  \n",
       "5                   70.0  \n",
       "6                   60.0  \n",
       "7                   60.0  \n",
       "8                   15.0  \n",
       "9                    0.5  \n",
       "10                   0.5  "
      ]
     },
     "execution_count": 3,
     "metadata": {},
     "output_type": "execute_result"
    }
   ],
   "source": [
    "df"
   ]
  },
  {
   "cell_type": "markdown",
   "id": "lined-plaza",
   "metadata": {},
   "source": [
    "## Pearson Correlation Testing"
   ]
  },
  {
   "cell_type": "code",
   "execution_count": 4,
   "id": "competitive-checkout",
   "metadata": {},
   "outputs": [],
   "source": [
    "# Set variables\n",
    "n = df['n'].values\n",
    "tau = df['tau'].values\n",
    "SA2V = df['SA/V [1/µm]'].values\n",
    "SAgain = df['SA gain'].values\n",
    "L = df['charateristic_length'].values"
   ]
  },
  {
   "cell_type": "code",
   "execution_count": 5,
   "id": "collective-respondent",
   "metadata": {},
   "outputs": [
    {
     "name": "stdout",
     "output_type": "stream",
     "text": [
      "pearson correlation betweeen the input variables is -0.12 with p value 0.72\n",
      "Accept null hypothesis. The linear correlation  is statistically insignificant\n",
      "pearson correlation betweeen the input variables is -0.31 with p value 0.35\n",
      "Accept null hypothesis. The linear correlation  is statistically insignificant\n",
      "pearson correlation betweeen the input variables is -0.24 with p value 0.47\n",
      "Accept null hypothesis. The linear correlation  is statistically insignificant\n",
      "pearson correlation betweeen the input variables is 0.79 with p value 0.00\n",
      "Reject null hypothesis.The linear correlation is statistically significant\n"
     ]
    },
    {
     "data": {
      "text/plain": [
       "(0.7872393617066458, 0.00402814319435014)"
      ]
     },
     "execution_count": 5,
     "metadata": {},
     "output_type": "execute_result"
    }
   ],
   "source": [
    "# Pearson correlation\n",
    "correlationtest.correlation_hypothesis(n,SA2V,0.05)\n",
    "correlationtest.correlation_hypothesis(tau,SA2V,0.05)\n",
    "correlationtest.correlation_hypothesis(tau,SAgain,0.05)\n",
    "correlationtest.correlation_hypothesis(tau,L,0.05)"
   ]
  },
  {
   "cell_type": "markdown",
   "id": "geological-payroll",
   "metadata": {},
   "source": [
    "## Spearman Correlation\n",
    "Unlike Pearson correlation, Spearman correlation does not require the input sample to be normally distributed."
   ]
  },
  {
   "cell_type": "code",
   "execution_count": 6,
   "id": "sunset-knight",
   "metadata": {},
   "outputs": [
    {
     "name": "stdout",
     "output_type": "stream",
     "text": [
      "spearman correlation betweeen the input variables is -0.14 with p value 0.69\n",
      "Accept null hypothesis. The linear correlation  is statistically insignificant\n",
      "spearman correlation betweeen the input variables is -0.14 with p value 0.68\n",
      "Accept null hypothesis. The linear correlation  is statistically insignificant\n",
      "spearman correlation betweeen the input variables is -0.12 with p value 0.72\n",
      "Accept null hypothesis. The linear correlation  is statistically insignificant\n",
      "spearman correlation betweeen the input variables is 0.64 with p value 0.04\n",
      "Reject null hypothesis.The linear correlation is statistically significant\n"
     ]
    },
    {
     "data": {
      "text/plain": [
       "(0.6361705973295034, 0.03536007760356719)"
      ]
     },
     "execution_count": 6,
     "metadata": {},
     "output_type": "execute_result"
    }
   ],
   "source": [
    "# Spearman correlation\n",
    "correlationtest.correlation_hypothesis(n,SA2V,0.05,test='spearman')\n",
    "correlationtest.correlation_hypothesis(tau,SA2V,0.05,test='spearman')\n",
    "correlationtest.correlation_hypothesis(tau,SAgain,0.05,test='spearman')\n",
    "correlationtest.correlation_hypothesis(tau,L,0.05,test='spearman')\n"
   ]
  },
  {
   "cell_type": "markdown",
   "id": "electoral-simon",
   "metadata": {},
   "source": [
    "## Calculate and plot linear regression line"
   ]
  },
  {
   "cell_type": "code",
   "execution_count": 7,
   "id": "binding-inventory",
   "metadata": {},
   "outputs": [
    {
     "data": {
      "text/plain": [
       "(0.1280648986574654, -3.0801471615555633, 0.4800662203447117)"
      ]
     },
     "execution_count": 7,
     "metadata": {},
     "output_type": "execute_result"
    },
    {
     "data": {
      "image/png": "[encoded data removed]",
      "text/plain": [
       "<Figure size 432x288 with 1 Axes>"
      ]
     },
     "metadata": {
      "needs_background": "light"
     },
     "output_type": "display_data"
    }
   ],
   "source": [
    "correlationtest.plot_linear_regression(np.log(L),np.log(tau))"
   ]
  },
  {
   "cell_type": "markdown",
   "id": "elder-jurisdiction",
   "metadata": {},
   "source": [
    "## Detect and remove a specified number of outliers from linear fit"
   ]
  },
  {
   "cell_type": "code",
   "execution_count": 8,
   "id": "hollow-gauge",
   "metadata": {},
   "outputs": [
    {
     "name": "stdout",
     "output_type": "stream",
     "text": [
      "original std errer is 0.4800662203447117\n",
      "Detect outlier at position x= -0.6931471805599453 y= -2.3589922103995073\n",
      "new std error is 0.617399650676988\n"
     ]
    },
    {
     "data": {
      "image/png": "[encoded data removed]",
      "text/plain": [
       "<Figure size 432x288 with 1 Axes>"
      ]
     },
     "metadata": {
      "needs_background": "light"
     },
     "output_type": "display_data"
    }
   ],
   "source": [
    "x, y = correlationtest.linear_outliers(np.log(L), np.log(tau), 1)"
   ]
  },
  {
   "cell_type": "code",
   "execution_count": null,
   "id": "changing-republican",
   "metadata": {},
   "outputs": [],
   "source": []
  }
 ],
 "metadata": {
  "kernelspec": {
   "display_name": "Python 3",
   "language": "python",
   "name": "python3"
  },
  "language_info": {
   "codemirror_mode": {
    "name": "ipython",
    "version": 3
   },
   "file_extension": ".py",
   "mimetype": "text/x-python",
   "name": "python",
   "nbconvert_exporter": "python",
   "pygments_lexer": "ipython3",
   "version": "3.8.5"
  }
 },
 "nbformat": 4,
 "nbformat_minor": 5
}
