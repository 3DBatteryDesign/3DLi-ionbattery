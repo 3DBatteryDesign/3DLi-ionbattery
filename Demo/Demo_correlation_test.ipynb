{
 "cells": [
  {
   "cell_type": "code",
   "execution_count": 1,
   "metadata": {},
   "outputs": [],
   "source": [
    "import numpy as np\n",
    "import pandas as pd\n",
    "import matplotlib\n",
    "from matplotlib import pyplot as plt\n",
    "import sklearn\n",
    "import scipy\n",
    "import sys\n",
    "sys.path.append('../batteryratecap')\n",
    "import correlationtest"
   ]
  },
  {
   "cell_type": "code",
   "execution_count": 2,
   "metadata": {},
   "outputs": [],
   "source": [
    "%matplotlib inline"
   ]
  },
  {
   "cell_type": "markdown",
   "metadata": {},
   "source": [
    "## Load Dataframe"
   ]
  },
  {
   "cell_type": "code",
   "execution_count": 3,
   "metadata": {},
   "outputs": [],
   "source": [
    "df = pd.read_csv('../doc/Data/visualization_df.csv')"
   ]
  },
  {
   "cell_type": "code",
   "execution_count": 4,
   "metadata": {
    "scrolled": false
   },
   "outputs": [
    {
     "data": {
      "text/html": [
       "<div>\n",
       "<style scoped>\n",
       "    .dataframe tbody tr th:only-of-type {\n",
       "        vertical-align: middle;\n",
       "    }\n",
       "\n",
       "    .dataframe tbody tr th {\n",
       "        vertical-align: top;\n",
       "    }\n",
       "\n",
       "    .dataframe thead th {\n",
       "        text-align: right;\n",
       "    }\n",
       "</style>\n",
       "<table border=\"1\" class=\"dataframe\">\n",
       "  <thead>\n",
       "    <tr style=\"text-align: right;\">\n",
       "      <th></th>\n",
       "      <th>Q</th>\n",
       "      <th>tau</th>\n",
       "      <th>Cathode \\nThickness [µm]</th>\n",
       "      <th>n</th>\n",
       "    </tr>\n",
       "  </thead>\n",
       "  <tbody>\n",
       "    <tr>\n",
       "      <th>0</th>\n",
       "      <td>106.109020</td>\n",
       "      <td>0.485641</td>\n",
       "      <td>500.0</td>\n",
       "      <td>1.302511</td>\n",
       "    </tr>\n",
       "    <tr>\n",
       "      <th>1</th>\n",
       "      <td>105.112479</td>\n",
       "      <td>0.487356</td>\n",
       "      <td>500.0</td>\n",
       "      <td>1.171666</td>\n",
       "    </tr>\n",
       "    <tr>\n",
       "      <th>2</th>\n",
       "      <td>0.000000</td>\n",
       "      <td>0.000000</td>\n",
       "      <td>550.0</td>\n",
       "      <td>0.000000</td>\n",
       "    </tr>\n",
       "    <tr>\n",
       "      <th>3</th>\n",
       "      <td>0.000000</td>\n",
       "      <td>0.000000</td>\n",
       "      <td>350.0</td>\n",
       "      <td>0.000000</td>\n",
       "    </tr>\n",
       "    <tr>\n",
       "      <th>4</th>\n",
       "      <td>0.000000</td>\n",
       "      <td>0.000000</td>\n",
       "      <td>350.0</td>\n",
       "      <td>0.000000</td>\n",
       "    </tr>\n",
       "    <tr>\n",
       "      <th>5</th>\n",
       "      <td>0.000000</td>\n",
       "      <td>0.000000</td>\n",
       "      <td>60.0</td>\n",
       "      <td>0.000000</td>\n",
       "    </tr>\n",
       "    <tr>\n",
       "      <th>6</th>\n",
       "      <td>0.000000</td>\n",
       "      <td>0.000000</td>\n",
       "      <td>120.0</td>\n",
       "      <td>0.000000</td>\n",
       "    </tr>\n",
       "    <tr>\n",
       "      <th>7</th>\n",
       "      <td>0.000000</td>\n",
       "      <td>0.000000</td>\n",
       "      <td>170.0</td>\n",
       "      <td>0.000000</td>\n",
       "    </tr>\n",
       "    <tr>\n",
       "      <th>8</th>\n",
       "      <td>0.000000</td>\n",
       "      <td>0.000000</td>\n",
       "      <td>120.0</td>\n",
       "      <td>0.000000</td>\n",
       "    </tr>\n",
       "    <tr>\n",
       "      <th>9</th>\n",
       "      <td>0.000000</td>\n",
       "      <td>0.000000</td>\n",
       "      <td>120.0</td>\n",
       "      <td>0.000000</td>\n",
       "    </tr>\n",
       "    <tr>\n",
       "      <th>10</th>\n",
       "      <td>0.000000</td>\n",
       "      <td>0.000000</td>\n",
       "      <td>170.0</td>\n",
       "      <td>0.000000</td>\n",
       "    </tr>\n",
       "    <tr>\n",
       "      <th>11</th>\n",
       "      <td>153.778365</td>\n",
       "      <td>0.947268</td>\n",
       "      <td>220.0</td>\n",
       "      <td>2.223919</td>\n",
       "    </tr>\n",
       "    <tr>\n",
       "      <th>12</th>\n",
       "      <td>151.124828</td>\n",
       "      <td>0.529848</td>\n",
       "      <td>220.0</td>\n",
       "      <td>2.244143</td>\n",
       "    </tr>\n",
       "    <tr>\n",
       "      <th>13</th>\n",
       "      <td>152.606460</td>\n",
       "      <td>0.270365</td>\n",
       "      <td>220.0</td>\n",
       "      <td>1.884655</td>\n",
       "    </tr>\n",
       "    <tr>\n",
       "      <th>15</th>\n",
       "      <td>127.716692</td>\n",
       "      <td>0.092302</td>\n",
       "      <td>69.0</td>\n",
       "      <td>4.669977</td>\n",
       "    </tr>\n",
       "    <tr>\n",
       "      <th>17</th>\n",
       "      <td>135.232040</td>\n",
       "      <td>0.034467</td>\n",
       "      <td>15.0</td>\n",
       "      <td>2.421714</td>\n",
       "    </tr>\n",
       "    <tr>\n",
       "      <th>18</th>\n",
       "      <td>306.757653</td>\n",
       "      <td>0.109881</td>\n",
       "      <td>6.0</td>\n",
       "      <td>2.363978</td>\n",
       "    </tr>\n",
       "    <tr>\n",
       "      <th>19</th>\n",
       "      <td>313.641258</td>\n",
       "      <td>0.094515</td>\n",
       "      <td>12.0</td>\n",
       "      <td>1.402870</td>\n",
       "    </tr>\n",
       "  </tbody>\n",
       "</table>\n",
       "</div>"
      ],
      "text/plain": [
       "             Q       tau  Cathode \\nThickness [µm]         n\n",
       "0   106.109020  0.485641                     500.0  1.302511\n",
       "1   105.112479  0.487356                     500.0  1.171666\n",
       "2     0.000000  0.000000                     550.0  0.000000\n",
       "3     0.000000  0.000000                     350.0  0.000000\n",
       "4     0.000000  0.000000                     350.0  0.000000\n",
       "5     0.000000  0.000000                      60.0  0.000000\n",
       "6     0.000000  0.000000                     120.0  0.000000\n",
       "7     0.000000  0.000000                     170.0  0.000000\n",
       "8     0.000000  0.000000                     120.0  0.000000\n",
       "9     0.000000  0.000000                     120.0  0.000000\n",
       "10    0.000000  0.000000                     170.0  0.000000\n",
       "11  153.778365  0.947268                     220.0  2.223919\n",
       "12  151.124828  0.529848                     220.0  2.244143\n",
       "13  152.606460  0.270365                     220.0  1.884655\n",
       "15  127.716692  0.092302                      69.0  4.669977\n",
       "17  135.232040  0.034467                      15.0  2.421714\n",
       "18  306.757653  0.109881                       6.0  2.363978\n",
       "19  313.641258  0.094515                      12.0  1.402870"
      ]
     },
     "execution_count": 4,
     "metadata": {},
     "output_type": "execute_result"
    }
   ],
   "source": [
    "df = df[{'n','tau','Q','Cathode \\nThickness [µm]'}]\n",
    "df = df.dropna() #drop all rows with Nan\n",
    "df"
   ]
  },
  {
   "cell_type": "markdown",
   "metadata": {},
   "source": [
    "## Pearson Correlation Testing"
   ]
  },
  {
   "cell_type": "code",
   "execution_count": 5,
   "metadata": {},
   "outputs": [],
   "source": [
    "# Set variables\n",
    "n = df['n'].values\n",
    "tau = df['tau'].values\n",
    "L = df['Cathode \\nThickness [µm]'].values"
   ]
  },
  {
   "cell_type": "code",
   "execution_count": 6,
   "metadata": {},
   "outputs": [
    {
     "name": "stdout",
     "output_type": "stream",
     "text": [
      "pearson correlation betweeen the input variables is 0.42 with p value 0.08\n",
      "Accept null hypothesis. The linear correlation  is statistically insignificant\n",
      "pearson correlation betweeen the input variables is -0.28 with p value 0.26\n",
      "Accept null hypothesis. The linear correlation  is statistically insignificant\n",
      "pearson correlation betweeen the input variables is 0.30 with p value 0.22\n",
      "Accept null hypothesis. The linear correlation  is statistically insignificant\n"
     ]
    },
    {
     "data": {
      "text/plain": [
       "(0.3016291208084929, 0.22382698384038494)"
      ]
     },
     "execution_count": 6,
     "metadata": {},
     "output_type": "execute_result"
    }
   ],
   "source": [
    "# Pearson correlation\n",
    "correlationtest.correlation_hypothesis(n,tau,0.05)\n",
    "correlationtest.correlation_hypothesis(n,L,0.05)\n",
    "correlationtest.correlation_hypothesis(tau,L,0.05)"
   ]
  },
  {
   "cell_type": "markdown",
   "metadata": {},
   "source": [
    "## Spearman Correlation\n",
    "Unlike Pearson correlation, Spearman correlation does not require the input sample to be normally distributed."
   ]
  },
  {
   "cell_type": "code",
   "execution_count": 7,
   "metadata": {},
   "outputs": [
    {
     "name": "stdout",
     "output_type": "stream",
     "text": [
      "spearman correlation betweeen the input variables is 0.79 with p value 0.00\n",
      "Reject null hypothesis.The linear correlation is statistically significant\n",
      "spearman correlation betweeen the input variables is -0.31 with p value 0.22\n",
      "Accept null hypothesis. The linear correlation  is statistically insignificant\n",
      "spearman correlation betweeen the input variables is 0.12 with p value 0.65\n",
      "Accept null hypothesis. The linear correlation  is statistically insignificant\n"
     ]
    },
    {
     "data": {
      "text/plain": [
       "(0.1153179038718819, 0.6486389665584609)"
      ]
     },
     "execution_count": 7,
     "metadata": {},
     "output_type": "execute_result"
    }
   ],
   "source": [
    "# Spearman correlation\n",
    "correlationtest.correlation_hypothesis(n,tau,0.05,test='spearman')\n",
    "correlationtest.correlation_hypothesis(n,L,0.05,test='spearman')\n",
    "correlationtest.correlation_hypothesis(tau,L,0.05,test='spearman')"
   ]
  },
  {
   "cell_type": "markdown",
   "metadata": {},
   "source": [
    "## Calculate and plot linear regression line"
   ]
  },
  {
   "cell_type": "code",
   "execution_count": 8,
   "metadata": {},
   "outputs": [
    {
     "data": {
      "text/plain": [
       "(0.08508011138757125, 0.076489169218304, 0.04583201696946789)"
      ]
     },
     "execution_count": 8,
     "metadata": {},
     "output_type": "execute_result"
    },
    {
     "data": {
      "image/png": "[encoded data removed]",
      "text/plain": [
       "<Figure size 432x288 with 1 Axes>"
      ]
     },
     "metadata": {
      "needs_background": "light"
     },
     "output_type": "display_data"
    }
   ],
   "source": [
    "correlationtest.plot_linear_regression(n, tau)"
   ]
  },
  {
   "cell_type": "code",
   "execution_count": null,
   "metadata": {},
   "outputs": [],
   "source": []
  }
 ],
 "metadata": {
  "kernelspec": {
   "display_name": "Python 3",
   "language": "python",
   "name": "python3"
  },
  "language_info": {
   "codemirror_mode": {
    "name": "ipython",
    "version": 3
   },
   "file_extension": ".py",
   "mimetype": "text/x-python",
   "name": "python",
   "nbconvert_exporter": "python",
   "pygments_lexer": "ipython3",
   "version": "3.8.5"
  }
 },
 "nbformat": 4,
 "nbformat_minor": 5
}
