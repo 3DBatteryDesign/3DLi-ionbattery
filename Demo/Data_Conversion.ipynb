{
 "cells": [
  {
   "cell_type": "code",
   "execution_count": 2,
   "metadata": {},
   "outputs": [
    {
     "ename": "ModuleNotFoundError",
     "evalue": "No module named 'capacity_vs_cycle'",
     "output_type": "error",
     "traceback": [
      "\u001b[0;31m---------------------------------------------------------------------------\u001b[0m",
      "\u001b[0;31mModuleNotFoundError\u001b[0m                       Traceback (most recent call last)",
      "\u001b[0;32m<ipython-input-2-284a9cd1581e>\u001b[0m in \u001b[0;36m<module>\u001b[0;34m\u001b[0m\n\u001b[1;32m     20\u001b[0m \u001b[0;32mimport\u001b[0m \u001b[0msys\u001b[0m\u001b[0;34m\u001b[0m\u001b[0;34m\u001b[0m\u001b[0m\n\u001b[1;32m     21\u001b[0m \u001b[0msys\u001b[0m\u001b[0;34m.\u001b[0m\u001b[0mpath\u001b[0m\u001b[0;34m.\u001b[0m\u001b[0mappend\u001b[0m\u001b[0;34m(\u001b[0m\u001b[0;34m'../batteryratecap'\u001b[0m\u001b[0;34m)\u001b[0m\u001b[0;34m\u001b[0m\u001b[0;34m\u001b[0m\u001b[0m\n\u001b[0;32m---> 22\u001b[0;31m \u001b[0;32mimport\u001b[0m \u001b[0mcapacity_vs_cycle\u001b[0m\u001b[0;34m\u001b[0m\u001b[0;34m\u001b[0m\u001b[0m\n\u001b[0m",
      "\u001b[0;31mModuleNotFoundError\u001b[0m: No module named 'capacity_vs_cycle'"
     ]
    }
   ],
   "source": [
    "import numpy as np\n",
    "from numpy import unique\n",
    "from numpy import where\n",
    "import pandas as pd\n",
    "import os\n",
    "\n",
    "import matplotlib\n",
    "from matplotlib import pyplot as plt\n",
    "%matplotlib inline\n",
    "import sklearn\n",
    "from sklearn.datasets import make_classification\n",
    "from sklearn.mixture import GaussianMixture\n",
    "\n",
    "import openpyxl\n",
    "import xlwt\n",
    "\n",
    "import ipywidgets as widgets\n",
    "\n",
    "import os\n",
    "import sys\n",
    "sys.path.append('../batteryratecap')\n",
    "import capacity_vs_cycle"
   ]
  },
  {
   "cell_type": "markdown",
   "metadata": {},
   "source": [
    "## Case # 1\n",
    "### Discharge curve &#8594; Capacity rate curve\n",
    "### E vs Li (<font color=red>V</font>) vs Capacity (<font color=red>Ah cm<sup>-2</sup></font>) &#8594; Capacity (<font color=red>Ah cm<sup>-2</sup></font>) vs i (<font color=red>$\\mu A$ cm <sup>-2</sup></font>)"
   ]
  },
  {
   "cell_type": "markdown",
   "metadata": {},
   "source": [
    "### Step 1) Upload and convert potential vs capacity data"
   ]
  },
  {
   "cell_type": "code",
   "execution_count": 2,
   "metadata": {},
   "outputs": [],
   "source": [
    "def potential_rate(xls_file, sheet_name, paper_num, set_num, c_rate):\n",
    "    \"\"\" \n",
    "    This function converts potential vs. capacity data to capacity vs c-rate data\n",
    "    The Highest x-value (capacity [mAh]) from the charge/discharge graph\n",
    "    PARAMETERS\n",
    "    ----------\n",
    "    1) Excel file (file path) - string\n",
    "    2) sheetnames - list\n",
    "    3) Paper # - string\n",
    "    4) Set # - integer: max number of sets\n",
    "    5) c_rate - dataframe\n",
    "    RETURNS\n",
    "    -------\n",
    "    Capacity vs c-rate - dataframe\n",
    "    \"\"\"\n",
    "    # Determining which set # and the number of set lists from the excel file\n",
    "    set_list = ['set #' + str(i) for i in range (1, set_num + 1)]\n",
    "    # Test that the input 'set_num' is an integer\n",
    "    assert type(set_num) == int, 'set_num must be an integer'\n",
    "    # Dataframing the interested potential vs capacity excel sheet\n",
    "    df = pd.read_excel(xls_file, sheet_name, header = [0,1,2]) #\n",
    "    # Merging multiple spreadsheets\n",
    "    df_sheets = []\n",
    "    for i in sheet_name:\n",
    "        df_sheets.append(df[i])\n",
    "    df_merged = pd.concat(df_sheets, axis = 1)\n",
    "    # Selecting maximum capacity values for each dataset and concatnate with corresponding c-rates or current density\n",
    "    caplist = []\n",
    "    for i in set_list:\n",
    "        set_i = (df_merged[paper_num, i])\n",
    "        set_i_max = set_i[\"Capacity (mAh/g)\"].max(axis=0).array\n",
    "        caplist.append(c_rate)\n",
    "        caplist.append(pd.DataFrame({\"Capacity (mAh/g)\": set_i_max}))\n",
    "    df_cap_rate = pd.concat(caplist, axis = 1)\n",
    "    # Test that the output is a dataframe\n",
    "    assert type(c_rate) == type(df_cap_rate), 'The output must be a dataframe'\n",
    "    return df_cap_rate"
   ]
  },
  {
   "cell_type": "code",
   "execution_count": 3,
   "metadata": {},
   "outputs": [
    {
     "ename": "FileNotFoundError",
     "evalue": "[Errno 2] No such file or directory: '/home/kev/capstone_spring_2021/3DLi-ionbattery/liibattery3d/data/liibattery3d_performancelog.xls'",
     "output_type": "error",
     "traceback": [
      "\u001b[0;31m---------------------------------------------------------------------------\u001b[0m",
      "\u001b[0;31mFileNotFoundError\u001b[0m                         Traceback (most recent call last)",
      "\u001b[0;32m<ipython-input-3-4ef655ac6426>\u001b[0m in \u001b[0;36m<module>\u001b[0;34m\u001b[0m\n\u001b[1;32m      3\u001b[0m \u001b[0mrates\u001b[0m \u001b[0;34m=\u001b[0m \u001b[0;34m{\u001b[0m \u001b[0;34m\"C rate\"\u001b[0m\u001b[0;34m:\u001b[0m \u001b[0;34m[\u001b[0m\u001b[0;36m0.5\u001b[0m\u001b[0;34m,\u001b[0m \u001b[0;36m1.0\u001b[0m\u001b[0;34m,\u001b[0m \u001b[0;36m2.0\u001b[0m\u001b[0;34m,\u001b[0m \u001b[0;36m5.0\u001b[0m\u001b[0;34m]\u001b[0m\u001b[0;34m}\u001b[0m\u001b[0;34m\u001b[0m\u001b[0;34m\u001b[0m\u001b[0m\n\u001b[1;32m      4\u001b[0m \u001b[0mc_rate\u001b[0m \u001b[0;34m=\u001b[0m \u001b[0mpd\u001b[0m\u001b[0;34m.\u001b[0m\u001b[0mDataFrame\u001b[0m\u001b[0;34m(\u001b[0m\u001b[0mrates\u001b[0m\u001b[0;34m)\u001b[0m\u001b[0;34m\u001b[0m\u001b[0;34m\u001b[0m\u001b[0m\n\u001b[0;32m----> 5\u001b[0;31m \u001b[0mdf_cap_rate\u001b[0m \u001b[0;34m=\u001b[0m \u001b[0mpotential_rate\u001b[0m\u001b[0;34m(\u001b[0m\u001b[0mfile_path\u001b[0m\u001b[0;34m,\u001b[0m \u001b[0msheet_name\u001b[0m\u001b[0;34m,\u001b[0m \u001b[0;34m'Paper # 32'\u001b[0m\u001b[0;34m,\u001b[0m \u001b[0;36m3\u001b[0m\u001b[0;34m,\u001b[0m \u001b[0mc_rate\u001b[0m\u001b[0;34m)\u001b[0m\u001b[0;34m\u001b[0m\u001b[0;34m\u001b[0m\u001b[0m\n\u001b[0m\u001b[1;32m      6\u001b[0m \u001b[0mdf_cap_rate\u001b[0m\u001b[0;34m\u001b[0m\u001b[0;34m\u001b[0m\u001b[0m\n",
      "\u001b[0;32m<ipython-input-2-9180cc580468>\u001b[0m in \u001b[0;36mpotential_rate\u001b[0;34m(xls_file, sheet_name, paper_num, set_num, c_rate)\u001b[0m\n\u001b[1;32m     19\u001b[0m     \u001b[0;32massert\u001b[0m \u001b[0mtype\u001b[0m\u001b[0;34m(\u001b[0m\u001b[0mset_num\u001b[0m\u001b[0;34m)\u001b[0m \u001b[0;34m==\u001b[0m \u001b[0mint\u001b[0m\u001b[0;34m,\u001b[0m \u001b[0;34m'set_num must be an integer'\u001b[0m\u001b[0;34m\u001b[0m\u001b[0;34m\u001b[0m\u001b[0m\n\u001b[1;32m     20\u001b[0m     \u001b[0;31m# Dataframing the interested potential vs capacity excel sheet\u001b[0m\u001b[0;34m\u001b[0m\u001b[0;34m\u001b[0m\u001b[0;34m\u001b[0m\u001b[0m\n\u001b[0;32m---> 21\u001b[0;31m     \u001b[0mdf\u001b[0m \u001b[0;34m=\u001b[0m \u001b[0mpd\u001b[0m\u001b[0;34m.\u001b[0m\u001b[0mread_excel\u001b[0m\u001b[0;34m(\u001b[0m\u001b[0mxls_file\u001b[0m\u001b[0;34m,\u001b[0m \u001b[0msheet_name\u001b[0m\u001b[0;34m,\u001b[0m \u001b[0mheader\u001b[0m \u001b[0;34m=\u001b[0m \u001b[0;34m[\u001b[0m\u001b[0;36m0\u001b[0m\u001b[0;34m,\u001b[0m\u001b[0;36m1\u001b[0m\u001b[0;34m,\u001b[0m\u001b[0;36m2\u001b[0m\u001b[0;34m]\u001b[0m\u001b[0;34m)\u001b[0m \u001b[0;31m#\u001b[0m\u001b[0;34m\u001b[0m\u001b[0;34m\u001b[0m\u001b[0m\n\u001b[0m\u001b[1;32m     22\u001b[0m     \u001b[0;31m# Merging multiple spreadsheets\u001b[0m\u001b[0;34m\u001b[0m\u001b[0;34m\u001b[0m\u001b[0;34m\u001b[0m\u001b[0m\n\u001b[1;32m     23\u001b[0m     \u001b[0mdf_sheets\u001b[0m \u001b[0;34m=\u001b[0m \u001b[0;34m[\u001b[0m\u001b[0;34m]\u001b[0m\u001b[0;34m\u001b[0m\u001b[0;34m\u001b[0m\u001b[0m\n",
      "\u001b[0;32m~/miniconda3/lib/python3.8/site-packages/pandas/util/_decorators.py\u001b[0m in \u001b[0;36mwrapper\u001b[0;34m(*args, **kwargs)\u001b[0m\n\u001b[1;32m    297\u001b[0m                 )\n\u001b[1;32m    298\u001b[0m                 \u001b[0mwarnings\u001b[0m\u001b[0;34m.\u001b[0m\u001b[0mwarn\u001b[0m\u001b[0;34m(\u001b[0m\u001b[0mmsg\u001b[0m\u001b[0;34m,\u001b[0m \u001b[0mFutureWarning\u001b[0m\u001b[0;34m,\u001b[0m \u001b[0mstacklevel\u001b[0m\u001b[0;34m=\u001b[0m\u001b[0mstacklevel\u001b[0m\u001b[0;34m)\u001b[0m\u001b[0;34m\u001b[0m\u001b[0;34m\u001b[0m\u001b[0m\n\u001b[0;32m--> 299\u001b[0;31m             \u001b[0;32mreturn\u001b[0m \u001b[0mfunc\u001b[0m\u001b[0;34m(\u001b[0m\u001b[0;34m*\u001b[0m\u001b[0margs\u001b[0m\u001b[0;34m,\u001b[0m \u001b[0;34m**\u001b[0m\u001b[0mkwargs\u001b[0m\u001b[0;34m)\u001b[0m\u001b[0;34m\u001b[0m\u001b[0;34m\u001b[0m\u001b[0m\n\u001b[0m\u001b[1;32m    300\u001b[0m \u001b[0;34m\u001b[0m\u001b[0m\n\u001b[1;32m    301\u001b[0m         \u001b[0;32mreturn\u001b[0m \u001b[0mwrapper\u001b[0m\u001b[0;34m\u001b[0m\u001b[0;34m\u001b[0m\u001b[0m\n",
      "\u001b[0;32m~/miniconda3/lib/python3.8/site-packages/pandas/io/excel/_base.py\u001b[0m in \u001b[0;36mread_excel\u001b[0;34m(io, sheet_name, header, names, index_col, usecols, squeeze, dtype, engine, converters, true_values, false_values, skiprows, nrows, na_values, keep_default_na, na_filter, verbose, parse_dates, date_parser, thousands, comment, skipfooter, convert_float, mangle_dupe_cols, storage_options)\u001b[0m\n\u001b[1;32m    334\u001b[0m     \u001b[0;32mif\u001b[0m \u001b[0;32mnot\u001b[0m \u001b[0misinstance\u001b[0m\u001b[0;34m(\u001b[0m\u001b[0mio\u001b[0m\u001b[0;34m,\u001b[0m \u001b[0mExcelFile\u001b[0m\u001b[0;34m)\u001b[0m\u001b[0;34m:\u001b[0m\u001b[0;34m\u001b[0m\u001b[0;34m\u001b[0m\u001b[0m\n\u001b[1;32m    335\u001b[0m         \u001b[0mshould_close\u001b[0m \u001b[0;34m=\u001b[0m \u001b[0;32mTrue\u001b[0m\u001b[0;34m\u001b[0m\u001b[0;34m\u001b[0m\u001b[0m\n\u001b[0;32m--> 336\u001b[0;31m         \u001b[0mio\u001b[0m \u001b[0;34m=\u001b[0m \u001b[0mExcelFile\u001b[0m\u001b[0;34m(\u001b[0m\u001b[0mio\u001b[0m\u001b[0;34m,\u001b[0m \u001b[0mstorage_options\u001b[0m\u001b[0;34m=\u001b[0m\u001b[0mstorage_options\u001b[0m\u001b[0;34m,\u001b[0m \u001b[0mengine\u001b[0m\u001b[0;34m=\u001b[0m\u001b[0mengine\u001b[0m\u001b[0;34m)\u001b[0m\u001b[0;34m\u001b[0m\u001b[0;34m\u001b[0m\u001b[0m\n\u001b[0m\u001b[1;32m    337\u001b[0m     \u001b[0;32melif\u001b[0m \u001b[0mengine\u001b[0m \u001b[0;32mand\u001b[0m \u001b[0mengine\u001b[0m \u001b[0;34m!=\u001b[0m \u001b[0mio\u001b[0m\u001b[0;34m.\u001b[0m\u001b[0mengine\u001b[0m\u001b[0;34m:\u001b[0m\u001b[0;34m\u001b[0m\u001b[0;34m\u001b[0m\u001b[0m\n\u001b[1;32m    338\u001b[0m         raise ValueError(\n",
      "\u001b[0;32m~/miniconda3/lib/python3.8/site-packages/pandas/io/excel/_base.py\u001b[0m in \u001b[0;36m__init__\u001b[0;34m(self, path_or_buffer, engine, storage_options)\u001b[0m\n\u001b[1;32m   1069\u001b[0m                 \u001b[0mext\u001b[0m \u001b[0;34m=\u001b[0m \u001b[0;34m\"xls\"\u001b[0m\u001b[0;34m\u001b[0m\u001b[0;34m\u001b[0m\u001b[0m\n\u001b[1;32m   1070\u001b[0m             \u001b[0;32melse\u001b[0m\u001b[0;34m:\u001b[0m\u001b[0;34m\u001b[0m\u001b[0;34m\u001b[0m\u001b[0m\n\u001b[0;32m-> 1071\u001b[0;31m                 ext = inspect_excel_format(\n\u001b[0m\u001b[1;32m   1072\u001b[0m                     \u001b[0mcontent\u001b[0m\u001b[0;34m=\u001b[0m\u001b[0mpath_or_buffer\u001b[0m\u001b[0;34m,\u001b[0m \u001b[0mstorage_options\u001b[0m\u001b[0;34m=\u001b[0m\u001b[0mstorage_options\u001b[0m\u001b[0;34m\u001b[0m\u001b[0;34m\u001b[0m\u001b[0m\n\u001b[1;32m   1073\u001b[0m                 )\n",
      "\u001b[0;32m~/miniconda3/lib/python3.8/site-packages/pandas/io/excel/_base.py\u001b[0m in \u001b[0;36minspect_excel_format\u001b[0;34m(path, content, storage_options)\u001b[0m\n\u001b[1;32m    947\u001b[0m     \u001b[0;32massert\u001b[0m \u001b[0mcontent_or_path\u001b[0m \u001b[0;32mis\u001b[0m \u001b[0;32mnot\u001b[0m \u001b[0;32mNone\u001b[0m\u001b[0;34m\u001b[0m\u001b[0;34m\u001b[0m\u001b[0m\n\u001b[1;32m    948\u001b[0m \u001b[0;34m\u001b[0m\u001b[0m\n\u001b[0;32m--> 949\u001b[0;31m     with get_handle(\n\u001b[0m\u001b[1;32m    950\u001b[0m         \u001b[0mcontent_or_path\u001b[0m\u001b[0;34m,\u001b[0m \u001b[0;34m\"rb\"\u001b[0m\u001b[0;34m,\u001b[0m \u001b[0mstorage_options\u001b[0m\u001b[0;34m=\u001b[0m\u001b[0mstorage_options\u001b[0m\u001b[0;34m,\u001b[0m \u001b[0mis_text\u001b[0m\u001b[0;34m=\u001b[0m\u001b[0;32mFalse\u001b[0m\u001b[0;34m\u001b[0m\u001b[0;34m\u001b[0m\u001b[0m\n\u001b[1;32m    951\u001b[0m     ) as handle:\n",
      "\u001b[0;32m~/miniconda3/lib/python3.8/site-packages/pandas/io/common.py\u001b[0m in \u001b[0;36mget_handle\u001b[0;34m(path_or_buf, mode, encoding, compression, memory_map, is_text, errors, storage_options)\u001b[0m\n\u001b[1;32m    649\u001b[0m         \u001b[0;32melse\u001b[0m\u001b[0;34m:\u001b[0m\u001b[0;34m\u001b[0m\u001b[0;34m\u001b[0m\u001b[0m\n\u001b[1;32m    650\u001b[0m             \u001b[0;31m# Binary mode\u001b[0m\u001b[0;34m\u001b[0m\u001b[0;34m\u001b[0m\u001b[0;34m\u001b[0m\u001b[0m\n\u001b[0;32m--> 651\u001b[0;31m             \u001b[0mhandle\u001b[0m \u001b[0;34m=\u001b[0m \u001b[0mopen\u001b[0m\u001b[0;34m(\u001b[0m\u001b[0mhandle\u001b[0m\u001b[0;34m,\u001b[0m \u001b[0mioargs\u001b[0m\u001b[0;34m.\u001b[0m\u001b[0mmode\u001b[0m\u001b[0;34m)\u001b[0m\u001b[0;34m\u001b[0m\u001b[0;34m\u001b[0m\u001b[0m\n\u001b[0m\u001b[1;32m    652\u001b[0m         \u001b[0mhandles\u001b[0m\u001b[0;34m.\u001b[0m\u001b[0mappend\u001b[0m\u001b[0;34m(\u001b[0m\u001b[0mhandle\u001b[0m\u001b[0;34m)\u001b[0m\u001b[0;34m\u001b[0m\u001b[0;34m\u001b[0m\u001b[0m\n\u001b[1;32m    653\u001b[0m \u001b[0;34m\u001b[0m\u001b[0m\n",
      "\u001b[0;31mFileNotFoundError\u001b[0m: [Errno 2] No such file or directory: '/home/kev/capstone_spring_2021/3DLi-ionbattery/liibattery3d/data/liibattery3d_performancelog.xls'"
     ]
    }
   ],
   "source": [
    "file_path = '~/capstone_spring_2021/3DLi-ionbattery/liibattery3d/data/liibattery3d_performancelog.xls'\n",
    "sheet_name = ['1_Discharge (Cover2)', '1_Discharge (1C)', '1_Discharge (2C)', '1_Discharge (5C)']\n",
    "rates = { \"C rate\": [0.5, 1.0, 2.0, 5.0]}\n",
    "c_rate = pd.DataFrame(rates)\n",
    "df_cap_rate = potential_rate(file_path, sheet_name, 'Paper # 32', 3, c_rate)\n",
    "df_cap_rate"
   ]
  },
  {
   "cell_type": "markdown",
   "metadata": {},
   "source": [
    "### Step 2) Export the new dataframe to an existing excel file"
   ]
  },
  {
   "cell_type": "code",
   "execution_count": null,
   "metadata": {},
   "outputs": [],
   "source": [
    "def excel_merge(dataframe, xls_file, sheetname):\n",
    "    \"\"\"\n",
    "    This function adds the converted dataframe to an existing excel file\n",
    "    PARAMETERS\n",
    "    ----------\n",
    "    1) converted dataframe - dataframe\n",
    "    2) Excel file (file path) - string\n",
    "    3) sheetname - string\n",
    "    RETURNS\n",
    "    -------\n",
    "    A new sheet of the convereted data in the excel file\n",
    "    \"\"\"\n",
    "    # Exporting the converted dataframe to an excel file\n",
    "    dataframe.to_excel(xls_file, sheet_name = sheetname, index=False, header=True)\n",
    "    # Test that the sheet name is a string\n",
    "    assert type(sheetname) == str, 'sheetname must be a string'\n",
    "    print('saved succesfully to' + xls_file)\n",
    "    return"
   ]
  },
  {
   "cell_type": "code",
   "execution_count": null,
   "metadata": {},
   "outputs": [],
   "source": [
    "file_path_temp = '~/capstone_spring_2021/3DLi-ionbattery/Demo/Excelfile_ex.xls'\n",
    "excel_merge(df_cap_rate, file_path_temp, 'Capacity_Rate')"
   ]
  },
  {
   "cell_type": "markdown",
   "metadata": {},
   "source": [
    "## Case # 2\n",
    "### Rate test data &#8594; Capacity rate curve\n",
    "### Capacity (<font color=red>Ah cm<sup>-2</sup></font>) vs Cycle #  &#8594; Capacity (<font color=red>Ah cm<sup>-2</sup></font>) vs i (<font color=red>$\\mu A$ cm <sup>-2</sup></font>)"
   ]
  },
  {
   "cell_type": "markdown",
   "metadata": {},
   "source": [
    "###### Loading in excel files"
   ]
  },
  {
   "cell_type": "code",
   "execution_count": 4,
   "metadata": {},
   "outputs": [],
   "source": [
    "battery_performance = pd.read_excel('NEW_3D_Battery_Performance_Log.xls', sheet_name = None, header=[0, 1, 2])\n",
    "battery_performance_sheet_names = pd.ExcelFile('NEW_3D_Battery_Performance_Log.xls').sheet_names"
   ]
  },
  {
   "cell_type": "markdown",
   "metadata": {},
   "source": [
    "###### Creating a different df for each excel sheet in the file"
   ]
  },
  {
   "cell_type": "code",
   "execution_count": 5,
   "metadata": {},
   "outputs": [],
   "source": [
    "for i, j in enumerate(battery_performance_sheet_names):\n",
    "    globals()[f'battery_performance_{j}'] = battery_performance[battery_performance_sheet_names[i]]"
   ]
  },
  {
   "cell_type": "markdown",
   "metadata": {},
   "source": [
    "###### Previewing the dataframe"
   ]
  },
  {
   "cell_type": "code",
   "execution_count": 6,
   "metadata": {},
   "outputs": [
    {
     "data": {
      "text/html": [
       "<div>\n",
       "<style scoped>\n",
       "    .dataframe tbody tr th:only-of-type {\n",
       "        vertical-align: middle;\n",
       "    }\n",
       "\n",
       "    .dataframe tbody tr th {\n",
       "        vertical-align: top;\n",
       "    }\n",
       "\n",
       "    .dataframe thead tr th {\n",
       "        text-align: left;\n",
       "    }\n",
       "</style>\n",
       "<table border=\"1\" class=\"dataframe\">\n",
       "  <thead>\n",
       "    <tr>\n",
       "      <th></th>\n",
       "      <th colspan=\"2\" halign=\"left\">paper1</th>\n",
       "      <th colspan=\"8\" halign=\"left\">paper2</th>\n",
       "      <th>...</th>\n",
       "      <th colspan=\"2\" halign=\"left\">paper29</th>\n",
       "      <th colspan=\"8\" halign=\"left\">paper32</th>\n",
       "    </tr>\n",
       "    <tr>\n",
       "      <th></th>\n",
       "      <th colspan=\"2\" halign=\"left\">set1E</th>\n",
       "      <th colspan=\"2\" halign=\"left\">set1E</th>\n",
       "      <th colspan=\"2\" halign=\"left\">set2E</th>\n",
       "      <th colspan=\"2\" halign=\"left\">set3E</th>\n",
       "      <th colspan=\"2\" halign=\"left\">set4E</th>\n",
       "      <th>...</th>\n",
       "      <th colspan=\"2\" halign=\"left\">set1E</th>\n",
       "      <th colspan=\"2\" halign=\"left\">set1E</th>\n",
       "      <th colspan=\"2\" halign=\"left\">set2E</th>\n",
       "      <th colspan=\"4\" halign=\"left\">set3E</th>\n",
       "    </tr>\n",
       "    <tr>\n",
       "      <th></th>\n",
       "      <th>Cycle #</th>\n",
       "      <th>Capacity (mAh/g)</th>\n",
       "      <th>Cycle #</th>\n",
       "      <th>Capacity (mAh/g)</th>\n",
       "      <th>Cycle #</th>\n",
       "      <th>Capacity (mAh/g)</th>\n",
       "      <th>Cycle #</th>\n",
       "      <th>Capacity (mAh/g)</th>\n",
       "      <th>Cycle #</th>\n",
       "      <th>Capacity (mAh/g)</th>\n",
       "      <th>...</th>\n",
       "      <th>Cycle #</th>\n",
       "      <th>Capacity (mAh/g)</th>\n",
       "      <th>Cycle #</th>\n",
       "      <th>Capacity (mAh/g)</th>\n",
       "      <th>Cycle #</th>\n",
       "      <th>Capacity (mAh/g)</th>\n",
       "      <th>Cycle #</th>\n",
       "      <th>Capacity (mAh/g)</th>\n",
       "      <th>Cycle #.1</th>\n",
       "      <th>Capacity (mAh/g).1</th>\n",
       "    </tr>\n",
       "  </thead>\n",
       "  <tbody>\n",
       "    <tr>\n",
       "      <th>0</th>\n",
       "      <td>0.185615</td>\n",
       "      <td>122.911465</td>\n",
       "      <td>1.021898</td>\n",
       "      <td>249.145299</td>\n",
       "      <td>0.948905</td>\n",
       "      <td>150.000000</td>\n",
       "      <td>0.912162</td>\n",
       "      <td>70.588235</td>\n",
       "      <td>0.979730</td>\n",
       "      <td>84.873950</td>\n",
       "      <td>...</td>\n",
       "      <td>1.008547</td>\n",
       "      <td>117.083333</td>\n",
       "      <td>0.970927</td>\n",
       "      <td>173.078008</td>\n",
       "      <td>12.054231</td>\n",
       "      <td>135.951262</td>\n",
       "      <td>0.970927</td>\n",
       "      <td>158.406955</td>\n",
       "      <td>NaN</td>\n",
       "      <td>NaN</td>\n",
       "    </tr>\n",
       "    <tr>\n",
       "      <th>1</th>\n",
       "      <td>1.670534</td>\n",
       "      <td>127.179225</td>\n",
       "      <td>1.897810</td>\n",
       "      <td>197.863248</td>\n",
       "      <td>2.043796</td>\n",
       "      <td>129.487179</td>\n",
       "      <td>1.925676</td>\n",
       "      <td>36.554622</td>\n",
       "      <td>1.858108</td>\n",
       "      <td>40.336134</td>\n",
       "      <td>...</td>\n",
       "      <td>2.017094</td>\n",
       "      <td>96.250000</td>\n",
       "      <td>2.000792</td>\n",
       "      <td>159.745980</td>\n",
       "      <td>13.035055</td>\n",
       "      <td>135.402345</td>\n",
       "      <td>2.000792</td>\n",
       "      <td>149.848841</td>\n",
       "      <td>NaN</td>\n",
       "      <td>NaN</td>\n",
       "    </tr>\n",
       "    <tr>\n",
       "      <th>2</th>\n",
       "      <td>2.969838</td>\n",
       "      <td>119.497258</td>\n",
       "      <td>3.065693</td>\n",
       "      <td>199.572650</td>\n",
       "      <td>2.992701</td>\n",
       "      <td>124.358974</td>\n",
       "      <td>3.006757</td>\n",
       "      <td>35.714286</td>\n",
       "      <td>2.939189</td>\n",
       "      <td>42.016807</td>\n",
       "      <td>...</td>\n",
       "      <td>3.008547</td>\n",
       "      <td>101.805556</td>\n",
       "      <td>3.030656</td>\n",
       "      <td>157.778195</td>\n",
       "      <td>14.064919</td>\n",
       "      <td>135.527099</td>\n",
       "      <td>2.981615</td>\n",
       "      <td>148.800909</td>\n",
       "      <td>NaN</td>\n",
       "      <td>NaN</td>\n",
       "    </tr>\n",
       "    <tr>\n",
       "      <th>3</th>\n",
       "      <td>3.897912</td>\n",
       "      <td>110.961740</td>\n",
       "      <td>4.014599</td>\n",
       "      <td>214.957265</td>\n",
       "      <td>3.868613</td>\n",
       "      <td>127.777778</td>\n",
       "      <td>3.885135</td>\n",
       "      <td>35.714286</td>\n",
       "      <td>4.020270</td>\n",
       "      <td>43.277311</td>\n",
       "      <td>...</td>\n",
       "      <td>4.034188</td>\n",
       "      <td>104.583333</td>\n",
       "      <td>3.962438</td>\n",
       "      <td>157.708333</td>\n",
       "      <td>15.045742</td>\n",
       "      <td>135.585317</td>\n",
       "      <td>3.962438</td>\n",
       "      <td>148.509816</td>\n",
       "      <td>NaN</td>\n",
       "      <td>NaN</td>\n",
       "    </tr>\n",
       "    <tr>\n",
       "      <th>4</th>\n",
       "      <td>5.011601</td>\n",
       "      <td>109.681412</td>\n",
       "      <td>4.963504</td>\n",
       "      <td>261.965812</td>\n",
       "      <td>4.963504</td>\n",
       "      <td>130.341880</td>\n",
       "      <td>4.898649</td>\n",
       "      <td>35.294118</td>\n",
       "      <td>4.898649</td>\n",
       "      <td>40.336134</td>\n",
       "      <td>...</td>\n",
       "      <td>4.991453</td>\n",
       "      <td>105.972222</td>\n",
       "      <td>5.074038</td>\n",
       "      <td>156.485746</td>\n",
       "      <td>19.067118</td>\n",
       "      <td>116.547880</td>\n",
       "      <td>4.992303</td>\n",
       "      <td>147.857769</td>\n",
       "      <td>NaN</td>\n",
       "      <td>NaN</td>\n",
       "    </tr>\n",
       "    <tr>\n",
       "      <th>5</th>\n",
       "      <td>6.125290</td>\n",
       "      <td>110.108188</td>\n",
       "      <td>5.912409</td>\n",
       "      <td>331.196581</td>\n",
       "      <td>5.985401</td>\n",
       "      <td>130.341880</td>\n",
       "      <td>5.912162</td>\n",
       "      <td>35.294118</td>\n",
       "      <td>5.979730</td>\n",
       "      <td>50.000000</td>\n",
       "      <td>...</td>\n",
       "      <td>6.000000</td>\n",
       "      <td>108.194444</td>\n",
       "      <td>6.022167</td>\n",
       "      <td>154.448099</td>\n",
       "      <td>20.096983</td>\n",
       "      <td>116.190252</td>\n",
       "      <td>6.022167</td>\n",
       "      <td>144.026995</td>\n",
       "      <td>NaN</td>\n",
       "      <td>NaN</td>\n",
       "    </tr>\n",
       "    <tr>\n",
       "      <th>6</th>\n",
       "      <td>6.867749</td>\n",
       "      <td>110.961740</td>\n",
       "      <td>6.715328</td>\n",
       "      <td>329.487179</td>\n",
       "      <td>6.934307</td>\n",
       "      <td>173.931624</td>\n",
       "      <td>7.060811</td>\n",
       "      <td>40.756303</td>\n",
       "      <td>6.993243</td>\n",
       "      <td>47.058824</td>\n",
       "      <td>...</td>\n",
       "      <td>7.008547</td>\n",
       "      <td>108.472222</td>\n",
       "      <td>7.002991</td>\n",
       "      <td>153.516604</td>\n",
       "      <td>21.077806</td>\n",
       "      <td>73.075322</td>\n",
       "      <td>7.002991</td>\n",
       "      <td>142.746188</td>\n",
       "      <td>NaN</td>\n",
       "      <td>NaN</td>\n",
       "    </tr>\n",
       "  </tbody>\n",
       "</table>\n",
       "<p>7 rows × 30 columns</p>\n",
       "</div>"
      ],
      "text/plain": [
       "     paper1                     paper2                             \\\n",
       "      set1E                      set1E                      set2E   \n",
       "    Cycle # Capacity (mAh/g)   Cycle # Capacity (mAh/g)   Cycle #   \n",
       "0  0.185615       122.911465  1.021898       249.145299  0.948905   \n",
       "1  1.670534       127.179225  1.897810       197.863248  2.043796   \n",
       "2  2.969838       119.497258  3.065693       199.572650  2.992701   \n",
       "3  3.897912       110.961740  4.014599       214.957265  3.868613   \n",
       "4  5.011601       109.681412  4.963504       261.965812  4.963504   \n",
       "5  6.125290       110.108188  5.912409       331.196581  5.985401   \n",
       "6  6.867749       110.961740  6.715328       329.487179  6.934307   \n",
       "\n",
       "                                                                          ...  \\\n",
       "                       set3E                      set4E                   ...   \n",
       "  Capacity (mAh/g)   Cycle # Capacity (mAh/g)   Cycle # Capacity (mAh/g)  ...   \n",
       "0       150.000000  0.912162        70.588235  0.979730        84.873950  ...   \n",
       "1       129.487179  1.925676        36.554622  1.858108        40.336134  ...   \n",
       "2       124.358974  3.006757        35.714286  2.939189        42.016807  ...   \n",
       "3       127.777778  3.885135        35.714286  4.020270        43.277311  ...   \n",
       "4       130.341880  4.898649        35.294118  4.898649        40.336134  ...   \n",
       "5       130.341880  5.912162        35.294118  5.979730        50.000000  ...   \n",
       "6       173.931624  7.060811        40.756303  6.993243        47.058824  ...   \n",
       "\n",
       "    paper29                    paper32                              \\\n",
       "      set1E                      set1E                       set2E   \n",
       "    Cycle # Capacity (mAh/g)   Cycle # Capacity (mAh/g)    Cycle #   \n",
       "0  1.008547       117.083333  0.970927       173.078008  12.054231   \n",
       "1  2.017094        96.250000  2.000792       159.745980  13.035055   \n",
       "2  3.008547       101.805556  3.030656       157.778195  14.064919   \n",
       "3  4.034188       104.583333  3.962438       157.708333  15.045742   \n",
       "4  4.991453       105.972222  5.074038       156.485746  19.067118   \n",
       "5  6.000000       108.194444  6.022167       154.448099  20.096983   \n",
       "6  7.008547       108.472222  7.002991       153.516604  21.077806   \n",
       "\n",
       "                                                                            \n",
       "                       set3E                                                \n",
       "  Capacity (mAh/g)   Cycle # Capacity (mAh/g) Cycle #.1 Capacity (mAh/g).1  \n",
       "0       135.951262  0.970927       158.406955       NaN                NaN  \n",
       "1       135.402345  2.000792       149.848841       NaN                NaN  \n",
       "2       135.527099  2.981615       148.800909       NaN                NaN  \n",
       "3       135.585317  3.962438       148.509816       NaN                NaN  \n",
       "4       116.547880  4.992303       147.857769       NaN                NaN  \n",
       "5       116.190252  6.022167       144.026995       NaN                NaN  \n",
       "6        73.075322  7.002991       142.746188       NaN                NaN  \n",
       "\n",
       "[7 rows x 30 columns]"
      ]
     },
     "execution_count": 6,
     "metadata": {},
     "output_type": "execute_result"
    }
   ],
   "source": [
    "battery_performance_4_CapacityCycle.head(7)"
   ]
  },
  {
   "cell_type": "markdown",
   "metadata": {},
   "source": [
    "###### "
   ]
  },
  {
   "cell_type": "markdown",
   "metadata": {},
   "source": [
    "###### Get the paper and set index for each pair of data in the df"
   ]
  },
  {
   "cell_type": "code",
   "execution_count": 7,
   "metadata": {},
   "outputs": [],
   "source": [
    "papers = np.array(battery_performance_4_CapacityCycle.columns.get_level_values(0))\n",
    "papers = papers[0:-1:2]\n",
    "    \n",
    "sets = np.array(battery_performance_4_CapacityCycle.columns.get_level_values(1))\n",
    "sets = sets[0:-1:2]"
   ]
  },
  {
   "cell_type": "markdown",
   "metadata": {},
   "source": [
    "###### Creating seperate numpy arrays of each pair of data with the name of the variable as the paper and set ID"
   ]
  },
  {
   "cell_type": "code",
   "execution_count": 8,
   "metadata": {},
   "outputs": [],
   "source": [
    "# Initialize list of all paperX_setX which can be saved as the input for the ipywidget below\n",
    "list_of_papers_sets = []\n",
    "\n",
    "\n",
    "for i,j in zip(papers,sets):\n",
    "\n",
    "        \n",
    "    globals()[f'capacity_{i}_{j}'] = np.array(battery_performance_4_CapacityCycle[i][j])\n",
    "    globals()[f'capacity_{i}_{j}'] = globals()[f'capacity_{i}_{j}'][~np.isnan(globals()[f'capacity_{i}_{j}'])]\n",
    "    globals()[f'capacity_{i}_{j}'] = globals()[f'capacity_{i}_{j}'].reshape(-1,2)\n",
    "    \n",
    "    # Keep track of list of unique paper/set \n",
    "    list_of_papers_sets.append(f'capacity_{i}_{j}')"
   ]
  },
  {
   "cell_type": "code",
   "execution_count": 9,
   "metadata": {},
   "outputs": [
    {
     "data": {
      "text/plain": [
       "['capacity_paper1_set1E',\n",
       " 'capacity_paper2_set1E',\n",
       " 'capacity_paper2_set2E',\n",
       " 'capacity_paper2_set3E',\n",
       " 'capacity_paper2_set4E',\n",
       " 'capacity_paper3_set1E',\n",
       " 'capacity_paper4_set1E',\n",
       " 'capacity_paper4_set2E',\n",
       " 'capacity_paper4_set3E',\n",
       " 'capacity_paper19_set1E',\n",
       " 'capacity_paper29_set1E',\n",
       " 'capacity_paper32_set1E',\n",
       " 'capacity_paper32_set2E',\n",
       " 'capacity_paper32_set3E',\n",
       " 'capacity_paper32_set3E']"
      ]
     },
     "execution_count": 9,
     "metadata": {},
     "output_type": "execute_result"
    }
   ],
   "source": [
    "list_of_papers_sets"
   ]
  },
  {
   "cell_type": "markdown",
   "metadata": {},
   "source": [
    "###### Select ONE paper and run the cell. If you want to see a different paper/set, re-run the cell starting below"
   ]
  },
  {
   "cell_type": "code",
   "execution_count": 10,
   "metadata": {},
   "outputs": [],
   "source": [
    "user_selected_paper = widgets.SelectMultiple(\n",
    "    options=list_of_papers_sets,\n",
    "    #value = ,\n",
    "    rows=10,\n",
    "    description='Select paper',\n",
    "    disabled=False\n",
    ")"
   ]
  },
  {
   "cell_type": "code",
   "execution_count": 14,
   "metadata": {},
   "outputs": [
    {
     "data": {
      "application/vnd.jupyter.widget-view+json": {
       "model_id": "5d31159e0777456b901a0b0b1ca5a2f6",
       "version_major": 2,
       "version_minor": 0
      },
      "text/plain": [
       "SelectMultiple(description='Select paper', index=(0,), options=('capacity_paper1_set1E', 'capacity_paper2_set1…"
      ]
     },
     "metadata": {},
     "output_type": "display_data"
    }
   ],
   "source": [
    "#### NOTE: Run this cell, then select ONE option and run the cell again and make sure your selection is correctly output below\n",
    "#### if you wish to select a different paper/set, run the cell above first!\n",
    "user_selected_paper"
   ]
  },
  {
   "cell_type": "code",
   "execution_count": 15,
   "metadata": {},
   "outputs": [
    {
     "data": {
      "text/plain": [
       "'capacity_paper1_set1E'"
      ]
     },
     "execution_count": 15,
     "metadata": {},
     "output_type": "execute_result"
    }
   ],
   "source": [
    "user_selected_paper = user_selected_paper.value[0]\n",
    "user_selected_paper"
   ]
  },
  {
   "cell_type": "code",
   "execution_count": 17,
   "metadata": {},
   "outputs": [
    {
     "data": {
      "text/plain": [
       "'capacity_paper1_set1E'"
      ]
     },
     "execution_count": 17,
     "metadata": {},
     "output_type": "execute_result"
    }
   ],
   "source": [
    "user_selected_paper"
   ]
  },
  {
   "cell_type": "code",
   "execution_count": 18,
   "metadata": {},
   "outputs": [
    {
     "data": {
      "text/plain": [
       "<function matplotlib.pyplot.show(*args, **kw)>"
      ]
     },
     "execution_count": 18,
     "metadata": {},
     "output_type": "execute_result"
    },
    {
     "data": {
      "image/png": "[encoded data removed]",
      "text/plain": [
       "<Figure size 432x288 with 1 Axes>"
      ]
     },
     "metadata": {
      "needs_background": "light"
     },
     "output_type": "display_data"
    }
   ],
   "source": [
    "plt.scatter(globals()[user_selected_paper][:,0], globals()[user_selected_paper][:,1])\n",
    "plt.xlabel(\"Capacity (mAh/g)\")\n",
    "plt.ylabel(\"Cycle #\")\n",
    "plt.show"
   ]
  },
  {
   "cell_type": "code",
   "execution_count": 19,
   "metadata": {},
   "outputs": [
    {
     "data": {
      "text/plain": [
       "<function matplotlib.pyplot.show(*args, **kw)>"
      ]
     },
     "execution_count": 19,
     "metadata": {},
     "output_type": "execute_result"
    },
    {
     "data": {
      "image/png": "[encoded data removed]",
      "text/plain": [
       "<Figure size 432x288 with 1 Axes>"
      ]
     },
     "metadata": {
      "needs_background": "light"
     },
     "output_type": "display_data"
    }
   ],
   "source": [
    "## For different selections of paper/set, the user will have to adjust 'n_components' until the groups\n",
    "## are properly grouped, as seen in the plot below\n",
    "model = GaussianMixture(n_components = 7)\n",
    "model.fit(globals()[user_selected_paper])\n",
    "\n",
    "## Use the model to make predictions about which group each datapoint belongs to\n",
    "## predictions stored as an np array with indexes corresponding to points, and values to their assigned class\n",
    "prediction = model.predict(globals()[user_selected_paper])\n",
    "\n",
    "## np.array of the unique classes \n",
    "clusters = unique(prediction)\n",
    "\n",
    "## Plot the points now that they are grouped\n",
    "for cluster in clusters:\n",
    "    row_ix = where(prediction == cluster)\n",
    "    plt.scatter(globals()[user_selected_paper][row_ix, 0], globals()[user_selected_paper][row_ix, 1])\n",
    "plt.xlabel(\"Capacity (mAh/g)\")\n",
    "plt.ylabel(\"Cycle #\")\n",
    "plt.show"
   ]
  },
  {
   "cell_type": "markdown",
   "metadata": {},
   "source": [
    "###### Return the means of each group, and properly sort them"
   ]
  },
  {
   "cell_type": "code",
   "execution_count": 30,
   "metadata": {},
   "outputs": [],
   "source": [
    "means = model.means_\n",
    "means = means[np.argsort(means[:, 0])]"
   ]
  },
  {
   "cell_type": "code",
   "execution_count": 31,
   "metadata": {},
   "outputs": [
    {
     "data": {
      "text/plain": [
       "array([[  1.60832916, 123.19558318],\n",
       "       [  7.83577863, 106.17634252],\n",
       "       [ 12.99303944,  94.74425453],\n",
       "       [ 14.91105237,  88.34261832],\n",
       "       [ 19.53594025,  79.06028484],\n",
       "       [ 24.59396736,  60.49548731],\n",
       "       [ 29.60556845,  27.74043488]])"
      ]
     },
     "execution_count": 31,
     "metadata": {},
     "output_type": "execute_result"
    }
   ],
   "source": [
    "means"
   ]
  },
  {
   "cell_type": "markdown",
   "metadata": {},
   "source": [
    "###### Convert the data into current density vs capacity and return as dataframe"
   ]
  },
  {
   "cell_type": "code",
   "execution_count": 32,
   "metadata": {},
   "outputs": [],
   "source": [
    "means_of_groups = means[:,1]\n",
    "means_of_groups = pd.DataFrame(means_of_groups)\n",
    "means_of_groups = means_of_groups.rename(columns={0: \"Capacity (mAh/cm²)\"})"
   ]
  },
  {
   "cell_type": "code",
   "execution_count": 33,
   "metadata": {},
   "outputs": [],
   "source": [
    "current_density = np.array([50, 250, 500, 1000, 1500, 2500, 5000])\n",
    "current_list = pd.DataFrame(current_density)\n",
    "current_list = current_list.rename(columns={0: \"Current Density (µA/cm²)\"})"
   ]
  },
  {
   "cell_type": "code",
   "execution_count": 34,
   "metadata": {},
   "outputs": [],
   "source": [
    "capacity_vs_current_density_df = pd.concat([current_list, means_of_groups], axis = 1)"
   ]
  },
  {
   "cell_type": "code",
   "execution_count": 35,
   "metadata": {},
   "outputs": [
    {
     "data": {
      "text/html": [
       "<div>\n",
       "<style scoped>\n",
       "    .dataframe tbody tr th:only-of-type {\n",
       "        vertical-align: middle;\n",
       "    }\n",
       "\n",
       "    .dataframe tbody tr th {\n",
       "        vertical-align: top;\n",
       "    }\n",
       "\n",
       "    .dataframe thead th {\n",
       "        text-align: right;\n",
       "    }\n",
       "</style>\n",
       "<table border=\"1\" class=\"dataframe\">\n",
       "  <thead>\n",
       "    <tr style=\"text-align: right;\">\n",
       "      <th></th>\n",
       "      <th>Current Density (µA/cm²)</th>\n",
       "      <th>Capacity (mAh/cm²)</th>\n",
       "    </tr>\n",
       "  </thead>\n",
       "  <tbody>\n",
       "    <tr>\n",
       "      <th>0</th>\n",
       "      <td>50</td>\n",
       "      <td>123.195583</td>\n",
       "    </tr>\n",
       "    <tr>\n",
       "      <th>1</th>\n",
       "      <td>250</td>\n",
       "      <td>106.176343</td>\n",
       "    </tr>\n",
       "    <tr>\n",
       "      <th>2</th>\n",
       "      <td>500</td>\n",
       "      <td>94.744255</td>\n",
       "    </tr>\n",
       "    <tr>\n",
       "      <th>3</th>\n",
       "      <td>1000</td>\n",
       "      <td>88.342618</td>\n",
       "    </tr>\n",
       "    <tr>\n",
       "      <th>4</th>\n",
       "      <td>1500</td>\n",
       "      <td>79.060285</td>\n",
       "    </tr>\n",
       "    <tr>\n",
       "      <th>5</th>\n",
       "      <td>2500</td>\n",
       "      <td>60.495487</td>\n",
       "    </tr>\n",
       "    <tr>\n",
       "      <th>6</th>\n",
       "      <td>5000</td>\n",
       "      <td>27.740435</td>\n",
       "    </tr>\n",
       "  </tbody>\n",
       "</table>\n",
       "</div>"
      ],
      "text/plain": [
       "   Current Density (µA/cm²)  Capacity (mAh/cm²)\n",
       "0                        50          123.195583\n",
       "1                       250          106.176343\n",
       "2                       500           94.744255\n",
       "3                      1000           88.342618\n",
       "4                      1500           79.060285\n",
       "5                      2500           60.495487\n",
       "6                      5000           27.740435"
      ]
     },
     "execution_count": 35,
     "metadata": {},
     "output_type": "execute_result"
    }
   ],
   "source": [
    "capacity_vs_current_density_df"
   ]
  }
 ],
 "metadata": {
  "kernelspec": {
   "display_name": "Python 3",
   "language": "python",
   "name": "python3"
  },
  "language_info": {
   "codemirror_mode": {
    "name": "ipython",
    "version": 3
   },
   "file_extension": ".py",
   "mimetype": "text/x-python",
   "name": "python",
   "nbconvert_exporter": "python",
   "pygments_lexer": "ipython3",
   "version": "3.7.4"
  }
 },
 "nbformat": 4,
 "nbformat_minor": 5
}
