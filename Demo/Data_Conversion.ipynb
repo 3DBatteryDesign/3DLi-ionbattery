{
 "cells": [
  {
   "cell_type": "code",
   "execution_count": 1,
   "id": "favorite-intro",
   "metadata": {},
   "outputs": [],
   "source": [
    "import numpy as np\n",
    "import pandas as pd\n",
    "import os\n",
    "\n",
    "import matplotlib\n",
    "from matplotlib import pyplot as plt\n",
    "%matplotlib inline\n",
    "import sklearn\n",
    "\n",
    "import openpyxl\n",
    "import xlwt"
   ]
  },
  {
   "cell_type": "markdown",
   "id": "noticed-antibody",
   "metadata": {},
   "source": [
    "## Case # 1\n",
    "### Discharge curve &#8594; Capacity rate curve\n",
    "### E vs Li (<font color=red>V</font>) vs Capacity (<font color=red>Ah cm<sup>-2</sup></font>) &#8594; Capacity (<font color=red>Ah cm<sup>-2</sup></font>) vs i (<font color=red>$\\mu A$ cm <sup>-2</sup></font>)"
   ]
  },
  {
   "cell_type": "markdown",
   "id": "talented-grounds",
   "metadata": {},
   "source": [
    "### Step 1) Upload and convert potential vs capacity data"
   ]
  },
  {
   "cell_type": "code",
   "execution_count": 2,
   "id": "moderate-bidder",
   "metadata": {},
   "outputs": [],
   "source": [
    "def potential_rate(xls_file, sheet_name, paper_num, set_num, c_rate):\n",
    "    \"\"\" \n",
    "    This function converts potential vs. capacity data to capacity vs c-rate data\n",
    "    The Highest x-value (capacity [mAh]) from the charge/discharge graph\n",
    "    PARAMETERS\n",
    "    ----------\n",
    "    1) Excel file (file path) - string\n",
    "    2) sheetnames - list\n",
    "    3) Paper # - string\n",
    "    4) Set # - integer: max number of sets\n",
    "    5) c_rate - dataframe\n",
    "    RETURNS\n",
    "    -------\n",
    "    Capacity vs c-rate - dataframe\n",
    "    \"\"\"\n",
    "    # Determining which set # and the number of set lists from the excel file\n",
    "    set_list = ['set #' + str(i) for i in range (1, set_num + 1)]\n",
    "    # Test that the input 'set_num' is an integer\n",
    "    assert type(set_num) == int, 'set_num must be an integer'\n",
    "    # Dataframing the interested potential vs capacity excel sheet\n",
    "    df = pd.read_excel(xls_file, sheet_name, header = [0,1,2]) #\n",
    "    # Merging multiple spreadsheets\n",
    "    df_sheets = []\n",
    "    for i in sheet_name:\n",
    "        df_sheets.append(df[i])\n",
    "    df_merged = pd.concat(df_sheets, axis = 1)\n",
    "    # Selecting maximum capacity values for each dataset and concatnate with corresponding c-rates or current density\n",
    "    caplist = []\n",
    "    for i in set_list:\n",
    "        set_i = (df_merged[paper_num, i])\n",
    "        set_i_max = set_i[\"Capacity (mAh/g)\"].max(axis=0).array\n",
    "        caplist.append(c_rate)\n",
    "        caplist.append(pd.DataFrame({\"Capacity (mAh/g)\": set_i_max}))\n",
    "    df_cap_rate = pd.concat(caplist, axis = 1)\n",
    "    # Test that the output is a dataframe\n",
    "    assert type(c_rate) == type(df_cap_rate), 'The output must be a dataframe'\n",
    "    return df_cap_rate"
   ]
  },
  {
   "cell_type": "code",
   "execution_count": 3,
   "id": "stock-transition",
   "metadata": {},
   "outputs": [
    {
     "name": "stderr",
     "output_type": "stream",
     "text": [
      "/home/gskl92/miniconda3/lib/python3.8/site-packages/IPython/core/interactiveshell.py:2940: PerformanceWarning: indexing past lexsort depth may impact performance.\n",
      "  return runner(coro)\n"
     ]
    },
    {
     "data": {
      "text/html": [
       "<div>\n",
       "<style scoped>\n",
       "    .dataframe tbody tr th:only-of-type {\n",
       "        vertical-align: middle;\n",
       "    }\n",
       "\n",
       "    .dataframe tbody tr th {\n",
       "        vertical-align: top;\n",
       "    }\n",
       "\n",
       "    .dataframe thead th {\n",
       "        text-align: right;\n",
       "    }\n",
       "</style>\n",
       "<table border=\"1\" class=\"dataframe\">\n",
       "  <thead>\n",
       "    <tr style=\"text-align: right;\">\n",
       "      <th></th>\n",
       "      <th>C rate</th>\n",
       "      <th>Capacity (mAh/g)</th>\n",
       "      <th>C rate</th>\n",
       "      <th>Capacity (mAh/g)</th>\n",
       "      <th>C rate</th>\n",
       "      <th>Capacity (mAh/g)</th>\n",
       "    </tr>\n",
       "  </thead>\n",
       "  <tbody>\n",
       "    <tr>\n",
       "      <th>0</th>\n",
       "      <td>0.5</td>\n",
       "      <td>154.154324</td>\n",
       "      <td>0.5</td>\n",
       "      <td>147.303752</td>\n",
       "      <td>0.5</td>\n",
       "      <td>144.812819</td>\n",
       "    </tr>\n",
       "    <tr>\n",
       "      <th>1</th>\n",
       "      <td>1.0</td>\n",
       "      <td>149.841197</td>\n",
       "      <td>1.0</td>\n",
       "      <td>139.399821</td>\n",
       "      <td>1.0</td>\n",
       "      <td>135.372662</td>\n",
       "    </tr>\n",
       "    <tr>\n",
       "      <th>2</th>\n",
       "      <td>2.0</td>\n",
       "      <td>141.685172</td>\n",
       "      <td>2.0</td>\n",
       "      <td>118.804436</td>\n",
       "      <td>2.0</td>\n",
       "      <td>116.264876</td>\n",
       "    </tr>\n",
       "    <tr>\n",
       "      <th>3</th>\n",
       "      <td>5.0</td>\n",
       "      <td>110.398826</td>\n",
       "      <td>5.0</td>\n",
       "      <td>65.780351</td>\n",
       "      <td>5.0</td>\n",
       "      <td>48.477729</td>\n",
       "    </tr>\n",
       "  </tbody>\n",
       "</table>\n",
       "</div>"
      ],
      "text/plain": [
       "   C rate  Capacity (mAh/g)  C rate  Capacity (mAh/g)  C rate  \\\n",
       "0     0.5        154.154324     0.5        147.303752     0.5   \n",
       "1     1.0        149.841197     1.0        139.399821     1.0   \n",
       "2     2.0        141.685172     2.0        118.804436     2.0   \n",
       "3     5.0        110.398826     5.0         65.780351     5.0   \n",
       "\n",
       "   Capacity (mAh/g)  \n",
       "0        144.812819  \n",
       "1        135.372662  \n",
       "2        116.264876  \n",
       "3         48.477729  "
      ]
     },
     "execution_count": 3,
     "metadata": {},
     "output_type": "execute_result"
    }
   ],
   "source": [
    "file_path = '~/capstone_spring_2021/3DLi-ionbattery/liibattery3d/data/liibattery3d_performancelog.xls'\n",
    "sheet_name = ['1_Discharge (Cover2)', '1_Discharge (1C)', '1_Discharge (2C)', '1_Discharge (5C)']\n",
    "rates = { \"C rate\": [0.5, 1.0, 2.0, 5.0]}\n",
    "c_rate = pd.DataFrame(rates)\n",
    "df_cap_rate = potential_rate(file_path, sheet_name, 'Paper # 32', 3, c_rate)\n",
    "df_cap_rate"
   ]
  },
  {
   "cell_type": "markdown",
   "id": "parliamentary-performer",
   "metadata": {},
   "source": [
    "### Step 2) Export the new dataframe to an existing excel file"
   ]
  },
  {
   "cell_type": "code",
   "execution_count": 4,
   "id": "bulgarian-referral",
   "metadata": {},
   "outputs": [],
   "source": [
    "def excel_merge(dataframe, xls_file, sheetname):\n",
    "    \"\"\"\n",
    "    This function adds the converted dataframe to an existing excel file\n",
    "    PARAMETERS\n",
    "    ----------\n",
    "    1) converted dataframe - dataframe\n",
    "    2) Excel file (file path) - string\n",
    "    3) sheetname - string\n",
    "    RETURNS\n",
    "    -------\n",
    "    A new sheet of the convereted data in the excel file\n",
    "    \"\"\"\n",
    "    # Exporting the converted dataframe to an excel file\n",
    "    dataframe.to_excel(xls_file, sheet_name = sheetname, index=False, header=True)\n",
    "    # Test that the sheet name is a string\n",
    "    assert type(sheetname) == str, 'sheetname must be a string'\n",
    "    print('saved succesfully to' + xls_file)\n",
    "    return"
   ]
  },
  {
   "cell_type": "code",
   "execution_count": 5,
   "id": "express-tsunami",
   "metadata": {},
   "outputs": [
    {
     "name": "stdout",
     "output_type": "stream",
     "text": [
      "saved succesfully to~/capstone_spring_2021/3DLi-ionbattery/Demo/Excelfile_ex.xls\n"
     ]
    },
    {
     "name": "stderr",
     "output_type": "stream",
     "text": [
      "<ipython-input-4-361c402f5620>:14: FutureWarning: As the xlwt package is no longer maintained, the xlwt engine will be removed in a future version of pandas. This is the only engine in pandas that supports writing in the xls format. Install openpyxl and write to an xlsx file instead. You can set the option io.excel.xls.writer to 'xlwt' to silence this warning. While this option is deprecated and will also raise a warning, it can be globally set and the warning suppressed.\n",
      "  dataframe.to_excel(xls_file, sheet_name = sheetname, index=False, header=True)\n"
     ]
    }
   ],
   "source": [
    "file_path_temp = '~/capstone_spring_2021/3DLi-ionbattery/Demo/Excelfile_ex.xls'\n",
    "excel_merge(df_cap_rate, file_path_temp, 'Capacity_Rate')"
   ]
  },
  {
   "cell_type": "markdown",
   "id": "packed-choir",
   "metadata": {},
   "source": [
    "## Case # 2\n",
    "### Rate test data &#8594; Capacity rate curve\n",
    "### Capacity (<font color=red>Ah cm<sup>-2</sup></font>) vs Cycle #  &#8594; Capacity (<font color=red>Ah cm<sup>-2</sup></font>) vs i (<font color=red>$\\mu A$ cm <sup>-2</sup></font>)"
   ]
  },
  {
   "cell_type": "code",
   "execution_count": null,
   "id": "muslim-serve",
   "metadata": {},
   "outputs": [],
   "source": []
  }
 ],
 "metadata": {
  "kernelspec": {
   "display_name": "Python 3",
   "language": "python",
   "name": "python3"
  },
  "language_info": {
   "codemirror_mode": {
    "name": "ipython",
    "version": 3
   },
   "file_extension": ".py",
   "mimetype": "text/x-python",
   "name": "python",
   "nbconvert_exporter": "python",
   "pygments_lexer": "ipython3",
   "version": "3.8.5"
  }
 },
 "nbformat": 4,
 "nbformat_minor": 5
}
