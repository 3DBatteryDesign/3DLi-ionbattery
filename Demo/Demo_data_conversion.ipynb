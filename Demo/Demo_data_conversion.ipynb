{
 "cells": [
  {
   "cell_type": "code",
   "execution_count": 1,
   "metadata": {},
   "outputs": [],
   "source": [
    "import numpy as np\n",
    "import pandas as pd\n",
    "import os\n",
    "import matplotlib\n",
    "from matplotlib import pyplot as plt\n",
    "import openpyxl\n",
    "import ipywidgets as widgets\n",
    "import xlwt\n",
    "\n",
    "import os\n",
    "import sys\n",
    "sys.path.append('../batteryratecap')\n",
    "import data_converter"
   ]
  },
  {
   "cell_type": "code",
   "execution_count": 2,
   "metadata": {},
   "outputs": [],
   "source": [
    "%matplotlib inline"
   ]
  },
  {
   "cell_type": "markdown",
   "metadata": {},
   "source": [
    "## Case # 1\n",
    "### Discharge curve &#8594; Capacity rate curve\n",
    "### E vs Li (<font color=red>V</font>) vs Capacity (<font color=red>Ah cm<sup>-2</sup></font>) &#8594; Capacity (<font color=red>Ah cm<sup>-2</sup></font>) vs i (<font color=red>$\\mu A$ cm <sup>-2</sup></font>)"
   ]
  },
  {
   "cell_type": "markdown",
   "metadata": {},
   "source": [
    "### Step 1) Upload and convert potential vs capacity data"
   ]
  },
  {
   "cell_type": "code",
   "execution_count": 3,
   "metadata": {},
   "outputs": [
    {
     "name": "stderr",
     "output_type": "stream",
     "text": [
      "/home/user/anaconda3/lib/python3.7/site-packages/IPython/core/interactiveshell.py:2881: PerformanceWarning: indexing past lexsort depth may impact performance.\n",
      "  return runner(coro)\n"
     ]
    },
    {
     "data": {
      "text/html": [
       "<div>\n",
       "<style scoped>\n",
       "    .dataframe tbody tr th:only-of-type {\n",
       "        vertical-align: middle;\n",
       "    }\n",
       "\n",
       "    .dataframe tbody tr th {\n",
       "        vertical-align: top;\n",
       "    }\n",
       "\n",
       "    .dataframe thead th {\n",
       "        text-align: right;\n",
       "    }\n",
       "</style>\n",
       "<table border=\"1\" class=\"dataframe\">\n",
       "  <thead>\n",
       "    <tr style=\"text-align: right;\">\n",
       "      <th></th>\n",
       "      <th>C rate</th>\n",
       "      <th>Capacity (mAh/g)</th>\n",
       "      <th>C rate</th>\n",
       "      <th>Capacity (mAh/g)</th>\n",
       "      <th>C rate</th>\n",
       "      <th>Capacity (mAh/g)</th>\n",
       "    </tr>\n",
       "  </thead>\n",
       "  <tbody>\n",
       "    <tr>\n",
       "      <td>0</td>\n",
       "      <td>0.5</td>\n",
       "      <td>154.154324</td>\n",
       "      <td>0.5</td>\n",
       "      <td>147.303752</td>\n",
       "      <td>0.5</td>\n",
       "      <td>144.812819</td>\n",
       "    </tr>\n",
       "    <tr>\n",
       "      <td>1</td>\n",
       "      <td>1.0</td>\n",
       "      <td>149.841197</td>\n",
       "      <td>1.0</td>\n",
       "      <td>139.399821</td>\n",
       "      <td>1.0</td>\n",
       "      <td>135.372662</td>\n",
       "    </tr>\n",
       "    <tr>\n",
       "      <td>2</td>\n",
       "      <td>2.0</td>\n",
       "      <td>141.685172</td>\n",
       "      <td>2.0</td>\n",
       "      <td>118.804436</td>\n",
       "      <td>2.0</td>\n",
       "      <td>116.264876</td>\n",
       "    </tr>\n",
       "    <tr>\n",
       "      <td>3</td>\n",
       "      <td>5.0</td>\n",
       "      <td>110.398826</td>\n",
       "      <td>5.0</td>\n",
       "      <td>65.780351</td>\n",
       "      <td>5.0</td>\n",
       "      <td>48.477729</td>\n",
       "    </tr>\n",
       "  </tbody>\n",
       "</table>\n",
       "</div>"
      ],
      "text/plain": [
       "   C rate  Capacity (mAh/g)  C rate  Capacity (mAh/g)  C rate  \\\n",
       "0     0.5        154.154324     0.5        147.303752     0.5   \n",
       "1     1.0        149.841197     1.0        139.399821     1.0   \n",
       "2     2.0        141.685172     2.0        118.804436     2.0   \n",
       "3     5.0        110.398826     5.0         65.780351     5.0   \n",
       "\n",
       "   Capacity (mAh/g)  \n",
       "0        144.812819  \n",
       "1        135.372662  \n",
       "2        116.264876  \n",
       "3         48.477729  "
      ]
     },
     "execution_count": 3,
     "metadata": {},
     "output_type": "execute_result"
    }
   ],
   "source": [
    "file_path = '../doc/Data/performancelog.xls'\n",
    "sheet_name = ['1_Discharge (Cover2)', '1_Discharge (1C)', '1_Discharge (2C)', '1_Discharge (5C)']\n",
    "rates = { \"C rate\": [0.5, 1.0, 2.0, 5.0]}\n",
    "c_rate = pd.DataFrame(rates)\n",
    "df_cap_rate = data_converter.potential_rate(file_path, sheet_name, 'Paper # 32', 3, c_rate)\n",
    "df_cap_rate"
   ]
  },
  {
   "cell_type": "markdown",
   "metadata": {},
   "source": [
    "### Step 2) Export the new dataframe to an existing excel file"
   ]
  },
  {
   "cell_type": "code",
   "execution_count": 4,
   "metadata": {},
   "outputs": [
    {
     "name": "stdout",
     "output_type": "stream",
     "text": [
      "saved succesfully to./Excelfile_ex.xls\n"
     ]
    }
   ],
   "source": [
    "file_path_temp = './Excelfile_ex.xls'\n",
    "data_converter.excel_merge(df_cap_rate, file_path_temp, 'Capacity_Rate')"
   ]
  },
  {
   "cell_type": "markdown",
   "metadata": {},
   "source": [
    "## Case # 2\n",
    "### Rate test data &#8594; Capacity rate curve\n",
    "### Capacity (<font color=red>Ah cm<sup>-2</sup></font>) vs Cycle #  &#8594; Capacity (<font color=red>Ah cm<sup>-2</sup></font>) vs i (<font color=red>$\\mu A$ cm <sup>-2</sup></font>)"
   ]
  },
  {
   "cell_type": "markdown",
   "metadata": {},
   "source": [
    "###### Loading in excel files"
   ]
  },
  {
   "cell_type": "code",
   "execution_count": 5,
   "metadata": {},
   "outputs": [],
   "source": [
    "battery_performance = pd.read_excel('../doc/Data/performancelog.xls', sheet_name = None, header=[0, 1, 2])\n",
    "battery_performance_sheet_names = pd.ExcelFile('../doc/Data/performancelog.xls').sheet_names"
   ]
  },
  {
   "cell_type": "markdown",
   "metadata": {},
   "source": [
    "###### Creating a different df for each excel sheet in the file"
   ]
  },
  {
   "cell_type": "code",
   "execution_count": 6,
   "metadata": {},
   "outputs": [],
   "source": [
    "for i, j in enumerate(battery_performance_sheet_names):\n",
    "    globals()[f'battery_performance_{j}'] = battery_performance[battery_performance_sheet_names[i]]"
   ]
  },
  {
   "cell_type": "markdown",
   "metadata": {},
   "source": [
    "###### Previewing the dataframe"
   ]
  },
  {
   "cell_type": "code",
   "execution_count": 7,
   "metadata": {},
   "outputs": [
    {
     "data": {
      "text/html": [
       "<div>\n",
       "<style scoped>\n",
       "    .dataframe tbody tr th:only-of-type {\n",
       "        vertical-align: middle;\n",
       "    }\n",
       "\n",
       "    .dataframe tbody tr th {\n",
       "        vertical-align: top;\n",
       "    }\n",
       "\n",
       "    .dataframe thead tr th {\n",
       "        text-align: left;\n",
       "    }\n",
       "</style>\n",
       "<table border=\"1\" class=\"dataframe\">\n",
       "  <thead>\n",
       "    <tr>\n",
       "      <th></th>\n",
       "      <th colspan=\"2\" halign=\"left\">Paper # 1</th>\n",
       "      <th colspan=\"8\" halign=\"left\">Paper # 2</th>\n",
       "      <th>...</th>\n",
       "      <th colspan=\"2\" halign=\"left\">Paper #29</th>\n",
       "      <th colspan=\"8\" halign=\"left\">Paper #32</th>\n",
       "    </tr>\n",
       "    <tr>\n",
       "      <th></th>\n",
       "      <th colspan=\"2\" halign=\"left\">Set #1 E</th>\n",
       "      <th colspan=\"2\" halign=\"left\">Set #1 E</th>\n",
       "      <th colspan=\"2\" halign=\"left\">Set #2 E</th>\n",
       "      <th colspan=\"2\" halign=\"left\">Set #3 E</th>\n",
       "      <th colspan=\"2\" halign=\"left\">Set #4 E</th>\n",
       "      <th>...</th>\n",
       "      <th colspan=\"2\" halign=\"left\">Set #1 E</th>\n",
       "      <th colspan=\"2\" halign=\"left\">Set #1 E</th>\n",
       "      <th colspan=\"2\" halign=\"left\">Set #2 E</th>\n",
       "      <th colspan=\"4\" halign=\"left\">Set #3 E</th>\n",
       "    </tr>\n",
       "    <tr>\n",
       "      <th></th>\n",
       "      <th>Cycle #</th>\n",
       "      <th>Capacity (mAh/g)</th>\n",
       "      <th>Cycle #</th>\n",
       "      <th>Capacity (mAh/g)</th>\n",
       "      <th>Cycle #</th>\n",
       "      <th>Capacity (mAh/g)</th>\n",
       "      <th>Cycle #</th>\n",
       "      <th>Capacity (mAh/g)</th>\n",
       "      <th>Cycle #</th>\n",
       "      <th>Capacity (mAh/g)</th>\n",
       "      <th>...</th>\n",
       "      <th>Cycle #</th>\n",
       "      <th>Capacity (mAh/g)</th>\n",
       "      <th>Cycle #</th>\n",
       "      <th>Capacity (mAh/g)</th>\n",
       "      <th>Cycle #</th>\n",
       "      <th>Capacity (mAh/g)</th>\n",
       "      <th>Cycle #</th>\n",
       "      <th>Capacity (mAh/g)</th>\n",
       "      <th>Cycle #.1</th>\n",
       "      <th>Capacity (mAh/g).1</th>\n",
       "    </tr>\n",
       "  </thead>\n",
       "  <tbody>\n",
       "    <tr>\n",
       "      <td>0</td>\n",
       "      <td>0.185615</td>\n",
       "      <td>122.911465</td>\n",
       "      <td>1.021898</td>\n",
       "      <td>249.145299</td>\n",
       "      <td>0.948905</td>\n",
       "      <td>150.000000</td>\n",
       "      <td>0.912162</td>\n",
       "      <td>70.588235</td>\n",
       "      <td>0.979730</td>\n",
       "      <td>84.873950</td>\n",
       "      <td>...</td>\n",
       "      <td>1.008547</td>\n",
       "      <td>117.083333</td>\n",
       "      <td>0.970927</td>\n",
       "      <td>173.078008</td>\n",
       "      <td>12.054231</td>\n",
       "      <td>135.951262</td>\n",
       "      <td>0.970927</td>\n",
       "      <td>158.406955</td>\n",
       "      <td>NaN</td>\n",
       "      <td>NaN</td>\n",
       "    </tr>\n",
       "    <tr>\n",
       "      <td>1</td>\n",
       "      <td>1.670534</td>\n",
       "      <td>127.179225</td>\n",
       "      <td>1.897810</td>\n",
       "      <td>197.863248</td>\n",
       "      <td>2.043796</td>\n",
       "      <td>129.487179</td>\n",
       "      <td>1.925676</td>\n",
       "      <td>36.554622</td>\n",
       "      <td>1.858108</td>\n",
       "      <td>40.336134</td>\n",
       "      <td>...</td>\n",
       "      <td>2.017094</td>\n",
       "      <td>96.250000</td>\n",
       "      <td>2.000792</td>\n",
       "      <td>159.745980</td>\n",
       "      <td>13.035055</td>\n",
       "      <td>135.402345</td>\n",
       "      <td>2.000792</td>\n",
       "      <td>149.848841</td>\n",
       "      <td>NaN</td>\n",
       "      <td>NaN</td>\n",
       "    </tr>\n",
       "    <tr>\n",
       "      <td>2</td>\n",
       "      <td>2.969838</td>\n",
       "      <td>119.497258</td>\n",
       "      <td>3.065693</td>\n",
       "      <td>199.572650</td>\n",
       "      <td>2.992701</td>\n",
       "      <td>124.358974</td>\n",
       "      <td>3.006757</td>\n",
       "      <td>35.714286</td>\n",
       "      <td>2.939189</td>\n",
       "      <td>42.016807</td>\n",
       "      <td>...</td>\n",
       "      <td>3.008547</td>\n",
       "      <td>101.805556</td>\n",
       "      <td>3.030656</td>\n",
       "      <td>157.778195</td>\n",
       "      <td>14.064919</td>\n",
       "      <td>135.527099</td>\n",
       "      <td>2.981615</td>\n",
       "      <td>148.800909</td>\n",
       "      <td>NaN</td>\n",
       "      <td>NaN</td>\n",
       "    </tr>\n",
       "    <tr>\n",
       "      <td>3</td>\n",
       "      <td>3.897912</td>\n",
       "      <td>110.961740</td>\n",
       "      <td>4.014599</td>\n",
       "      <td>214.957265</td>\n",
       "      <td>3.868613</td>\n",
       "      <td>127.777778</td>\n",
       "      <td>3.885135</td>\n",
       "      <td>35.714286</td>\n",
       "      <td>4.020270</td>\n",
       "      <td>43.277311</td>\n",
       "      <td>...</td>\n",
       "      <td>4.034188</td>\n",
       "      <td>104.583333</td>\n",
       "      <td>3.962438</td>\n",
       "      <td>157.708333</td>\n",
       "      <td>15.045742</td>\n",
       "      <td>135.585317</td>\n",
       "      <td>3.962438</td>\n",
       "      <td>148.509816</td>\n",
       "      <td>NaN</td>\n",
       "      <td>NaN</td>\n",
       "    </tr>\n",
       "    <tr>\n",
       "      <td>4</td>\n",
       "      <td>5.011601</td>\n",
       "      <td>109.681412</td>\n",
       "      <td>4.963504</td>\n",
       "      <td>261.965812</td>\n",
       "      <td>4.963504</td>\n",
       "      <td>130.341880</td>\n",
       "      <td>4.898649</td>\n",
       "      <td>35.294118</td>\n",
       "      <td>4.898649</td>\n",
       "      <td>40.336134</td>\n",
       "      <td>...</td>\n",
       "      <td>4.991453</td>\n",
       "      <td>105.972222</td>\n",
       "      <td>5.074038</td>\n",
       "      <td>156.485746</td>\n",
       "      <td>19.067118</td>\n",
       "      <td>116.547880</td>\n",
       "      <td>4.992303</td>\n",
       "      <td>147.857769</td>\n",
       "      <td>NaN</td>\n",
       "      <td>NaN</td>\n",
       "    </tr>\n",
       "    <tr>\n",
       "      <td>5</td>\n",
       "      <td>6.125290</td>\n",
       "      <td>110.108188</td>\n",
       "      <td>5.912409</td>\n",
       "      <td>331.196581</td>\n",
       "      <td>5.985401</td>\n",
       "      <td>130.341880</td>\n",
       "      <td>5.912162</td>\n",
       "      <td>35.294118</td>\n",
       "      <td>5.979730</td>\n",
       "      <td>50.000000</td>\n",
       "      <td>...</td>\n",
       "      <td>6.000000</td>\n",
       "      <td>108.194444</td>\n",
       "      <td>6.022167</td>\n",
       "      <td>154.448099</td>\n",
       "      <td>20.096983</td>\n",
       "      <td>116.190252</td>\n",
       "      <td>6.022167</td>\n",
       "      <td>144.026995</td>\n",
       "      <td>NaN</td>\n",
       "      <td>NaN</td>\n",
       "    </tr>\n",
       "    <tr>\n",
       "      <td>6</td>\n",
       "      <td>6.867749</td>\n",
       "      <td>110.961740</td>\n",
       "      <td>6.715328</td>\n",
       "      <td>329.487179</td>\n",
       "      <td>6.934307</td>\n",
       "      <td>173.931624</td>\n",
       "      <td>7.060811</td>\n",
       "      <td>40.756303</td>\n",
       "      <td>6.993243</td>\n",
       "      <td>47.058824</td>\n",
       "      <td>...</td>\n",
       "      <td>7.008547</td>\n",
       "      <td>108.472222</td>\n",
       "      <td>7.002991</td>\n",
       "      <td>153.516604</td>\n",
       "      <td>21.077806</td>\n",
       "      <td>73.075322</td>\n",
       "      <td>7.002991</td>\n",
       "      <td>142.746188</td>\n",
       "      <td>NaN</td>\n",
       "      <td>NaN</td>\n",
       "    </tr>\n",
       "  </tbody>\n",
       "</table>\n",
       "<p>7 rows × 30 columns</p>\n",
       "</div>"
      ],
      "text/plain": [
       "  Paper # 1                  Paper # 2                             \\\n",
       "   Set #1 E                   Set #1 E                   Set #2 E   \n",
       "    Cycle # Capacity (mAh/g)   Cycle # Capacity (mAh/g)   Cycle #   \n",
       "0  0.185615       122.911465  1.021898       249.145299  0.948905   \n",
       "1  1.670534       127.179225  1.897810       197.863248  2.043796   \n",
       "2  2.969838       119.497258  3.065693       199.572650  2.992701   \n",
       "3  3.897912       110.961740  4.014599       214.957265  3.868613   \n",
       "4  5.011601       109.681412  4.963504       261.965812  4.963504   \n",
       "5  6.125290       110.108188  5.912409       331.196581  5.985401   \n",
       "6  6.867749       110.961740  6.715328       329.487179  6.934307   \n",
       "\n",
       "                                                                          ...  \\\n",
       "                    Set #3 E                   Set #4 E                   ...   \n",
       "  Capacity (mAh/g)   Cycle # Capacity (mAh/g)   Cycle # Capacity (mAh/g)  ...   \n",
       "0       150.000000  0.912162        70.588235  0.979730        84.873950  ...   \n",
       "1       129.487179  1.925676        36.554622  1.858108        40.336134  ...   \n",
       "2       124.358974  3.006757        35.714286  2.939189        42.016807  ...   \n",
       "3       127.777778  3.885135        35.714286  4.020270        43.277311  ...   \n",
       "4       130.341880  4.898649        35.294118  4.898649        40.336134  ...   \n",
       "5       130.341880  5.912162        35.294118  5.979730        50.000000  ...   \n",
       "6       173.931624  7.060811        40.756303  6.993243        47.058824  ...   \n",
       "\n",
       "  Paper #29                  Paper #32                              \\\n",
       "   Set #1 E                   Set #1 E                    Set #2 E   \n",
       "    Cycle # Capacity (mAh/g)   Cycle # Capacity (mAh/g)    Cycle #   \n",
       "0  1.008547       117.083333  0.970927       173.078008  12.054231   \n",
       "1  2.017094        96.250000  2.000792       159.745980  13.035055   \n",
       "2  3.008547       101.805556  3.030656       157.778195  14.064919   \n",
       "3  4.034188       104.583333  3.962438       157.708333  15.045742   \n",
       "4  4.991453       105.972222  5.074038       156.485746  19.067118   \n",
       "5  6.000000       108.194444  6.022167       154.448099  20.096983   \n",
       "6  7.008547       108.472222  7.002991       153.516604  21.077806   \n",
       "\n",
       "                                                                            \n",
       "                    Set #3 E                                                \n",
       "  Capacity (mAh/g)   Cycle # Capacity (mAh/g) Cycle #.1 Capacity (mAh/g).1  \n",
       "0       135.951262  0.970927       158.406955       NaN                NaN  \n",
       "1       135.402345  2.000792       149.848841       NaN                NaN  \n",
       "2       135.527099  2.981615       148.800909       NaN                NaN  \n",
       "3       135.585317  3.962438       148.509816       NaN                NaN  \n",
       "4       116.547880  4.992303       147.857769       NaN                NaN  \n",
       "5       116.190252  6.022167       144.026995       NaN                NaN  \n",
       "6        73.075322  7.002991       142.746188       NaN                NaN  \n",
       "\n",
       "[7 rows x 30 columns]"
      ]
     },
     "execution_count": 7,
     "metadata": {},
     "output_type": "execute_result"
    }
   ],
   "source": [
    "battery_performance_4_CapacityCycle.head(7)"
   ]
  },
  {
   "cell_type": "markdown",
   "metadata": {},
   "source": [
    "###### Get the paper and set index for each pair of data in the df"
   ]
  },
  {
   "cell_type": "code",
   "execution_count": 8,
   "metadata": {},
   "outputs": [],
   "source": [
    "papers = np.array(battery_performance_4_CapacityCycle.columns.get_level_values(0))\n",
    "papers = papers[0:-1:2]\n",
    "    \n",
    "sets = np.array(battery_performance_4_CapacityCycle.columns.get_level_values(1))\n",
    "sets = sets[0:-1:2]"
   ]
  },
  {
   "cell_type": "markdown",
   "metadata": {},
   "source": [
    "###### Creating seperate numpy arrays of each pair of data with the name of the variable as the paper and set ID"
   ]
  },
  {
   "cell_type": "code",
   "execution_count": 9,
   "metadata": {},
   "outputs": [],
   "source": [
    "# Initialize list of all paperX_setX which can be saved as the input for the ipywidget below\n",
    "list_of_papers_sets = []\n",
    "\n",
    "for i,j in zip(papers,sets):\n",
    "\n",
    "        \n",
    "    globals()[f'capacity_{i}_{j}'] = np.array(battery_performance_4_CapacityCycle[i][j])\n",
    "    globals()[f'capacity_{i}_{j}'] = globals()[f'capacity_{i}_{j}'][~np.isnan(globals()[f'capacity_{i}_{j}'])]\n",
    "    globals()[f'capacity_{i}_{j}'] = globals()[f'capacity_{i}_{j}'].reshape(-1,2)\n",
    "    \n",
    "    # Keep track of list of unique paper/set \n",
    "    list_of_papers_sets.append(f'capacity_{i}_{j}')"
   ]
  },
  {
   "cell_type": "code",
   "execution_count": 10,
   "metadata": {},
   "outputs": [
    {
     "data": {
      "text/plain": [
       "['capacity_Paper # 1_Set #1 E',\n",
       " 'capacity_Paper # 2_Set #1 E',\n",
       " 'capacity_Paper # 2_Set #2 E',\n",
       " 'capacity_Paper # 2_Set #3 E',\n",
       " 'capacity_Paper # 2_Set #4 E',\n",
       " 'capacity_Paper #3_Set #1 E',\n",
       " 'capacity_Paper #4_Set #1 E',\n",
       " 'capacity_Paper #4_Set #2 E',\n",
       " 'capacity_Paper #4_Set #3 E',\n",
       " 'capacity_Paper #19_Set #1 E',\n",
       " 'capacity_Paper #29_Set #1 E',\n",
       " 'capacity_Paper #32_Set #1 E',\n",
       " 'capacity_Paper #32_Set #2 E',\n",
       " 'capacity_Paper #32_Set #3 E',\n",
       " 'capacity_Paper #32_Set #3 E']"
      ]
     },
     "execution_count": 10,
     "metadata": {},
     "output_type": "execute_result"
    }
   ],
   "source": [
    "list_of_papers_sets"
   ]
  },
  {
   "cell_type": "markdown",
   "metadata": {},
   "source": [
    "###### Select ONE paper and run the cell. If you want to see a different paper/set, re-run the cell starting below"
   ]
  },
  {
   "cell_type": "code",
   "execution_count": 11,
   "metadata": {},
   "outputs": [],
   "source": [
    "user_selected_paper = widgets.SelectMultiple(\n",
    "    options=list_of_papers_sets,\n",
    "    #value = ,\n",
    "    rows=10,\n",
    "    description='Select paper',\n",
    "    disabled=False\n",
    ")"
   ]
  },
  {
   "cell_type": "code",
   "execution_count": 12,
   "metadata": {},
   "outputs": [
    {
     "data": {
      "application/vnd.jupyter.widget-view+json": {
<<<<<<< HEAD
<<<<<<< HEAD
       "model_id": "a53db66c4a834e588a87fb8fe6cfa895",
=======
       "model_id": "42b0e6a87c98458fbfd0baeb034b8423",
>>>>>>> added descriptions for demos
=======
       "model_id": "42b0e6a87c98458fbfd0baeb034b8423",
>>>>>>> 877aca26f0fee3c52ccef9ba9e3fee8426e89731
       "version_major": 2,
       "version_minor": 0
      },
      "text/plain": [
       "SelectMultiple(description='Select paper', options=('capacity_Paper # 1_Set #1 E', 'capacity_Paper # 2_Set #1 …"
      ]
     },
     "metadata": {},
     "output_type": "display_data"
    }
   ],
   "source": [
    "#### NOTE: Run this cell, then select ONE option and run the cell again and make sure your selection is correctly output below\n",
    "#### if you wish to select a different paper/set, run the cell above first!\n",
    "user_selected_paper"
   ]
  },
  {
   "cell_type": "code",
   "execution_count": 13,
   "metadata": {},
   "outputs": [
    {
     "data": {
      "text/plain": [
       "'capacity_Paper # 1_Set #1 E'"
      ]
     },
     "execution_count": 13,
     "metadata": {},
     "output_type": "execute_result"
    }
   ],
   "source": [
    "user_selected_paper = user_selected_paper.value[0]\n",
    "user_selected_paper"
   ]
  },
  {
   "cell_type": "code",
   "execution_count": 14,
   "metadata": {},
   "outputs": [
    {
     "data": {
<<<<<<< HEAD
      "image/png": "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\n",
=======
      "text/plain": [
       "<function matplotlib.pyplot.show(*args, **kw)>"
      ]
     },
     "execution_count": 14,
     "metadata": {},
     "output_type": "execute_result"
    },
    {
     "data": {
      "image/png": "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\n",
<<<<<<< HEAD
>>>>>>> added descriptions for demos
=======
>>>>>>> 877aca26f0fee3c52ccef9ba9e3fee8426e89731
      "text/plain": [
       "<Figure size 432x288 with 1 Axes>"
      ]
     },
     "metadata": {
      "needs_background": "light"
     },
     "output_type": "display_data"
    }
   ],
   "source": [
    "plt.scatter(globals()[user_selected_paper][:,0], globals()[user_selected_paper][:,1])\n",
    "plt.xlabel(\"Capacity (mAh/g)\", fontsize=16)\n",
    "plt.ylabel(\"Cycle #\", fontsize=16)\n",
    "plt.show\n",
    "plt.title(\"Original Data\", fontsize=22)\n",
    "plt.savefig('capacity_cycle_raw.png')"
   ]
  },
  {
   "cell_type": "code",
   "execution_count": 15,
   "metadata": {},
   "outputs": [],
   "source": [
    "current_list = [50, 250, 500, 1000, 1500, 2500, 5000] # units in µA/cm²"
   ]
  },
  {
   "cell_type": "code",
   "execution_count": 16,
   "metadata": {},
   "outputs": [
    {
     "data": {
<<<<<<< HEAD
<<<<<<< HEAD
      "image/png": "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\n",
=======
      "image/png": "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\n",
>>>>>>> added descriptions for demos
=======
      "image/png": "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\n",
>>>>>>> 877aca26f0fee3c52ccef9ba9e3fee8426e89731
      "text/plain": [
       "<Figure size 432x288 with 1 Axes>"
      ]
     },
     "metadata": {
      "needs_background": "light"
     },
     "output_type": "display_data"
    }
   ],
   "source": [
    "capacity_cycle_array = globals()[user_selected_paper]\n",
    "df = data_converter.capacity_cycle(capacity_cycle_array, 7, current_list, '(µA/cm²)','(mAh/g)')\n",
    "plt.title('Grouped Data',fontsize=22)\n",
    "plt.savefig('capacity_cycle.png')"
   ]
  },
  {
   "cell_type": "code",
   "execution_count": 17,
   "metadata": {},
   "outputs": [
    {
     "data": {
      "text/html": [
       "<div>\n",
       "<style scoped>\n",
       "    .dataframe tbody tr th:only-of-type {\n",
       "        vertical-align: middle;\n",
       "    }\n",
       "\n",
       "    .dataframe tbody tr th {\n",
       "        vertical-align: top;\n",
       "    }\n",
       "\n",
       "    .dataframe thead th {\n",
       "        text-align: right;\n",
       "    }\n",
       "</style>\n",
       "<table border=\"1\" class=\"dataframe\">\n",
       "  <thead>\n",
       "    <tr style=\"text-align: right;\">\n",
       "      <th></th>\n",
       "      <th>Current (µA/cm²)</th>\n",
       "      <th>Capacity(mAh/g)</th>\n",
       "    </tr>\n",
       "  </thead>\n",
       "  <tbody>\n",
       "    <tr>\n",
       "      <td>0</td>\n",
       "      <td>50</td>\n",
       "      <td>123.194722</td>\n",
       "    </tr>\n",
       "    <tr>\n",
       "      <td>1</td>\n",
       "      <td>250</td>\n",
       "      <td>110.428234</td>\n",
       "    </tr>\n",
       "    <tr>\n",
       "      <td>2</td>\n",
       "      <td>500</td>\n",
       "      <td>102.767686</td>\n",
       "    </tr>\n",
       "    <tr>\n",
       "      <td>3</td>\n",
       "      <td>1000</td>\n",
       "      <td>89.857444</td>\n",
       "    </tr>\n",
       "    <tr>\n",
       "      <td>4</td>\n",
       "      <td>1500</td>\n",
       "      <td>79.022439</td>\n",
       "    </tr>\n",
       "    <tr>\n",
       "      <td>5</td>\n",
       "      <td>2500</td>\n",
       "      <td>60.495487</td>\n",
       "    </tr>\n",
       "    <tr>\n",
       "      <td>6</td>\n",
       "      <td>5000</td>\n",
       "      <td>27.740435</td>\n",
       "    </tr>\n",
       "  </tbody>\n",
       "</table>\n",
       "</div>"
      ],
      "text/plain": [
       "   Current (µA/cm²)  Capacity(mAh/g)\n",
       "0                50       123.194722\n",
       "1               250       110.428234\n",
       "2               500       102.767686\n",
       "3              1000        89.857444\n",
       "4              1500        79.022439\n",
       "5              2500        60.495487\n",
       "6              5000        27.740435"
      ]
     },
     "execution_count": 17,
     "metadata": {},
     "output_type": "execute_result"
    }
   ],
   "source": [
    "df"
   ]
  }
 ],
 "metadata": {
  "kernelspec": {
   "display_name": "Python 3",
   "language": "python",
   "name": "python3"
  },
  "language_info": {
   "codemirror_mode": {
    "name": "ipython",
    "version": 3
   },
   "file_extension": ".py",
   "mimetype": "text/x-python",
   "name": "python",
   "nbconvert_exporter": "python",
   "pygments_lexer": "ipython3",
   "version": "3.7.4"
  }
 },
 "nbformat": 4,
 "nbformat_minor": 5
}
