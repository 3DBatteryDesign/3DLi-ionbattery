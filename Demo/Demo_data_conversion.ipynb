{
 "cells": [
  {
   "cell_type": "code",
   "execution_count": 1,
   "metadata": {},
   "outputs": [],
   "source": [
    "import numpy as np\n",
    "import pandas as pd\n",
    "import os\n",
    "import matplotlib\n",
    "from matplotlib import pyplot as plt\n",
    "import openpyxl\n",
    "import ipywidgets as widgets\n",
    "import xlwt\n",
    "\n",
    "import os\n",
    "import sys\n",
    "sys.path.append('../batteryratecap')\n",
    "import data_converter"
   ]
  },
  {
   "cell_type": "code",
   "execution_count": 2,
   "metadata": {},
   "outputs": [],
   "source": [
    "%matplotlib inline"
   ]
  },
  {
   "cell_type": "markdown",
   "metadata": {},
   "source": [
    "## Case # 1\n",
    "### Discharge curve &#8594; Capacity rate curve\n",
    "### E vs Li (<font color=red>V</font>) vs Capacity (<font color=red>Ah cm<sup>-2</sup></font>) &#8594; Capacity (<font color=red>Ah cm<sup>-2</sup></font>) vs i (<font color=red>$\\mu A$ cm <sup>-2</sup></font>)"
   ]
  },
  {
   "cell_type": "markdown",
   "metadata": {},
   "source": [
    "### Step 1) Upload and convert potential vs capacity data"
   ]
  },
  {
   "cell_type": "code",
   "execution_count": 3,
   "metadata": {},
   "outputs": [
    {
     "name": "stderr",
     "output_type": "stream",
     "text": [
      "/home/user/anaconda3/lib/python3.7/site-packages/IPython/core/interactiveshell.py:2881: PerformanceWarning: indexing past lexsort depth may impact performance.\n",
      "  return runner(coro)\n"
     ]
    },
    {
     "data": {
      "text/html": [
       "<div>\n",
       "<style scoped>\n",
       "    .dataframe tbody tr th:only-of-type {\n",
       "        vertical-align: middle;\n",
       "    }\n",
       "\n",
       "    .dataframe tbody tr th {\n",
       "        vertical-align: top;\n",
       "    }\n",
       "\n",
       "    .dataframe thead th {\n",
       "        text-align: right;\n",
       "    }\n",
       "</style>\n",
       "<table border=\"1\" class=\"dataframe\">\n",
       "  <thead>\n",
       "    <tr style=\"text-align: right;\">\n",
       "      <th></th>\n",
       "      <th>C rate</th>\n",
       "      <th>Capacity (mAh/g)</th>\n",
       "      <th>C rate</th>\n",
       "      <th>Capacity (mAh/g)</th>\n",
       "      <th>C rate</th>\n",
       "      <th>Capacity (mAh/g)</th>\n",
       "    </tr>\n",
       "  </thead>\n",
       "  <tbody>\n",
       "    <tr>\n",
       "      <td>0</td>\n",
       "      <td>0.5</td>\n",
       "      <td>154.154324</td>\n",
       "      <td>0.5</td>\n",
       "      <td>147.303752</td>\n",
       "      <td>0.5</td>\n",
       "      <td>144.812819</td>\n",
       "    </tr>\n",
       "    <tr>\n",
       "      <td>1</td>\n",
       "      <td>1.0</td>\n",
       "      <td>149.841197</td>\n",
       "      <td>1.0</td>\n",
       "      <td>139.399821</td>\n",
       "      <td>1.0</td>\n",
       "      <td>135.372662</td>\n",
       "    </tr>\n",
       "    <tr>\n",
       "      <td>2</td>\n",
       "      <td>2.0</td>\n",
       "      <td>141.685172</td>\n",
       "      <td>2.0</td>\n",
       "      <td>118.804436</td>\n",
       "      <td>2.0</td>\n",
       "      <td>116.264876</td>\n",
       "    </tr>\n",
       "    <tr>\n",
       "      <td>3</td>\n",
       "      <td>5.0</td>\n",
       "      <td>110.398826</td>\n",
       "      <td>5.0</td>\n",
       "      <td>65.780351</td>\n",
       "      <td>5.0</td>\n",
       "      <td>48.477729</td>\n",
       "    </tr>\n",
       "  </tbody>\n",
       "</table>\n",
       "</div>"
      ],
      "text/plain": [
       "   C rate  Capacity (mAh/g)  C rate  Capacity (mAh/g)  C rate  \\\n",
       "0     0.5        154.154324     0.5        147.303752     0.5   \n",
       "1     1.0        149.841197     1.0        139.399821     1.0   \n",
       "2     2.0        141.685172     2.0        118.804436     2.0   \n",
       "3     5.0        110.398826     5.0         65.780351     5.0   \n",
       "\n",
       "   Capacity (mAh/g)  \n",
       "0        144.812819  \n",
       "1        135.372662  \n",
       "2        116.264876  \n",
       "3         48.477729  "
      ]
     },
     "execution_count": 3,
     "metadata": {},
     "output_type": "execute_result"
    }
   ],
   "source": [
    "file_path = '../doc/Data/performancelog.xls'\n",
    "sheet_name = ['1_Discharge (Cover2)', '1_Discharge (1C)', '1_Discharge (2C)', '1_Discharge (5C)']\n",
    "rates = { \"C rate\": [0.5, 1.0, 2.0, 5.0]}\n",
    "c_rate = pd.DataFrame(rates)\n",
    "df_cap_rate = data_converter.potential_rate(file_path, sheet_name, 'Paper # 32', 3, c_rate)\n",
    "df_cap_rate"
   ]
  },
  {
   "cell_type": "markdown",
   "metadata": {},
   "source": [
    "### Step 2) Export the new dataframe to an existing excel file"
   ]
  },
  {
   "cell_type": "code",
   "execution_count": 4,
   "metadata": {},
   "outputs": [
    {
     "name": "stdout",
     "output_type": "stream",
     "text": [
      "saved succesfully to./Excelfile_ex.xls\n"
     ]
    }
   ],
   "source": [
    "file_path_temp = './Excelfile_ex.xls'\n",
    "data_converter.excel_merge(df_cap_rate, file_path_temp, 'Capacity_Rate')"
   ]
  },
  {
   "cell_type": "markdown",
   "metadata": {},
   "source": [
    "## Case # 2\n",
    "### Rate test data &#8594; Capacity rate curve\n",
    "### Capacity (<font color=red>Ah cm<sup>-2</sup></font>) vs Cycle #  &#8594; Capacity (<font color=red>Ah cm<sup>-2</sup></font>) vs i (<font color=red>$\\mu A$ cm <sup>-2</sup></font>)"
   ]
  },
  {
   "cell_type": "markdown",
   "metadata": {},
   "source": [
    "###### Loading in excel files"
   ]
  },
  {
   "cell_type": "code",
   "execution_count": 5,
   "metadata": {},
   "outputs": [],
   "source": [
    "battery_performance = pd.read_excel('../doc/Data/performancelog.xls', sheet_name = None, header=[0, 1, 2])\n",
    "battery_performance_sheet_names = pd.ExcelFile('../doc/Data/performancelog.xls').sheet_names"
   ]
  },
  {
   "cell_type": "markdown",
   "metadata": {},
   "source": [
    "###### Creating a different df for each excel sheet in the file"
   ]
  },
  {
   "cell_type": "code",
   "execution_count": 6,
   "metadata": {},
   "outputs": [],
   "source": [
    "for i, j in enumerate(battery_performance_sheet_names):\n",
    "    globals()[f'battery_performance_{j}'] = battery_performance[battery_performance_sheet_names[i]]"
   ]
  },
  {
   "cell_type": "markdown",
   "metadata": {},
   "source": [
    "###### Previewing the dataframe"
   ]
  },
  {
   "cell_type": "code",
   "execution_count": 7,
   "metadata": {},
   "outputs": [
    {
     "data": {
      "text/html": [
       "<div>\n",
       "<style scoped>\n",
       "    .dataframe tbody tr th:only-of-type {\n",
       "        vertical-align: middle;\n",
       "    }\n",
       "\n",
       "    .dataframe tbody tr th {\n",
       "        vertical-align: top;\n",
       "    }\n",
       "\n",
       "    .dataframe thead tr th {\n",
       "        text-align: left;\n",
       "    }\n",
       "</style>\n",
       "<table border=\"1\" class=\"dataframe\">\n",
       "  <thead>\n",
       "    <tr>\n",
       "      <th></th>\n",
       "      <th colspan=\"2\" halign=\"left\">Paper # 1</th>\n",
       "      <th colspan=\"8\" halign=\"left\">Paper # 2</th>\n",
       "      <th>...</th>\n",
       "      <th colspan=\"2\" halign=\"left\">Paper #29</th>\n",
       "      <th colspan=\"8\" halign=\"left\">Paper #32</th>\n",
       "    </tr>\n",
       "    <tr>\n",
       "      <th></th>\n",
       "      <th colspan=\"2\" halign=\"left\">Set #1 E</th>\n",
       "      <th colspan=\"2\" halign=\"left\">Set #1 E</th>\n",
       "      <th colspan=\"2\" halign=\"left\">Set #2 E</th>\n",
       "      <th colspan=\"2\" halign=\"left\">Set #3 E</th>\n",
       "      <th colspan=\"2\" halign=\"left\">Set #4 E</th>\n",
       "      <th>...</th>\n",
       "      <th colspan=\"2\" halign=\"left\">Set #1 E</th>\n",
       "      <th colspan=\"2\" halign=\"left\">Set #1 E</th>\n",
       "      <th colspan=\"2\" halign=\"left\">Set #2 E</th>\n",
       "      <th colspan=\"4\" halign=\"left\">Set #3 E</th>\n",
       "    </tr>\n",
       "    <tr>\n",
       "      <th></th>\n",
       "      <th>Cycle #</th>\n",
       "      <th>Capacity (mAh/g)</th>\n",
       "      <th>Cycle #</th>\n",
       "      <th>Capacity (mAh/g)</th>\n",
       "      <th>Cycle #</th>\n",
       "      <th>Capacity (mAh/g)</th>\n",
       "      <th>Cycle #</th>\n",
       "      <th>Capacity (mAh/g)</th>\n",
       "      <th>Cycle #</th>\n",
       "      <th>Capacity (mAh/g)</th>\n",
       "      <th>...</th>\n",
       "      <th>Cycle #</th>\n",
       "      <th>Capacity (mAh/g)</th>\n",
       "      <th>Cycle #</th>\n",
       "      <th>Capacity (mAh/g)</th>\n",
       "      <th>Cycle #</th>\n",
       "      <th>Capacity (mAh/g)</th>\n",
       "      <th>Cycle #</th>\n",
       "      <th>Capacity (mAh/g)</th>\n",
       "      <th>Cycle #.1</th>\n",
       "      <th>Capacity (mAh/g).1</th>\n",
       "    </tr>\n",
       "  </thead>\n",
       "  <tbody>\n",
       "    <tr>\n",
       "      <td>0</td>\n",
       "      <td>0.185615</td>\n",
       "      <td>122.911465</td>\n",
       "      <td>1.021898</td>\n",
       "      <td>249.145299</td>\n",
       "      <td>0.948905</td>\n",
       "      <td>150.000000</td>\n",
       "      <td>0.912162</td>\n",
       "      <td>70.588235</td>\n",
       "      <td>0.979730</td>\n",
       "      <td>84.873950</td>\n",
       "      <td>...</td>\n",
       "      <td>1.008547</td>\n",
       "      <td>117.083333</td>\n",
       "      <td>0.970927</td>\n",
       "      <td>173.078008</td>\n",
       "      <td>12.054231</td>\n",
       "      <td>135.951262</td>\n",
       "      <td>0.970927</td>\n",
       "      <td>158.406955</td>\n",
       "      <td>NaN</td>\n",
       "      <td>NaN</td>\n",
       "    </tr>\n",
       "    <tr>\n",
       "      <td>1</td>\n",
       "      <td>1.670534</td>\n",
       "      <td>127.179225</td>\n",
       "      <td>1.897810</td>\n",
       "      <td>197.863248</td>\n",
       "      <td>2.043796</td>\n",
       "      <td>129.487179</td>\n",
       "      <td>1.925676</td>\n",
       "      <td>36.554622</td>\n",
       "      <td>1.858108</td>\n",
       "      <td>40.336134</td>\n",
       "      <td>...</td>\n",
       "      <td>2.017094</td>\n",
       "      <td>96.250000</td>\n",
       "      <td>2.000792</td>\n",
       "      <td>159.745980</td>\n",
       "      <td>13.035055</td>\n",
       "      <td>135.402345</td>\n",
       "      <td>2.000792</td>\n",
       "      <td>149.848841</td>\n",
       "      <td>NaN</td>\n",
       "      <td>NaN</td>\n",
       "    </tr>\n",
       "    <tr>\n",
       "      <td>2</td>\n",
       "      <td>2.969838</td>\n",
       "      <td>119.497258</td>\n",
       "      <td>3.065693</td>\n",
       "      <td>199.572650</td>\n",
       "      <td>2.992701</td>\n",
       "      <td>124.358974</td>\n",
       "      <td>3.006757</td>\n",
       "      <td>35.714286</td>\n",
       "      <td>2.939189</td>\n",
       "      <td>42.016807</td>\n",
       "      <td>...</td>\n",
       "      <td>3.008547</td>\n",
       "      <td>101.805556</td>\n",
       "      <td>3.030656</td>\n",
       "      <td>157.778195</td>\n",
       "      <td>14.064919</td>\n",
       "      <td>135.527099</td>\n",
       "      <td>2.981615</td>\n",
       "      <td>148.800909</td>\n",
       "      <td>NaN</td>\n",
       "      <td>NaN</td>\n",
       "    </tr>\n",
       "    <tr>\n",
       "      <td>3</td>\n",
       "      <td>3.897912</td>\n",
       "      <td>110.961740</td>\n",
       "      <td>4.014599</td>\n",
       "      <td>214.957265</td>\n",
       "      <td>3.868613</td>\n",
       "      <td>127.777778</td>\n",
       "      <td>3.885135</td>\n",
       "      <td>35.714286</td>\n",
       "      <td>4.020270</td>\n",
       "      <td>43.277311</td>\n",
       "      <td>...</td>\n",
       "      <td>4.034188</td>\n",
       "      <td>104.583333</td>\n",
       "      <td>3.962438</td>\n",
       "      <td>157.708333</td>\n",
       "      <td>15.045742</td>\n",
       "      <td>135.585317</td>\n",
       "      <td>3.962438</td>\n",
       "      <td>148.509816</td>\n",
       "      <td>NaN</td>\n",
       "      <td>NaN</td>\n",
       "    </tr>\n",
       "    <tr>\n",
       "      <td>4</td>\n",
       "      <td>5.011601</td>\n",
       "      <td>109.681412</td>\n",
       "      <td>4.963504</td>\n",
       "      <td>261.965812</td>\n",
       "      <td>4.963504</td>\n",
       "      <td>130.341880</td>\n",
       "      <td>4.898649</td>\n",
       "      <td>35.294118</td>\n",
       "      <td>4.898649</td>\n",
       "      <td>40.336134</td>\n",
       "      <td>...</td>\n",
       "      <td>4.991453</td>\n",
       "      <td>105.972222</td>\n",
       "      <td>5.074038</td>\n",
       "      <td>156.485746</td>\n",
       "      <td>19.067118</td>\n",
       "      <td>116.547880</td>\n",
       "      <td>4.992303</td>\n",
       "      <td>147.857769</td>\n",
       "      <td>NaN</td>\n",
       "      <td>NaN</td>\n",
       "    </tr>\n",
       "    <tr>\n",
       "      <td>5</td>\n",
       "      <td>6.125290</td>\n",
       "      <td>110.108188</td>\n",
       "      <td>5.912409</td>\n",
       "      <td>331.196581</td>\n",
       "      <td>5.985401</td>\n",
       "      <td>130.341880</td>\n",
       "      <td>5.912162</td>\n",
       "      <td>35.294118</td>\n",
       "      <td>5.979730</td>\n",
       "      <td>50.000000</td>\n",
       "      <td>...</td>\n",
       "      <td>6.000000</td>\n",
       "      <td>108.194444</td>\n",
       "      <td>6.022167</td>\n",
       "      <td>154.448099</td>\n",
       "      <td>20.096983</td>\n",
       "      <td>116.190252</td>\n",
       "      <td>6.022167</td>\n",
       "      <td>144.026995</td>\n",
       "      <td>NaN</td>\n",
       "      <td>NaN</td>\n",
       "    </tr>\n",
       "    <tr>\n",
       "      <td>6</td>\n",
       "      <td>6.867749</td>\n",
       "      <td>110.961740</td>\n",
       "      <td>6.715328</td>\n",
       "      <td>329.487179</td>\n",
       "      <td>6.934307</td>\n",
       "      <td>173.931624</td>\n",
       "      <td>7.060811</td>\n",
       "      <td>40.756303</td>\n",
       "      <td>6.993243</td>\n",
       "      <td>47.058824</td>\n",
       "      <td>...</td>\n",
       "      <td>7.008547</td>\n",
       "      <td>108.472222</td>\n",
       "      <td>7.002991</td>\n",
       "      <td>153.516604</td>\n",
       "      <td>21.077806</td>\n",
       "      <td>73.075322</td>\n",
       "      <td>7.002991</td>\n",
       "      <td>142.746188</td>\n",
       "      <td>NaN</td>\n",
       "      <td>NaN</td>\n",
       "    </tr>\n",
       "  </tbody>\n",
       "</table>\n",
       "<p>7 rows × 30 columns</p>\n",
       "</div>"
      ],
      "text/plain": [
       "  Paper # 1                  Paper # 2                             \\\n",
       "   Set #1 E                   Set #1 E                   Set #2 E   \n",
       "    Cycle # Capacity (mAh/g)   Cycle # Capacity (mAh/g)   Cycle #   \n",
       "0  0.185615       122.911465  1.021898       249.145299  0.948905   \n",
       "1  1.670534       127.179225  1.897810       197.863248  2.043796   \n",
       "2  2.969838       119.497258  3.065693       199.572650  2.992701   \n",
       "3  3.897912       110.961740  4.014599       214.957265  3.868613   \n",
       "4  5.011601       109.681412  4.963504       261.965812  4.963504   \n",
       "5  6.125290       110.108188  5.912409       331.196581  5.985401   \n",
       "6  6.867749       110.961740  6.715328       329.487179  6.934307   \n",
       "\n",
       "                                                                          ...  \\\n",
       "                    Set #3 E                   Set #4 E                   ...   \n",
       "  Capacity (mAh/g)   Cycle # Capacity (mAh/g)   Cycle # Capacity (mAh/g)  ...   \n",
       "0       150.000000  0.912162        70.588235  0.979730        84.873950  ...   \n",
       "1       129.487179  1.925676        36.554622  1.858108        40.336134  ...   \n",
       "2       124.358974  3.006757        35.714286  2.939189        42.016807  ...   \n",
       "3       127.777778  3.885135        35.714286  4.020270        43.277311  ...   \n",
       "4       130.341880  4.898649        35.294118  4.898649        40.336134  ...   \n",
       "5       130.341880  5.912162        35.294118  5.979730        50.000000  ...   \n",
       "6       173.931624  7.060811        40.756303  6.993243        47.058824  ...   \n",
       "\n",
       "  Paper #29                  Paper #32                              \\\n",
       "   Set #1 E                   Set #1 E                    Set #2 E   \n",
       "    Cycle # Capacity (mAh/g)   Cycle # Capacity (mAh/g)    Cycle #   \n",
       "0  1.008547       117.083333  0.970927       173.078008  12.054231   \n",
       "1  2.017094        96.250000  2.000792       159.745980  13.035055   \n",
       "2  3.008547       101.805556  3.030656       157.778195  14.064919   \n",
       "3  4.034188       104.583333  3.962438       157.708333  15.045742   \n",
       "4  4.991453       105.972222  5.074038       156.485746  19.067118   \n",
       "5  6.000000       108.194444  6.022167       154.448099  20.096983   \n",
       "6  7.008547       108.472222  7.002991       153.516604  21.077806   \n",
       "\n",
       "                                                                            \n",
       "                    Set #3 E                                                \n",
       "  Capacity (mAh/g)   Cycle # Capacity (mAh/g) Cycle #.1 Capacity (mAh/g).1  \n",
       "0       135.951262  0.970927       158.406955       NaN                NaN  \n",
       "1       135.402345  2.000792       149.848841       NaN                NaN  \n",
       "2       135.527099  2.981615       148.800909       NaN                NaN  \n",
       "3       135.585317  3.962438       148.509816       NaN                NaN  \n",
       "4       116.547880  4.992303       147.857769       NaN                NaN  \n",
       "5       116.190252  6.022167       144.026995       NaN                NaN  \n",
       "6        73.075322  7.002991       142.746188       NaN                NaN  \n",
       "\n",
       "[7 rows x 30 columns]"
      ]
     },
     "execution_count": 7,
     "metadata": {},
     "output_type": "execute_result"
    }
   ],
   "source": [
    "battery_performance_4_CapacityCycle.head(7)"
   ]
  },
  {
   "cell_type": "markdown",
   "metadata": {},
   "source": [
    "###### Get the paper and set index for each pair of data in the df"
   ]
  },
  {
   "cell_type": "code",
   "execution_count": 8,
   "metadata": {},
   "outputs": [],
   "source": [
    "papers = np.array(battery_performance_4_CapacityCycle.columns.get_level_values(0))\n",
    "papers = papers[0:-1:2]\n",
    "    \n",
    "sets = np.array(battery_performance_4_CapacityCycle.columns.get_level_values(1))\n",
    "sets = sets[0:-1:2]"
   ]
  },
  {
   "cell_type": "markdown",
   "metadata": {},
   "source": [
    "###### Creating seperate numpy arrays of each pair of data with the name of the variable as the paper and set ID"
   ]
  },
  {
   "cell_type": "code",
   "execution_count": 9,
   "metadata": {},
   "outputs": [],
   "source": [
    "# Initialize list of all paperX_setX which can be saved as the input for the ipywidget below\n",
    "list_of_papers_sets = []\n",
    "\n",
    "for i,j in zip(papers,sets):\n",
    "\n",
    "        \n",
    "    globals()[f'capacity_{i}_{j}'] = np.array(battery_performance_4_CapacityCycle[i][j])\n",
    "    globals()[f'capacity_{i}_{j}'] = globals()[f'capacity_{i}_{j}'][~np.isnan(globals()[f'capacity_{i}_{j}'])]\n",
    "    globals()[f'capacity_{i}_{j}'] = globals()[f'capacity_{i}_{j}'].reshape(-1,2)\n",
    "    \n",
    "    # Keep track of list of unique paper/set \n",
    "    list_of_papers_sets.append(f'capacity_{i}_{j}')"
   ]
  },
  {
   "cell_type": "code",
   "execution_count": 10,
   "metadata": {},
   "outputs": [
    {
     "data": {
      "text/plain": [
       "['capacity_Paper # 1_Set #1 E',\n",
       " 'capacity_Paper # 2_Set #1 E',\n",
       " 'capacity_Paper # 2_Set #2 E',\n",
       " 'capacity_Paper # 2_Set #3 E',\n",
       " 'capacity_Paper # 2_Set #4 E',\n",
       " 'capacity_Paper #3_Set #1 E',\n",
       " 'capacity_Paper #4_Set #1 E',\n",
       " 'capacity_Paper #4_Set #2 E',\n",
       " 'capacity_Paper #4_Set #3 E',\n",
       " 'capacity_Paper #19_Set #1 E',\n",
       " 'capacity_Paper #29_Set #1 E',\n",
       " 'capacity_Paper #32_Set #1 E',\n",
       " 'capacity_Paper #32_Set #2 E',\n",
       " 'capacity_Paper #32_Set #3 E',\n",
       " 'capacity_Paper #32_Set #3 E']"
      ]
     },
     "execution_count": 10,
     "metadata": {},
     "output_type": "execute_result"
    }
   ],
   "source": [
    "list_of_papers_sets"
   ]
  },
  {
   "cell_type": "markdown",
   "metadata": {},
   "source": [
    "###### Select ONE paper and run the cell. If you want to see a different paper/set, re-run the cell starting below"
   ]
  },
  {
   "cell_type": "code",
   "execution_count": 11,
   "metadata": {},
   "outputs": [],
   "source": [
    "user_selected_paper = widgets.SelectMultiple(\n",
    "    options=list_of_papers_sets,\n",
    "    #value = ,\n",
    "    rows=10,\n",
    "    description='Select paper',\n",
    "    disabled=False\n",
    ")"
   ]
  },
  {
   "cell_type": "code",
   "execution_count": 12,
   "metadata": {},
   "outputs": [
    {
     "data": {
      "application/vnd.jupyter.widget-view+json": {
       "model_id": "42b0e6a87c98458fbfd0baeb034b8423",
       "version_major": 2,
       "version_minor": 0
      },
      "text/plain": [
       "SelectMultiple(description='Select paper', options=('capacity_Paper # 1_Set #1 E', 'capacity_Paper # 2_Set #1 …"
      ]
     },
     "metadata": {},
     "output_type": "display_data"
    }
   ],
   "source": [
    "#### NOTE: Run this cell, then select ONE option and run the cell again and make sure your selection is correctly output below\n",
    "#### if you wish to select a different paper/set, run the cell above first!\n",
    "user_selected_paper"
   ]
  },
  {
   "cell_type": "code",
   "execution_count": 13,
   "metadata": {},
   "outputs": [
    {
     "data": {
      "text/plain": [
       "'capacity_Paper # 1_Set #1 E'"
      ]
     },
     "execution_count": 13,
     "metadata": {},
     "output_type": "execute_result"
    }
   ],
   "source": [
    "user_selected_paper = user_selected_paper.value[0]\n",
    "user_selected_paper"
   ]
  },
  {
   "cell_type": "code",
   "execution_count": 14,
   "metadata": {},
   "outputs": [
    {
     "data": {
      "text/plain": [
       "<function matplotlib.pyplot.show(*args, **kw)>"
      ]
     },
     "execution_count": 14,
     "metadata": {},
     "output_type": "execute_result"
    },
    {
     "data": {
      "image/png": "[encoded data removed]",
      "text/plain": [
       "<Figure size 432x288 with 1 Axes>"
      ]
     },
     "metadata": {
      "needs_background": "light"
     },
     "output_type": "display_data"
    }
   ],
   "source": [
    "plt.scatter(globals()[user_selected_paper][:,0], globals()[user_selected_paper][:,1])\n",
    "plt.xlabel(\"Capacity (mAh/g)\")\n",
    "plt.ylabel(\"Cycle #\")\n",
    "plt.show"
   ]
  },
  {
   "cell_type": "code",
   "execution_count": 15,
   "metadata": {},
   "outputs": [],
   "source": [
    "current_list = [50, 250, 500, 1000, 1500, 2500, 5000] # units in µA/cm²"
   ]
  },
  {
   "cell_type": "code",
   "execution_count": 16,
   "metadata": {},
   "outputs": [
    {
     "data": {
      "image/png": "[encoded data removed]",
      "text/plain": [
       "<Figure size 432x288 with 1 Axes>"
      ]
     },
     "metadata": {
      "needs_background": "light"
     },
     "output_type": "display_data"
    }
   ],
   "source": [
    "capacity_cycle_array = globals()[user_selected_paper]\n",
    "df = data_converter.capacity_cycle(capacity_cycle_array, 7, current_list, '(µA/cm²)')"
   ]
  },
  {
   "cell_type": "code",
   "execution_count": 17,
   "metadata": {},
   "outputs": [
    {
     "data": {
      "text/html": [
       "<div>\n",
       "<style scoped>\n",
       "    .dataframe tbody tr th:only-of-type {\n",
       "        vertical-align: middle;\n",
       "    }\n",
       "\n",
       "    .dataframe tbody tr th {\n",
       "        vertical-align: top;\n",
       "    }\n",
       "\n",
       "    .dataframe thead th {\n",
       "        text-align: right;\n",
       "    }\n",
       "</style>\n",
       "<table border=\"1\" class=\"dataframe\">\n",
       "  <thead>\n",
       "    <tr style=\"text-align: right;\">\n",
       "      <th></th>\n",
       "      <th>Current (µA/cm²)</th>\n",
       "      <th>Capacity (mAh/cm²)</th>\n",
       "    </tr>\n",
       "  </thead>\n",
       "  <tbody>\n",
       "    <tr>\n",
       "      <td>0</td>\n",
       "      <td>50</td>\n",
       "      <td>123.194722</td>\n",
       "    </tr>\n",
       "    <tr>\n",
       "      <td>1</td>\n",
       "      <td>250</td>\n",
       "      <td>110.428234</td>\n",
       "    </tr>\n",
       "    <tr>\n",
       "      <td>2</td>\n",
       "      <td>500</td>\n",
       "      <td>102.767686</td>\n",
       "    </tr>\n",
       "    <tr>\n",
       "      <td>3</td>\n",
       "      <td>1000</td>\n",
       "      <td>89.857444</td>\n",
       "    </tr>\n",
       "    <tr>\n",
       "      <td>4</td>\n",
       "      <td>1500</td>\n",
       "      <td>79.022439</td>\n",
       "    </tr>\n",
       "    <tr>\n",
       "      <td>5</td>\n",
       "      <td>2500</td>\n",
       "      <td>60.495487</td>\n",
       "    </tr>\n",
       "    <tr>\n",
       "      <td>6</td>\n",
       "      <td>5000</td>\n",
       "      <td>27.740435</td>\n",
       "    </tr>\n",
       "  </tbody>\n",
       "</table>\n",
       "</div>"
      ],
      "text/plain": [
       "   Current (µA/cm²)  Capacity (mAh/cm²)\n",
       "0                50          123.194722\n",
       "1               250          110.428234\n",
       "2               500          102.767686\n",
       "3              1000           89.857444\n",
       "4              1500           79.022439\n",
       "5              2500           60.495487\n",
       "6              5000           27.740435"
      ]
     },
     "execution_count": 17,
     "metadata": {},
     "output_type": "execute_result"
    }
   ],
   "source": [
    "df"
   ]
  }
 ],
 "metadata": {
  "kernelspec": {
   "display_name": "Python 3",
   "language": "python",
   "name": "python3"
  },
  "language_info": {
   "codemirror_mode": {
    "name": "ipython",
    "version": 3
   },
   "file_extension": ".py",
   "mimetype": "text/x-python",
   "name": "python",
   "nbconvert_exporter": "python",
   "pygments_lexer": "ipython3",
   "version": "3.7.4"
  }
 },
 "nbformat": 4,
 "nbformat_minor": 5
}
