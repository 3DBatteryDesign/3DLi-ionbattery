{
 "cells": [
  {
   "cell_type": "code",
   "execution_count": 1,
   "metadata": {},
   "outputs": [],
   "source": [
    "import pandas as pd\n",
    "import matplotlib\n",
    "from matplotlib import pyplot as plt\n",
    "import warnings\n",
    "warnings.filterwarnings('ignore')\n",
    "import sys\n",
    "sys.path.append('../batteryratecap')\n",
    "import correlationtest"
   ]
  },
  {
   "cell_type": "code",
   "execution_count": 2,
   "metadata": {},
   "outputs": [],
   "source": [
    "%matplotlib inline\n",
    "matplotlib.rcParams.update({'font.size': 16})"
   ]
  },
  {
   "cell_type": "markdown",
   "metadata": {},
   "source": [
    "## Load Dataframe"
   ]
  },
  {
   "cell_type": "code",
   "execution_count": 3,
   "metadata": {},
   "outputs": [],
   "source": [
    "df = pd.read_excel('../doc/data/export_visualization_df.xlsx')"
   ]
  },
  {
   "cell_type": "code",
   "execution_count": 4,
   "metadata": {
    "scrolled": false
   },
   "outputs": [
    {
     "data": {
      "text/html": [
       "<div>\n",
       "<style scoped>\n",
       "    .dataframe tbody tr th:only-of-type {\n",
       "        vertical-align: middle;\n",
       "    }\n",
       "\n",
       "    .dataframe tbody tr th {\n",
       "        vertical-align: top;\n",
       "    }\n",
       "\n",
       "    .dataframe thead th {\n",
       "        text-align: right;\n",
       "    }\n",
       "</style>\n",
       "<table border=\"1\" class=\"dataframe\">\n",
       "  <thead>\n",
       "    <tr style=\"text-align: right;\">\n",
       "      <th></th>\n",
       "      <th>Cathode \\nThickness [µm]</th>\n",
       "      <th>n</th>\n",
       "      <th>Q</th>\n",
       "      <th>tau</th>\n",
       "    </tr>\n",
       "  </thead>\n",
       "  <tbody>\n",
       "    <tr>\n",
       "      <td>0</td>\n",
       "      <td>500.0</td>\n",
       "      <td>1.302511</td>\n",
       "      <td>106.109020</td>\n",
       "      <td>0.485641</td>\n",
       "    </tr>\n",
       "    <tr>\n",
       "      <td>1</td>\n",
       "      <td>500.0</td>\n",
       "      <td>1.171666</td>\n",
       "      <td>105.112479</td>\n",
       "      <td>0.487356</td>\n",
       "    </tr>\n",
       "    <tr>\n",
       "      <td>2</td>\n",
       "      <td>550.0</td>\n",
       "      <td>0.000000</td>\n",
       "      <td>0.000000</td>\n",
       "      <td>0.000000</td>\n",
       "    </tr>\n",
       "    <tr>\n",
       "      <td>3</td>\n",
       "      <td>350.0</td>\n",
       "      <td>0.000000</td>\n",
       "      <td>0.000000</td>\n",
       "      <td>0.000000</td>\n",
       "    </tr>\n",
       "    <tr>\n",
       "      <td>4</td>\n",
       "      <td>350.0</td>\n",
       "      <td>0.000000</td>\n",
       "      <td>0.000000</td>\n",
       "      <td>0.000000</td>\n",
       "    </tr>\n",
       "    <tr>\n",
       "      <td>5</td>\n",
       "      <td>60.0</td>\n",
       "      <td>0.000000</td>\n",
       "      <td>0.000000</td>\n",
       "      <td>0.000000</td>\n",
       "    </tr>\n",
       "    <tr>\n",
       "      <td>6</td>\n",
       "      <td>120.0</td>\n",
       "      <td>0.000000</td>\n",
       "      <td>0.000000</td>\n",
       "      <td>0.000000</td>\n",
       "    </tr>\n",
       "    <tr>\n",
       "      <td>7</td>\n",
       "      <td>170.0</td>\n",
       "      <td>0.000000</td>\n",
       "      <td>0.000000</td>\n",
       "      <td>0.000000</td>\n",
       "    </tr>\n",
       "    <tr>\n",
       "      <td>8</td>\n",
       "      <td>120.0</td>\n",
       "      <td>0.000000</td>\n",
       "      <td>0.000000</td>\n",
       "      <td>0.000000</td>\n",
       "    </tr>\n",
       "    <tr>\n",
       "      <td>9</td>\n",
       "      <td>120.0</td>\n",
       "      <td>0.000000</td>\n",
       "      <td>0.000000</td>\n",
       "      <td>0.000000</td>\n",
       "    </tr>\n",
       "    <tr>\n",
       "      <td>10</td>\n",
       "      <td>170.0</td>\n",
       "      <td>0.000000</td>\n",
       "      <td>0.000000</td>\n",
       "      <td>0.000000</td>\n",
       "    </tr>\n",
       "    <tr>\n",
       "      <td>11</td>\n",
       "      <td>220.0</td>\n",
       "      <td>2.223919</td>\n",
       "      <td>153.778365</td>\n",
       "      <td>0.947268</td>\n",
       "    </tr>\n",
       "    <tr>\n",
       "      <td>12</td>\n",
       "      <td>220.0</td>\n",
       "      <td>2.244143</td>\n",
       "      <td>151.124828</td>\n",
       "      <td>0.529848</td>\n",
       "    </tr>\n",
       "    <tr>\n",
       "      <td>13</td>\n",
       "      <td>220.0</td>\n",
       "      <td>1.884655</td>\n",
       "      <td>152.606460</td>\n",
       "      <td>0.270365</td>\n",
       "    </tr>\n",
       "    <tr>\n",
       "      <td>15</td>\n",
       "      <td>69.0</td>\n",
       "      <td>4.669977</td>\n",
       "      <td>127.716692</td>\n",
       "      <td>0.092302</td>\n",
       "    </tr>\n",
       "    <tr>\n",
       "      <td>17</td>\n",
       "      <td>15.0</td>\n",
       "      <td>2.421714</td>\n",
       "      <td>135.232040</td>\n",
       "      <td>0.034467</td>\n",
       "    </tr>\n",
       "    <tr>\n",
       "      <td>18</td>\n",
       "      <td>6.0</td>\n",
       "      <td>2.363978</td>\n",
       "      <td>306.757653</td>\n",
       "      <td>0.109881</td>\n",
       "    </tr>\n",
       "    <tr>\n",
       "      <td>19</td>\n",
       "      <td>12.0</td>\n",
       "      <td>1.402870</td>\n",
       "      <td>313.641258</td>\n",
       "      <td>0.094515</td>\n",
       "    </tr>\n",
       "  </tbody>\n",
       "</table>\n",
       "</div>"
      ],
      "text/plain": [
       "    Cathode \\nThickness [µm]         n           Q       tau\n",
       "0                      500.0  1.302511  106.109020  0.485641\n",
       "1                      500.0  1.171666  105.112479  0.487356\n",
       "2                      550.0  0.000000    0.000000  0.000000\n",
       "3                      350.0  0.000000    0.000000  0.000000\n",
       "4                      350.0  0.000000    0.000000  0.000000\n",
       "5                       60.0  0.000000    0.000000  0.000000\n",
       "6                      120.0  0.000000    0.000000  0.000000\n",
       "7                      170.0  0.000000    0.000000  0.000000\n",
       "8                      120.0  0.000000    0.000000  0.000000\n",
       "9                      120.0  0.000000    0.000000  0.000000\n",
       "10                     170.0  0.000000    0.000000  0.000000\n",
       "11                     220.0  2.223919  153.778365  0.947268\n",
       "12                     220.0  2.244143  151.124828  0.529848\n",
       "13                     220.0  1.884655  152.606460  0.270365\n",
       "15                      69.0  4.669977  127.716692  0.092302\n",
       "17                      15.0  2.421714  135.232040  0.034467\n",
       "18                       6.0  2.363978  306.757653  0.109881\n",
       "19                      12.0  1.402870  313.641258  0.094515"
      ]
     },
     "execution_count": 4,
     "metadata": {},
     "output_type": "execute_result"
    }
   ],
   "source": [
    "df = df[{'n','tau','Q','Cathode \\nThickness [µm]'}]\n",
    "df = df.dropna() #drop all rows with Nan\n",
    "df"
   ]
  },
  {
   "cell_type": "markdown",
   "metadata": {},
   "source": [
    "## Pearson Correlation Testing"
   ]
  },
  {
   "cell_type": "code",
   "execution_count": 5,
   "metadata": {},
   "outputs": [],
   "source": [
    "# Set variables\n",
    "n = df['n'].values\n",
    "tau = df['tau'].values\n",
    "L = df['Cathode \\nThickness [µm]'].values"
   ]
  },
  {
   "cell_type": "code",
   "execution_count": 6,
   "metadata": {},
   "outputs": [
    {
     "name": "stdout",
     "output_type": "stream",
     "text": [
      "pearson correlation betweeen the input variables is 0.42 with p value 0.08\n",
      "Accept null hypothesis. The linear correlation  is statistically insignificant\n",
      "pearson correlation betweeen the input variables is -0.28 with p value 0.26\n",
      "Accept null hypothesis. The linear correlation  is statistically insignificant\n",
      "pearson correlation betweeen the input variables is 0.30 with p value 0.22\n",
      "Accept null hypothesis. The linear correlation  is statistically insignificant\n"
     ]
    },
    {
     "data": {
      "text/plain": [
       "(0.3016291208169951, 0.22382698382668378)"
      ]
     },
     "execution_count": 6,
     "metadata": {},
     "output_type": "execute_result"
    }
   ],
   "source": [
    "# Pearson correlation\n",
    "correlationtest.correlation_hypothesis(n,tau,0.05)\n",
    "correlationtest.correlation_hypothesis(n,L,0.05)\n",
    "correlationtest.correlation_hypothesis(tau,L,0.05)"
   ]
  },
  {
   "cell_type": "markdown",
   "metadata": {},
   "source": [
    "## Spearman Correlation\n",
    "Unlike Pearson correlation, Spearman correlation does not require the input sample to be normally distributed."
   ]
  },
  {
   "cell_type": "code",
   "execution_count": 7,
   "metadata": {
    "scrolled": false
   },
   "outputs": [
    {
     "name": "stdout",
     "output_type": "stream",
     "text": [
      "spearman correlation betweeen the input variables is 0.79 with p value 0.00\n",
      "Reject null hypothesis.The linear correlation is statistically significant\n",
      "spearman correlation betweeen the input variables is -0.31 with p value 0.22\n",
      "Accept null hypothesis. The linear correlation  is statistically insignificant\n",
      "spearman correlation betweeen the input variables is 0.12 with p value 0.65\n",
      "Accept null hypothesis. The linear correlation  is statistically insignificant\n"
     ]
    },
    {
     "data": {
      "text/plain": [
       "(0.1153179038718819, 0.6486389665584609)"
      ]
     },
     "execution_count": 7,
     "metadata": {},
     "output_type": "execute_result"
    }
   ],
   "source": [
    "# Spearman correlation\n",
    "correlationtest.correlation_hypothesis(n,tau,0.05,test='spearman')\n",
    "correlationtest.correlation_hypothesis(n,L,0.05,test='spearman')\n",
    "correlationtest.correlation_hypothesis(tau,L,0.05,test='spearman')"
   ]
  },
  {
   "cell_type": "markdown",
   "metadata": {},
   "source": [
    "## Calculate and plot linear regression line\n",
    "See [scipy.stats.linregress](https://docs.scipy.org/doc/scipy/reference/generated/scipy.stats.linregress.html) for more information on the linear regression method."
   ]
  },
  {
   "cell_type": "code",
   "execution_count": 8,
   "metadata": {},
   "outputs": [
    {
     "name": "stdout",
     "output_type": "stream",
     "text": [
      "Slope is 0.08508011139259547\n",
      "Intercept is 0.0764891692182361\n",
      "Standard deviation is 0.04583201696998732\n"
     ]
    },
    {
     "data": {
      "image/png": "[encoded data removed]",
      "text/plain": [
       "<Figure size 720x576 with 1 Axes>"
      ]
     },
     "metadata": {
      "needs_background": "light"
     },
     "output_type": "display_data"
    }
   ],
   "source": [
    "slope, intercept, stderr = correlationtest.plot_linear_regression(n, tau)\n",
    "print('Slope is', slope)\n",
    "print('Intercept is', intercept)\n",
    "print('Standard deviation is', stderr)"
   ]
  },
  {
   "cell_type": "markdown",
   "metadata": {},
   "source": [
    "## Identify outlier data points that contribute the most to the standard error\n",
    "This is an exmaple usage of the outlier detection function if one suspects there is a linear relationship between the parameters they are studying and that there are outliers in their data. They can assign the number of outliers in this functions."
   ]
  },
  {
   "cell_type": "code",
   "execution_count": 9,
   "metadata": {},
   "outputs": [
    {
     "name": "stdout",
     "output_type": "stream",
     "text": [
      "original std error is 0.04583201696998732\n",
      "Detect outlier at position x= 2.223919256018393 y= 0.9472680583112575\n",
      "Detect outlier at position x= 1.171665551234814 y= 0.4873564814643752\n",
      "Detect outlier at position x= 1.302511465362866 y= 0.4856405600758227\n",
      "Detect outlier at position x= 2.244143484104387 y= 0.5298482565860553\n",
      "Detect outlier at position x= 1.884655015831774 y= 0.2703646303441631\n",
      "new std error is 0.004965203881585425\n"
     ]
    },
    {
     "data": {
      "image/png": "[encoded data removed]",
      "text/plain": [
       "<Figure size 720x576 with 1 Axes>"
      ]
     },
     "metadata": {
      "needs_background": "light"
     },
     "output_type": "display_data"
    }
   ],
   "source": [
    "x_no_outliers, y_no_outliers = correlationtest.linear_outliers(n,tau,5)\n",
    "plt.savefig('correlation_test_example.png', dpi=200)"
   ]
  },
  {
   "cell_type": "code",
   "execution_count": null,
   "metadata": {},
   "outputs": [],
   "source": []
  }
 ],
 "metadata": {
  "kernelspec": {
   "display_name": "Python 3",
   "language": "python",
   "name": "python3"
  },
  "language_info": {
   "codemirror_mode": {
    "name": "ipython",
    "version": 3
   },
   "file_extension": ".py",
   "mimetype": "text/x-python",
   "name": "python",
   "nbconvert_exporter": "python",
   "pygments_lexer": "ipython3",
   "version": "3.7.4"
  }
 },
 "nbformat": 4,
 "nbformat_minor": 5
}
