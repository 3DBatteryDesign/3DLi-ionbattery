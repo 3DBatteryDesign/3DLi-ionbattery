{
 "cells": [
  {
   "cell_type": "code",
   "execution_count": 1,
   "metadata": {},
   "outputs": [
    {
     "name": "stdout",
     "output_type": "stream",
     "text": [
      "Hello world\n"
     ]
    }
   ],
   "source": [
    "print('Hello world')"
   ]
  },
  {
   "cell_type": "markdown",
   "metadata": {},
   "source": [
    "### Psuedocode\n",
    "A curve fitting procedure to determine the discharge rate constant, the n factor for the discharge rate, and the specific capacity. We use the model outlined by *R. Tian & S. Park et. al.* https://www.nature.com/articles/s41467-019-09792-9"
   ]
  },
  {
   "cell_type": "code",
   "execution_count": 2,
   "metadata": {},
   "outputs": [],
   "source": [
    "    import math\n",
    "    import numpy as np\n",
    "\n",
    "    import pandas as pd\n",
    "    import scipy\n",
    "    from scipy.optimize import curve_fit\n",
    "\n",
    "\n",
    "    def fit3DliIB(filepath, params0):\n",
    "        '''\n",
    "        A curve fitting procedure to determine the discharge\n",
    "        rate constant, the n factor for the discharge rate,\n",
    "        and the specific capacity. We use the model outlined\n",
    "        by *R. Tian & S. Park et. al.*\n",
    "        https://www.nature.com/articles/s41467-019-09792-9\n",
    "        Input Arguments\n",
    "        filepath : string, to filepath (csv format)\n",
    "                   first column is xdata, second, ydata\n",
    "        params0 : 1 by 3 numpy array, with elemets, tau (the\n",
    "        characteristic lifetime), n (the rate discharge coef-\n",
    "        ficient), and Q the specific capacity\n",
    "        Output Argument\n",
    "        Return the optimized parameters tau, n, Qcapacity\n",
    "        '''\n",
    "        # import data\n",
    "        pd.read_csv(filepath)\n",
    "        Rdischarge = dframe.iloc[: , 0].to_numpy()\n",
    "        normQdata = dframe.iloc[: , 1].to_numpy()\n",
    "  \n",
    "        # Fit procedure\n",
    "        popt, pcov = curve_fit(fitfunc, Rdischarge, normQdata, p0=params0)\n",
    "        return popt"
   ]
  },
  {
   "cell_type": "code",
   "execution_count": 3,
   "metadata": {},
   "outputs": [],
   "source": [
    "        # define fit function\n",
    "        def fitfunc(Rdischarge, tau, n, Qcapacity):\n",
    "            '''\n",
    "            Capacity versus rate discharge model outlined by\n",
    "            https://www.nature.com/articles/s41467-019-09792-9\n",
    "            '''\n",
    "            normQ \\\n",
    "             = Qcapacity * \\\n",
    "               (1 - (Rdischarge * tau)**n * \\\n",
    "               (1 - np.exp( - (Rdischarge * tau)**( - n)))\n",
    "               )\n",
    "            return normQ"
   ]
  },
  {
   "cell_type": "markdown",
   "metadata": {},
   "source": [
    "## Demo of Curve fit Method\n",
    "A curve fitting procedure to determine the discharge rate constant, the n factor for the discharge rate, and the specific capacity. We use the model outlined by *R. Tian & S. Park et. al.* https://www.nature.com/articles/s41467-019-09792-9"
   ]
  },
  {
   "cell_type": "code",
   "execution_count": 4,
   "metadata": {},
   "outputs": [],
   "source": [
    "import pandas as pd\n",
    "import math\n",
    "import numpy as np\n",
    "import matplotlib\n",
    "import matplotlib.pyplot as plt\n",
    "from scipy.optimize import curve_fit\n",
    "\n",
    "%matplotlib inline\n",
    "matplotlib.rcParams.update({'font.size': 20})"
   ]
  },
  {
   "cell_type": "code",
   "execution_count": 5,
   "metadata": {},
   "outputs": [
    {
     "data": {
      "text/plain": [
       "Index(['C rate', 'Capacity (mAh/g)'], dtype='object')"
      ]
     },
     "execution_count": 5,
     "metadata": {},
     "output_type": "execute_result"
    }
   ],
   "source": [
    "filepath = './3dLiIBattery/data/capacityratepaper1set1.csv'\n",
    "dframe = pd.read_csv(filepath)\n",
    "xdata = dframe.iloc[: , 0].to_numpy()\n",
    "ydata = dframe.iloc[: , 1].to_numpy()\n",
    "dframe.columns"
   ]
  },
  {
   "cell_type": "code",
   "execution_count": 6,
   "metadata": {},
   "outputs": [
    {
     "data": {
      "text/html": [
       "<div>\n",
       "<style scoped>\n",
       "    .dataframe tbody tr th:only-of-type {\n",
       "        vertical-align: middle;\n",
       "    }\n",
       "\n",
       "    .dataframe tbody tr th {\n",
       "        vertical-align: top;\n",
       "    }\n",
       "\n",
       "    .dataframe thead th {\n",
       "        text-align: right;\n",
       "    }\n",
       "</style>\n",
       "<table border=\"1\" class=\"dataframe\">\n",
       "  <thead>\n",
       "    <tr style=\"text-align: right;\">\n",
       "      <th></th>\n",
       "      <th>C rate</th>\n",
       "      <th>Capacity (mAh/g)</th>\n",
       "    </tr>\n",
       "  </thead>\n",
       "  <tbody>\n",
       "    <tr>\n",
       "      <th>0</th>\n",
       "      <td>0.026661</td>\n",
       "      <td>110.350768</td>\n",
       "    </tr>\n",
       "    <tr>\n",
       "      <th>1</th>\n",
       "      <td>0.147635</td>\n",
       "      <td>99.595634</td>\n",
       "    </tr>\n",
       "    <tr>\n",
       "      <th>2</th>\n",
       "      <td>0.279776</td>\n",
       "      <td>96.285964</td>\n",
       "    </tr>\n",
       "    <tr>\n",
       "      <th>3</th>\n",
       "      <td>0.566392</td>\n",
       "      <td>85.000231</td>\n",
       "    </tr>\n",
       "    <tr>\n",
       "      <th>4</th>\n",
       "      <td>0.838584</td>\n",
       "      <td>75.122293</td>\n",
       "    </tr>\n",
       "  </tbody>\n",
       "</table>\n",
       "</div>"
      ],
      "text/plain": [
       "     C rate  Capacity (mAh/g)\n",
       "0  0.026661        110.350768\n",
       "1  0.147635         99.595634\n",
       "2  0.279776         96.285964\n",
       "3  0.566392         85.000231\n",
       "4  0.838584         75.122293"
      ]
     },
     "execution_count": 6,
     "metadata": {},
     "output_type": "execute_result"
    }
   ],
   "source": [
    "dframe.head()"
   ]
  },
  {
   "cell_type": "markdown",
   "metadata": {},
   "source": [
    "### Implementation of fit3DliIB procedure as curvefit module and Visulize optimized parameters"
   ]
  },
  {
   "cell_type": "code",
   "execution_count": 7,
   "metadata": {},
   "outputs": [],
   "source": [
    "# parameters\n",
    "tau = 0.5; n = 1; Qcapacity = 100;\n",
    "params0 = [tau, n, Qcapacity]  # intial guess parameter\n",
    "popt = fit3DliIB(filepath, params0)"
   ]
  },
  {
   "cell_type": "code",
   "execution_count": 8,
   "metadata": {
    "scrolled": true
   },
   "outputs": [
    {
     "data": {
      "text/plain": [
       "<matplotlib.legend.Legend at 0x7f9397245880>"
      ]
     },
     "execution_count": 8,
     "metadata": {},
     "output_type": "execute_result"
    },
    {
     "data": {
      "image/png": "[encoded data removed]",
      "text/plain": [
       "<Figure size 720x360 with 1 Axes>"
      ]
     },
     "metadata": {
      "needs_background": "light"
     },
     "output_type": "display_data"
    }
   ],
   "source": [
    "### Visualize Result with optimized parameters\n",
    "tau = popt[0]\n",
    "n = popt[1]\n",
    "specificcapacity = popt[2]\n",
    "Rdischarge = xdata\n",
    "normQopt = fitfunc(Rdischarge, tau, n, specificcapacity)\n",
    "\n",
    "fig = plt.figure(figsize=(10, 5))\n",
    "ax = fig.subplots()\n",
    "ax.plot(Rdischarge, normQopt, '.-', label='lsqcurvefit')\n",
    "ax.plot(xdata, ydata, label='data')\n",
    "ax.set_xlabel('Rate discharge')\n",
    "ax.set_ylabel('Normalized Capacity')\n",
    "ax.legend()"
   ]
  },
  {
   "cell_type": "code",
   "execution_count": null,
   "metadata": {},
   "outputs": [],
   "source": []
  },
  {
   "cell_type": "code",
   "execution_count": null,
   "metadata": {},
   "outputs": [],
   "source": []
  }
 ],
 "metadata": {
  "kernelspec": {
   "display_name": "3dLiIbattery",
   "language": "python",
   "name": "3dliibattery"
  },
  "language_info": {
   "codemirror_mode": {
    "name": "ipython",
    "version": 3
   },
   "file_extension": ".py",
   "mimetype": "text/x-python",
   "name": "python",
   "nbconvert_exporter": "python",
   "pygments_lexer": "ipython3",
   "version": "3.8.8"
  }
 },
 "nbformat": 4,
 "nbformat_minor": 4
}
