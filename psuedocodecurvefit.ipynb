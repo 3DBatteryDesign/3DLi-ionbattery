{
 "cells": [
  {
   "cell_type": "code",
   "execution_count": 1,
   "metadata": {},
   "outputs": [
    {
     "name": "stdout",
     "output_type": "stream",
     "text": [
      "Hello world\n"
     ]
    }
   ],
   "source": [
    "print('Hello world')"
   ]
  },
  {
   "cell_type": "markdown",
   "metadata": {},
   "source": [
    "#### Psuedocode\n",
    "A curve fitting procedure to determine the discharge rate constant, the n factor for the discharge rate, and the specific capacity. We use the model outlined by *R. Tian & S. Park et. al.* https://www.nature.com/articles/s41467-019-09792-9\n",
    "\n",
    "    import math\n",
    "    import numpy as np\n",
    "\n",
    "    import pandas as pd\n",
    "    import scipy\n",
    "\n",
    "\n",
    "    def curvefit(filepath):\n",
    "        '''\n",
    "        A curve fitting procedure to determine the discharge\n",
    "        rate constant, the n factor for the discharge rate,\n",
    "        and the specific capacity. We use the model outlined\n",
    "        by *R. Tian & S. Park et. al.*\n",
    "        https://www.nature.com/articles/s41467-019-09792-9\n",
    "        '''\n",
    "        # import data\n",
    "        pd.read_csv(filepath)\n",
    "        Rdischarge = dframe.columns[0].to_numpy()\n",
    "        capacity = dframe.columns[1].to_numpy()\n",
    "\n",
    "        # define fit function\n",
    "        def fitfunc(Rdischarge, capacity, beta):\n",
    "            '''\n",
    "            Capacity versus rate discharge model outlined by\n",
    "            https://www.nature.com/articles/s41467-019-09792-9\n",
    "            '''\n",
    "            beta[0] = tau\n",
    "            beta[1] = n\n",
    "            beta[2] = specificcapacity\n",
    "            normcapacity \\\n",
    "             = specificcapcity * \\\n",
    "               [1 - (Ratedischarge * tau)**n * \\\n",
    "               (1 - math.exp( - (Ratedischarge * tau)**( - n)))\n",
    "            ]\n",
    "            return normcapacity\n",
    "   \n",
    "        #"
   ]
  },
  {
   "cell_type": "code",
   "execution_count": 24,
   "metadata": {},
   "outputs": [],
   "source": [
    "import pandas as pd\n",
    "import math\n",
    "import numpy as np\n",
    "import matplotlib.pyplot as plt"
   ]
  },
  {
   "cell_type": "code",
   "execution_count": 3,
   "metadata": {},
   "outputs": [
    {
     "data": {
      "text/plain": [
       "Index(['C rate', 'Capacity (mAh/g)'], dtype='object')"
      ]
     },
     "execution_count": 3,
     "metadata": {},
     "output_type": "execute_result"
    }
   ],
   "source": [
    "filepath = './3dLiIBattery/data/capacityratepaper1set1.csv'\n",
    "dframe = pd.read_csv(filepath)\n",
    "dframe.columns"
   ]
  },
  {
   "cell_type": "code",
   "execution_count": 4,
   "metadata": {},
   "outputs": [
    {
     "data": {
      "text/html": [
       "<div>\n",
       "<style scoped>\n",
       "    .dataframe tbody tr th:only-of-type {\n",
       "        vertical-align: middle;\n",
       "    }\n",
       "\n",
       "    .dataframe tbody tr th {\n",
       "        vertical-align: top;\n",
       "    }\n",
       "\n",
       "    .dataframe thead th {\n",
       "        text-align: right;\n",
       "    }\n",
       "</style>\n",
       "<table border=\"1\" class=\"dataframe\">\n",
       "  <thead>\n",
       "    <tr style=\"text-align: right;\">\n",
       "      <th></th>\n",
       "      <th>C rate</th>\n",
       "      <th>Capacity (mAh/g)</th>\n",
       "    </tr>\n",
       "  </thead>\n",
       "  <tbody>\n",
       "    <tr>\n",
       "      <th>0</th>\n",
       "      <td>0.026661</td>\n",
       "      <td>110.350768</td>\n",
       "    </tr>\n",
       "    <tr>\n",
       "      <th>1</th>\n",
       "      <td>0.147635</td>\n",
       "      <td>99.595634</td>\n",
       "    </tr>\n",
       "    <tr>\n",
       "      <th>2</th>\n",
       "      <td>0.279776</td>\n",
       "      <td>96.285964</td>\n",
       "    </tr>\n",
       "    <tr>\n",
       "      <th>3</th>\n",
       "      <td>0.566392</td>\n",
       "      <td>85.000231</td>\n",
       "    </tr>\n",
       "    <tr>\n",
       "      <th>4</th>\n",
       "      <td>0.838584</td>\n",
       "      <td>75.122293</td>\n",
       "    </tr>\n",
       "  </tbody>\n",
       "</table>\n",
       "</div>"
      ],
      "text/plain": [
       "     C rate  Capacity (mAh/g)\n",
       "0  0.026661        110.350768\n",
       "1  0.147635         99.595634\n",
       "2  0.279776         96.285964\n",
       "3  0.566392         85.000231\n",
       "4  0.838584         75.122293"
      ]
     },
     "execution_count": 4,
     "metadata": {},
     "output_type": "execute_result"
    }
   ],
   "source": [
    "dframe.head()"
   ]
  },
  {
   "cell_type": "code",
   "execution_count": 6,
   "metadata": {},
   "outputs": [],
   "source": [
    "rate = dframe.columns[0]\n",
    "capacity = dframe.columns[1]\n",
    "x = dframe[rate].to_numpy()\n",
    "y = dframe[capacity].to_numpy()"
   ]
  },
  {
   "cell_type": "code",
   "execution_count": 45,
   "metadata": {},
   "outputs": [],
   "source": [
    "        # define fit function\n",
    "        def fitfunc(Rdischarge, beta):\n",
    "            '''\n",
    "            Capacity versus rate discharge model outlined by\n",
    "            https://www.nature.com/articles/s41467-019-09792-9\n",
    "            '''\n",
    "            tau = beta[0]\n",
    "            n = beta[1]\n",
    "            specificcapacity= beta[2]\n",
    "            normcapacity \\\n",
    "             = specificcapacity * \\\n",
    "               [1 - np.multiply((np.power((Rdischarge * tau), n)), \\\n",
    "               (1 - np.exp( - np.power((Rdischarge * tau), ( - n)))))\n",
    "            ]\n",
    "            return normcapacity"
   ]
  },
  {
   "cell_type": "code",
   "execution_count": 63,
   "metadata": {},
   "outputs": [],
   "source": [
    "beta = [0.2, 0.5, 80]\n",
    "Rdischarge = x\n",
    "normQ = fitfunc(Rdischarge, beta)\n",
    "normQ;"
   ]
  },
  {
   "cell_type": "code",
   "execution_count": 62,
   "metadata": {},
   "outputs": [
    {
     "data": {
      "text/plain": [
       "[<matplotlib.lines.Line2D at 0x7fca5ca76a00>]"
      ]
     },
     "execution_count": 62,
     "metadata": {},
     "output_type": "execute_result"
    },
    {
     "data": {
      "image/png": "[encoded data removed]",
      "text/plain": [
       "<Figure size 432x288 with 1 Axes>"
      ]
     },
     "metadata": {
      "needs_background": "light"
     },
     "output_type": "display_data"
    }
   ],
   "source": [
    "plt.plot(x, y)\n",
    "# plt.plot(Rdischarge, normQ)"
   ]
  },
  {
   "cell_type": "code",
   "execution_count": 44,
   "metadata": {},
   "outputs": [
    {
     "data": {
      "text/plain": [
       "array([0.92697864, 0.82867602, 0.76690261, 0.68067852, 0.62609832,\n",
       "       0.55019093, 0.44777854])"
      ]
     },
     "execution_count": 44,
     "metadata": {},
     "output_type": "execute_result"
    }
   ],
   "source": [
    "1 - np.multiply((np.power((Rdischarge * 0.2), 0.5)), \\\n",
    "               (1 - np.exp( - np.power((Rdischarge * 0.2), ( - 0.5)))))"
   ]
  },
  {
   "cell_type": "code",
   "execution_count": 47,
   "metadata": {},
   "outputs": [
    {
     "data": {
      "text/plain": [
       "[array([0.92697864, 0.82867602, 0.76690261, 0.68067852, 0.62609832,\n",
       "        0.55019093, 0.44777854])]"
      ]
     },
     "execution_count": 47,
     "metadata": {},
     "output_type": "execute_result"
    }
   ],
   "source": [
    "[1 - np.multiply((np.power((Rdischarge * 0.2), 0.5)), \\\n",
    "               (1 - np.exp( - np.power((Rdischarge * 0.2), ( - 0.5)))))\n",
    "            ]"
   ]
  },
  {
   "cell_type": "code",
   "execution_count": 58,
   "metadata": {},
   "outputs": [],
   "source": [
    "normcapacity  = 80 * [1 - np.multiply((np.power((Rdischarge * 0.2), 0.5)), \\\n",
    "               (1 - np.exp( - np.power((Rdischarge * 0.2), ( - 0.5)))))]"
   ]
  },
  {
   "cell_type": "code",
   "execution_count": 61,
   "metadata": {},
   "outputs": [
    {
     "data": {
      "text/plain": [
       "560"
      ]
     },
     "execution_count": 61,
     "metadata": {},
     "output_type": "execute_result"
    }
   ],
   "source": [
    "np.size(normcapacity)"
   ]
  },
  {
   "cell_type": "code",
   "execution_count": null,
   "metadata": {},
   "outputs": [],
   "source": []
  }
 ],
 "metadata": {
  "kernelspec": {
   "display_name": "3dLiIbattery",
   "language": "python",
   "name": "3dliibattery"
  },
  "language_info": {
   "codemirror_mode": {
    "name": "ipython",
    "version": 3
   },
   "file_extension": ".py",
   "mimetype": "text/x-python",
   "name": "python",
   "nbconvert_exporter": "python",
   "pygments_lexer": "ipython3",
   "version": "3.8.8"
  }
 },
 "nbformat": 4,
 "nbformat_minor": 4
}
